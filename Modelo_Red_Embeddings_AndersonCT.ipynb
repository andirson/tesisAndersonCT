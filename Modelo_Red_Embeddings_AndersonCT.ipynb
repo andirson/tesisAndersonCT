{
  "nbformat": 4,
  "nbformat_minor": 0,
  "metadata": {
    "colab": {
      "provenance": []
    },
    "kernelspec": {
      "name": "python3",
      "display_name": "Python 3"
    },
    "language_info": {
      "name": "python"
    },
    "gpuClass": "standard",
    "accelerator": "GPU"
  },
  "cells": [
    {
      "cell_type": "markdown",
      "source": [
        "# Modelo sobre deserción para trabajo de grado Maestría en Ciencia de Datos"
      ],
      "metadata": {
        "id": "7MQwF3j_PFRt"
      }
    },
    {
      "cell_type": "markdown",
      "source": [
        "El siguiente codigo se emplea para generar una red neuronal con pytorch, con variables categoricas, mediante el uso de embeddings. Como base, se utiliza el codigo de la pagina https://jretamales.github.io/2019-01-29-embeddings_101/, denominado \"Embeddins con Pytorch\" elaborado por Jorge Retamales en el 2019. Ademas se reutiliza codigos vistos en clases de Fundamentos de Analítica, con el profesor Javier Diaz, Universidad Icesi, para los procesos de optimización de parámetros y creación de funciones."
      ],
      "metadata": {
        "id": "HdTohbiaCz3R"
      }
    },
    {
      "cell_type": "markdown",
      "source": [
        "## Paquetes a instalar"
      ],
      "metadata": {
        "id": "r8lajPz5POw2"
      }
    },
    {
      "cell_type": "code",
      "source": [
        "!pip install adjustText\n",
        "!pip install prettytable\n",
        "!pip install bayesian-optimization"
      ],
      "metadata": {
        "colab": {
          "base_uri": "https://localhost:8080/"
        },
        "id": "KWetLyRZ70WZ",
        "outputId": "70383257-955d-48ee-b2de-8f8221f9513a"
      },
      "execution_count": null,
      "outputs": [
        {
          "output_type": "stream",
          "name": "stdout",
          "text": [
            "Looking in indexes: https://pypi.org/simple, https://us-python.pkg.dev/colab-wheels/public/simple/\n",
            "Requirement already satisfied: adjustText in /usr/local/lib/python3.10/dist-packages (0.8)\n",
            "Requirement already satisfied: numpy in /usr/local/lib/python3.10/dist-packages (from adjustText) (1.22.4)\n",
            "Requirement already satisfied: matplotlib in /usr/local/lib/python3.10/dist-packages (from adjustText) (3.7.1)\n",
            "Requirement already satisfied: contourpy>=1.0.1 in /usr/local/lib/python3.10/dist-packages (from matplotlib->adjustText) (1.0.7)\n",
            "Requirement already satisfied: cycler>=0.10 in /usr/local/lib/python3.10/dist-packages (from matplotlib->adjustText) (0.11.0)\n",
            "Requirement already satisfied: fonttools>=4.22.0 in /usr/local/lib/python3.10/dist-packages (from matplotlib->adjustText) (4.39.3)\n",
            "Requirement already satisfied: kiwisolver>=1.0.1 in /usr/local/lib/python3.10/dist-packages (from matplotlib->adjustText) (1.4.4)\n",
            "Requirement already satisfied: packaging>=20.0 in /usr/local/lib/python3.10/dist-packages (from matplotlib->adjustText) (23.1)\n",
            "Requirement already satisfied: pillow>=6.2.0 in /usr/local/lib/python3.10/dist-packages (from matplotlib->adjustText) (8.4.0)\n",
            "Requirement already satisfied: pyparsing>=2.3.1 in /usr/local/lib/python3.10/dist-packages (from matplotlib->adjustText) (3.0.9)\n",
            "Requirement already satisfied: python-dateutil>=2.7 in /usr/local/lib/python3.10/dist-packages (from matplotlib->adjustText) (2.8.2)\n",
            "Requirement already satisfied: six>=1.5 in /usr/local/lib/python3.10/dist-packages (from python-dateutil>=2.7->matplotlib->adjustText) (1.16.0)\n",
            "Looking in indexes: https://pypi.org/simple, https://us-python.pkg.dev/colab-wheels/public/simple/\n",
            "Requirement already satisfied: prettytable in /usr/local/lib/python3.10/dist-packages (0.7.2)\n",
            "Looking in indexes: https://pypi.org/simple, https://us-python.pkg.dev/colab-wheels/public/simple/\n",
            "Requirement already satisfied: bayesian-optimization in /usr/local/lib/python3.10/dist-packages (1.4.3)\n",
            "Requirement already satisfied: numpy>=1.9.0 in /usr/local/lib/python3.10/dist-packages (from bayesian-optimization) (1.22.4)\n",
            "Requirement already satisfied: scipy>=1.0.0 in /usr/local/lib/python3.10/dist-packages (from bayesian-optimization) (1.10.1)\n",
            "Requirement already satisfied: scikit-learn>=0.18.0 in /usr/local/lib/python3.10/dist-packages (from bayesian-optimization) (1.2.2)\n",
            "Requirement already satisfied: colorama>=0.4.6 in /usr/local/lib/python3.10/dist-packages (from bayesian-optimization) (0.4.6)\n",
            "Requirement already satisfied: joblib>=1.1.1 in /usr/local/lib/python3.10/dist-packages (from scikit-learn>=0.18.0->bayesian-optimization) (1.2.0)\n",
            "Requirement already satisfied: threadpoolctl>=2.0.0 in /usr/local/lib/python3.10/dist-packages (from scikit-learn>=0.18.0->bayesian-optimization) (3.1.0)\n"
          ]
        }
      ]
    },
    {
      "cell_type": "code",
      "execution_count": null,
      "metadata": {
        "id": "Scx3LzTvO38F"
      },
      "outputs": [],
      "source": [
        "# Paquetes manejo de datos y otros\n",
        "import pandas as pd\n",
        "import numpy as np\n",
        "import random\n",
        "\n",
        "# Paquetes sklearn\n",
        "from sklearn import preprocessing\n",
        "from sklearn import model_selection\n",
        "from sklearn.manifold import TSNE\n",
        "\n",
        "# Paquetes para graficar\n",
        "%matplotlib inline\n",
        "import matplotlib.pyplot as plt\n",
        "from adjustText import adjust_text\n",
        "\n",
        "# Paquetes para redes neuronales con pytorch\n",
        "import torch\n",
        "import torch.nn as nn\n",
        "import torch.optim as optim\n",
        "from torch.utils.data import Dataset, TensorDataset, DataLoader\n",
        "\n",
        "# Paquete para modelo xgboost\n",
        "import xgboost as xgb\n",
        "\n",
        "# Paquete para medir tiempos de ejecución\n",
        "import time"
      ]
    },
    {
      "cell_type": "markdown",
      "source": [
        "# Semilla"
      ],
      "metadata": {
        "id": "9p-6kz9wyq63"
      }
    },
    {
      "cell_type": "markdown",
      "source": [
        "Se declara una semilla y se configura el entorno para ejecutar el codigo ya sea en CPU o GPU. Se recomienda su ejecución en un entorno con GPU debido a la disminución de tiempos de ejecución."
      ],
      "metadata": {
        "id": "olU-FxzbFwJF"
      }
    },
    {
      "cell_type": "code",
      "source": [
        "if torch.cuda.is_available():\n",
        "    print(\"Utilizamos la primera GPU disponible\")\n",
        "    DEVICE = torch.device('cuda:0')\n",
        "else:\n",
        "    print(\"No hay GPU, toca correr todo en CPU\")\n",
        "    DEVICE = torch.device('cpu')\n",
        "\n",
        "DEVICE"
      ],
      "metadata": {
        "colab": {
          "base_uri": "https://localhost:8080/"
        },
        "id": "OK0SMermypgM",
        "outputId": "60fd1b68-34f3-44e8-bc11-2c23e3f416ec"
      },
      "execution_count": null,
      "outputs": [
        {
          "output_type": "stream",
          "name": "stdout",
          "text": [
            "Utilizamos la primera GPU disponible\n"
          ]
        },
        {
          "output_type": "execute_result",
          "data": {
            "text/plain": [
              "device(type='cuda', index=0)"
            ]
          },
          "metadata": {},
          "execution_count": 25
        }
      ]
    },
    {
      "cell_type": "code",
      "source": [
        "def reset_seed():\n",
        "    random_seed = 42\n",
        "    torch.backends.cudnn.enabled = False\n",
        "    torch.manual_seed(random_seed)\n",
        "    np.random.seed(random_seed)\n",
        "    random.seed(random_seed)\n",
        "\n",
        "    if torch.cuda.is_available(): \n",
        "        torch.cuda.manual_seed(42)\n",
        "        torch.cuda.manual_seed_all(42)\n",
        "\n",
        "        torch.backends.cudnn.deterministic = True\n",
        "        torch.backends.cudnn.benchmark = False\n",
        "\n",
        "reset_seed()"
      ],
      "metadata": {
        "id": "YAajP8Xpysab"
      },
      "execution_count": null,
      "outputs": []
    },
    {
      "cell_type": "markdown",
      "source": [
        "# Carga de datos desde Drive"
      ],
      "metadata": {
        "id": "jXoOIPVmPRvR"
      }
    },
    {
      "cell_type": "markdown",
      "source": [
        "Por reserva de información, se presenta solamente un vistado a la estructura de los datos, mas no se carga ni da enlace a los datos de entrenamiento del modelo. Tambien se resalta el proceso previo de pretratamiento de datos y analisis exploratorio en notebooks diferentes."
      ],
      "metadata": {
        "id": "76_JnRz_GL09"
      }
    },
    {
      "cell_type": "code",
      "source": [
        "from google.colab import drive\n",
        "drive.mount('/content/drive/')"
      ],
      "metadata": {
        "colab": {
          "base_uri": "https://localhost:8080/"
        },
        "id": "bdk2qL-WPAEc",
        "outputId": "2ba16573-81ab-49db-f8c3-5587a38ef6db"
      },
      "execution_count": null,
      "outputs": [
        {
          "output_type": "stream",
          "name": "stdout",
          "text": [
            "Drive already mounted at /content/drive/; to attempt to forcibly remount, call drive.mount(\"/content/drive/\", force_remount=True).\n"
          ]
        }
      ]
    },
    {
      "cell_type": "code",
      "source": [
        "import pandas as pd\n",
        "\n",
        "# Leer el archivo parquet\n",
        "df_mat_des = pd.read_parquet('/content/drive/MyDrive/DatosTesisMCD/matricula_desercion6.parquet')"
      ],
      "metadata": {
        "id": "3j01jdaNPBSa"
      },
      "execution_count": null,
      "outputs": []
    },
    {
      "cell_type": "code",
      "source": [
        "df_mat_des.info()"
      ],
      "metadata": {
        "colab": {
          "base_uri": "https://localhost:8080/"
        },
        "id": "Gcu38mpfPqT0",
        "outputId": "cd24d651-c6bf-4c7d-c29e-21119c505cb5"
      },
      "execution_count": null,
      "outputs": [
        {
          "output_type": "stream",
          "name": "stdout",
          "text": [
            "<class 'pandas.core.frame.DataFrame'>\n",
            "Int64Index: 433713 entries, 0 to 232282\n",
            "Data columns (total 67 columns):\n",
            " #   Column                    Non-Null Count   Dtype         \n",
            "---  ------                    --------------   -----         \n",
            " 0   ANO_INF                   433713 non-null  object        \n",
            " 1   MUN_CODIGO                433713 non-null  object        \n",
            " 2   CODIGO_DANE               433713 non-null  object        \n",
            " 3   DANE_ANTERIOR             433713 non-null  object        \n",
            " 4   NOMBRE INSTITUCION        433713 non-null  object        \n",
            " 5   CONS_SEDE                 433713 non-null  object        \n",
            " 6   NOMBRE SEDE               433713 non-null  object        \n",
            " 7   COMUNA                    433713 non-null  object        \n",
            " 8   SECTOR                    433713 non-null  object        \n",
            " 9   ZONA                      433713 non-null  object        \n",
            " 10  TIPO_DOCUMENTO            433713 non-null  object        \n",
            " 11  NRO_DOCUMENTO             433713 non-null  object        \n",
            " 12  EXP_DEPTO                 433713 non-null  object        \n",
            " 13  EXP_MUN                   433713 non-null  object        \n",
            " 14  DIRECCION_RESIDENCIA      433713 non-null  object        \n",
            " 15  RES_DEPTO                 433713 non-null  object        \n",
            " 16  RES_MUN                   433713 non-null  object        \n",
            " 17  ESTRATO                   433713 non-null  object        \n",
            " 18  FECHA_NACIMIENTO          433713 non-null  datetime64[ns]\n",
            " 19  NAC_DEPTO                 433713 non-null  object        \n",
            " 20  NAC_MUN                   433713 non-null  object        \n",
            " 21  GENERO                    433713 non-null  object        \n",
            " 22  POB_VICT_CONF             433713 non-null  object        \n",
            " 23   PROVIENE_SECTOR_PRIV     433713 non-null  object        \n",
            " 24  PROVIENE_OTR_MUN          433713 non-null  object        \n",
            " 25  TIPO_DISCAPACIDAD         433713 non-null  object        \n",
            " 26  CAP_EXC                   433713 non-null  object        \n",
            " 27  ETNIA                     433713 non-null  object        \n",
            " 28  RES                       433713 non-null  object        \n",
            " 29  INS_FAMILIAR              433713 non-null  object        \n",
            " 30  TIPO_JORNADA              433713 non-null  object        \n",
            " 31  CARACTER                  433713 non-null  object        \n",
            " 32  ESPECIALIDAD              433713 non-null  object        \n",
            " 33  GRADO                     433713 non-null  object        \n",
            " 34  GRUPO                     433713 non-null  object        \n",
            " 35  METODOLOGIA               433713 non-null  object        \n",
            " 36  MATRICULA_CONTRATADA      433713 non-null  object        \n",
            " 37  REPITENTE                 433713 non-null  object        \n",
            " 38  NUEVO                     433713 non-null  object        \n",
            " 39  SIT_ACAD_ANO_ANT          433713 non-null  object        \n",
            " 40  CON_ALUM_ANO_ANT          433713 non-null  object        \n",
            " 41  FUE_RECU                  433713 non-null  object        \n",
            " 42  ZON_ALU                   433713 non-null  object        \n",
            " 43  CAB_FAMILIA               433713 non-null  object        \n",
            " 44  BEN_MAD_FLIA              433713 non-null  object        \n",
            " 45  BEN_VET_FP                433713 non-null  object        \n",
            " 46  BEN_HER_NAC               433713 non-null  object        \n",
            " 47  APOYO_ACADEMICO_ESPECIAL  433713 non-null  object        \n",
            " 48  SRPA                      433713 non-null  object        \n",
            " 49  PAIS_ORIGEN               433713 non-null  object        \n",
            " 50  DESERTOR                  433713 non-null  object        \n",
            " 51  NOMBRE                    433713 non-null  object        \n",
            " 52  EDAD                      433713 non-null  float64       \n",
            " 53  DISCAPACIDAD              433713 non-null  object        \n",
            " 54  COD_ETNIA                 433713 non-null  object        \n",
            " 55  CLASI_ETNIA               433713 non-null  object        \n",
            " 56  VICTIMA                   433713 non-null  object        \n",
            " 57  COD_GRADOS                433713 non-null  object        \n",
            " 58  GRADOS_NOMBRE             433713 non-null  object        \n",
            " 59  NIVEL_EDUCATIVO           433713 non-null  object        \n",
            " 60  COD_MUN                   433713 non-null  object        \n",
            " 61  CODIGO_MUNICIPIO          433713 non-null  object        \n",
            " 62  NOMBRE_MPIO               433713 non-null  object        \n",
            " 63  PAIS_RES                  433713 non-null  object        \n",
            " 64  MUNI_RESIDENCIA           433713 non-null  object        \n",
            " 65  CODI_PAIS                 433713 non-null  object        \n",
            " 66  PAIS_ABREV                433713 non-null  object        \n",
            "dtypes: datetime64[ns](1), float64(1), object(65)\n",
            "memory usage: 225.0+ MB\n"
          ]
        }
      ]
    },
    {
      "cell_type": "markdown",
      "source": [
        "# Ajustar variables"
      ],
      "metadata": {
        "id": "7L4X0ikAeSQZ"
      }
    },
    {
      "cell_type": "markdown",
      "source": [
        "Debido a que el objetivo de análsis son los estudiantes de educación basica primaria, secundaria y media, de las 94 IEO a cargo de la Secretaría de Educación, congregaciones religiosas y Ministerio de Defensa, se realiza un filtro bajo estas condiciones."
      ],
      "metadata": {
        "id": "LhVEHODbGnSn"
      }
    },
    {
      "cell_type": "code",
      "source": [
        "df_mat_des['DESERTOR'] = df_mat_des['DESERTOR'].replace({'SI': 1, 'NO': 0})"
      ],
      "metadata": {
        "id": "LvgAd7136zyQ"
      },
      "execution_count": null,
      "outputs": []
    },
    {
      "cell_type": "code",
      "source": [
        "## Sacar la matricula oficial cali por ieo, 94 IEO\n",
        "df = df_mat_des[\n",
        "    (df_mat_des.SECTOR.isin(['OFICIAL','SGP DEFENSA'])) &\n",
        "    (df_mat_des['MATRICULA_CONTRATADA'] == 'N') &\n",
        "    (df_mat_des.GRADO.isin(['1','2','3','4','5','6','7','8','9','10','11']))\n",
        "    ]\n",
        "\n",
        "print(\"La matricula oficial con\",df['NOMBRE INSTITUCION'].nunique(),\"es:\",len(df))"
      ],
      "metadata": {
        "colab": {
          "base_uri": "https://localhost:8080/"
        },
        "id": "5NIBatU48eRN",
        "outputId": "5aa09f91-ce56-44aa-e839-3d84ab88b062"
      },
      "execution_count": null,
      "outputs": [
        {
          "output_type": "stream",
          "name": "stdout",
          "text": [
            "La matricula oficial con 94 es: 284103\n"
          ]
        }
      ]
    },
    {
      "cell_type": "markdown",
      "source": [
        "# Ajuste en el dataframe\n",
        "Es necesario separar las variables categoricas de las continuas, dado que en el preprocesamiento a las categorias, se les aplicará codificación one hot encoding y embeddings y a las continuas una estandarización."
      ],
      "metadata": {
        "id": "qBzW70siebwV"
      }
    },
    {
      "cell_type": "code",
      "source": [
        "# Variables continuas\n",
        "contin_cols = ['EDAD', 'GRADO']\n",
        "\n",
        "# Convertimos a punto flotante las continuas\n",
        "for col in contin_cols:\n",
        "    df[col] = df[col].astype(float)\n",
        "\n",
        "N_CONT = len(contin_cols)\n",
        "N_CONT"
      ],
      "metadata": {
        "colab": {
          "base_uri": "https://localhost:8080/"
        },
        "id": "BCKDBNU65K0O",
        "outputId": "d90a0b07-77c9-49fa-e010-fe21356b9d3b"
      },
      "execution_count": null,
      "outputs": [
        {
          "output_type": "stream",
          "name": "stderr",
          "text": [
            "<ipython-input-34-4b8ea3b0d05d>:4: SettingWithCopyWarning: \n",
            "A value is trying to be set on a copy of a slice from a DataFrame.\n",
            "Try using .loc[row_indexer,col_indexer] = value instead\n",
            "\n",
            "See the caveats in the documentation: https://pandas.pydata.org/pandas-docs/stable/user_guide/indexing.html#returning-a-view-versus-a-copy\n",
            "  df[col] = df[col].astype(float)\n"
          ]
        },
        {
          "output_type": "execute_result",
          "data": {
            "text/plain": [
              "2"
            ]
          },
          "metadata": {},
          "execution_count": 34
        }
      ]
    },
    {
      "cell_type": "markdown",
      "source": [
        "Realziamos una prueba chi cuadrado, apra ver la relación de variables categoricas con la deserción, y así limitar el mdoeloa  als varibles más significativas."
      ],
      "metadata": {
        "id": "H282yqPLHIrQ"
      }
    },
    {
      "cell_type": "code",
      "source": [
        "from scipy.stats import chi2_contingency\n",
        "\n",
        "# Lista de variables categóricas\n",
        "var_cuali_chi = df_mat_des[['ZONA', 'NIVEL_EDUCATIVO', 'GENERO', 'CLASI_ETNIA','VICTIMA', 'PROVIENE_OTR_MUN', \n",
        "                                    'TIPO_JORNADA', 'REPITENTE', 'NUEVO', 'DISCAPACIDAD',\n",
        "                                    'SIT_ACAD_ANO_ANT', 'CON_ALUM_ANO_ANT', 'ZON_ALU', \n",
        "                                    'CAB_FAMILIA', 'APOYO_ACADEMICO_ESPECIAL', 'SRPA',  \n",
        "                                    'CAP_EXC', 'BEN_MAD_FLIA', 'MUNI_RESIDENCIA', 'NAC_MUN', 'COMUNA',\n",
        "                                    'TIPO_DISCAPACIDAD','PAIS_ABREV','ESTRATO']]\n",
        "\n",
        "# Lista de resultados\n",
        "resultados = []\n",
        "\n",
        "# Iterar sobre cada variable categórica y aplicar el test de chi-cuadrado\n",
        "for var in var_cuali_chi:\n",
        "    # Crear tabla de contingencia entre la variable y DESERCION\n",
        "    contingency_table = pd.crosstab(df_mat_des[var], df_mat_des[\"DESERTOR\"])\n",
        "    \n",
        "    # Aplicar test de chi-cuadrado\n",
        "    chi2, p, dof, expected = chi2_contingency(contingency_table)\n",
        "\n",
        "    # Agregar resultados a la lista\n",
        "    resultados.append({\"Variable\": var, \"Chi-cuadrado\": round(chi2, 2), \"Valor p\": round(p, 4)})\n",
        "\n",
        "# Convertir lista de resultados en un DataFrame\n",
        "resultados_df = pd.DataFrame(resultados)\n",
        "\n",
        "# Definir nivel de significancia\n",
        "nivel_significancia = 0.05\n",
        "\n",
        "# Agregar columna de significancia\n",
        "resultados_df[\"Significancia\"] = [\"SI\" if p < nivel_significancia else \"NO\" for p in resultados_df[\"Valor p\"]]\n",
        "\n",
        "# Mostrar resultados\n",
        "print(resultados_df)\n"
      ],
      "metadata": {
        "colab": {
          "base_uri": "https://localhost:8080/"
        },
        "id": "gi9WMv6V8oZg",
        "outputId": "95a2ec34-5d13-4834-9432-89d5aca9e13a"
      },
      "execution_count": null,
      "outputs": [
        {
          "output_type": "stream",
          "name": "stdout",
          "text": [
            "                    Variable  Chi-cuadrado  Valor p Significancia\n",
            "0                       ZONA          0.02   0.8753            NO\n",
            "1            NIVEL_EDUCATIVO       3151.29   0.0000            SI\n",
            "2                     GENERO        218.40   0.0000            SI\n",
            "3                CLASI_ETNIA         25.52   0.0003            SI\n",
            "4                    VICTIMA         21.08   0.0000            SI\n",
            "5           PROVIENE_OTR_MUN         12.46   0.0004            SI\n",
            "6               TIPO_JORNADA       2907.50   0.0000            SI\n",
            "7                  REPITENTE       2528.53   0.0000            SI\n",
            "8                      NUEVO        289.08   0.0000            SI\n",
            "9               DISCAPACIDAD          0.01   0.9246            NO\n",
            "10          SIT_ACAD_ANO_ANT       4226.60   0.0000            SI\n",
            "11          CON_ALUM_ANO_ANT        888.96   0.0000            SI\n",
            "12                   ZON_ALU         12.50   0.0004            SI\n",
            "13               CAB_FAMILIA         11.00   0.0009            SI\n",
            "14  APOYO_ACADEMICO_ESPECIAL         14.52   0.0001            SI\n",
            "15                      SRPA       2021.79   0.0000            SI\n",
            "16                   CAP_EXC          5.51   0.0190            SI\n",
            "17              BEN_MAD_FLIA          7.61   0.0058            SI\n",
            "18           MUNI_RESIDENCIA          0.12   0.7276            NO\n",
            "19                   NAC_MUN         93.44   0.0000            SI\n",
            "20                    COMUNA       1312.95   0.0000            SI\n",
            "21         TIPO_DISCAPACIDAD          9.76   0.6371            NO\n",
            "22                PAIS_ABREV       1568.74   0.0000            SI\n",
            "23                   ESTRATO        265.56   0.0000            SI\n"
          ]
        }
      ]
    },
    {
      "cell_type": "markdown",
      "source": [],
      "metadata": {
        "id": "eiI33qQSHb_8"
      }
    },
    {
      "cell_type": "markdown",
      "source": [
        "Variables categoricas con un valor p menos al nivel de significacia del 5%."
      ],
      "metadata": {
        "id": "XQrY-vjBHcBm"
      }
    },
    {
      "cell_type": "code",
      "source": [
        "categ_cols = [\n",
        "    \"NIVEL_EDUCATIVO\",\n",
        "    \"GENERO\",\n",
        "    \"CLASI_ETNIA\",\n",
        "    \"VICTIMA\",\n",
        "    \"PROVIENE_OTR_MUN\",\n",
        "    \"TIPO_JORNADA\",\n",
        "    \"REPITENTE\",\n",
        "    \"NUEVO\",\n",
        "    \"SIT_ACAD_ANO_ANT\",\n",
        "    \"CON_ALUM_ANO_ANT\",\n",
        "    \"ZON_ALU\",\n",
        "    \"CAB_FAMILIA\",\n",
        "    \"APOYO_ACADEMICO_ESPECIAL\",\n",
        "    \"SRPA\",\n",
        "    \"CAP_EXC\",\n",
        "    \"BEN_MAD_FLIA\",\n",
        "    \"NAC_MUN\",\n",
        "    \"COMUNA\",\n",
        "    \"PAIS_ABREV\",\n",
        "    \"ESTRATO\"\n",
        "]\n",
        "              \n",
        "cat_counts = {}\n",
        "for col in categ_cols:\n",
        "    cat_counts[col] = df[col].value_counts()\n",
        "\n",
        "cat_counts"
      ],
      "metadata": {
        "id": "TxPgGlKJT91C"
      },
      "execution_count": null,
      "outputs": []
    },
    {
      "cell_type": "markdown",
      "source": [
        "# Codificación de las variables categoricas\n",
        "A todas las variables categoricas tanto nominales como ordinales, se les crea un indice numérico, iniciando en 0 hasta la cantidad de categorias que comprenda. <br>"
      ],
      "metadata": {
        "id": "RRo8Hp35ka16"
      }
    },
    {
      "cell_type": "code",
      "source": [
        "# Recodificación columnas categóricas.\n",
        "\n",
        "def encode_column(df, col):\n",
        "\n",
        "    e = preprocessing.LabelEncoder() # instanciamos un modelo de sklearn para\n",
        "    # etiquetar numericamente cada categoría.\n",
        "    e = e.fit(df[col]) # Ajustamos a la data\n",
        "    df[col] =e.transform(df[col]) # Recodificamos la columna del df con \n",
        "    # etiquetas númericas\n",
        "    return e.classes_, e.transform(e.classes_)# tupla de categ originales y \n",
        "    # nuevas etiquetas"
      ],
      "metadata": {
        "id": "zLfHGedO5aJZ"
      },
      "execution_count": null,
      "outputs": []
    },
    {
      "cell_type": "code",
      "source": [
        "categ_cols_mapping = {col: encode_column(df, col) for col in categ_cols}"
      ],
      "metadata": {
        "id": "5WgU2-Nr6B4x"
      },
      "execution_count": null,
      "outputs": []
    },
    {
      "cell_type": "markdown",
      "source": [
        "# Juntar dataset variables categoricas recodificadas, continuas y variable desertor"
      ],
      "metadata": {
        "id": "tBGRiGT8lKYQ"
      }
    },
    {
      "cell_type": "code",
      "source": [
        "# Dataframe final\n",
        "df = pd.concat([df[categ_cols + contin_cols], df['DESERTOR']], axis = 1)"
      ],
      "metadata": {
        "id": "ry-CyWD36gEi"
      },
      "execution_count": null,
      "outputs": []
    },
    {
      "cell_type": "code",
      "source": [
        "df.head()"
      ],
      "metadata": {
        "colab": {
          "base_uri": "https://localhost:8080/",
          "height": 299
        },
        "id": "Tro_JJ3e6rPl",
        "outputId": "70e82952-de17-4405-efe5-5dbfcd62fd5c"
      },
      "execution_count": null,
      "outputs": [
        {
          "output_type": "execute_result",
          "data": {
            "text/plain": [
              "   NIVEL_EDUCATIVO  GENERO  CLASI_ETNIA  VICTIMA  PROVIENE_OTR_MUN  \\\n",
              "0                1       0            2        0                 0   \n",
              "1                1       1            2        0                 0   \n",
              "2                1       1            2        0                 0   \n",
              "3                1       1            2        0                 0   \n",
              "4                1       0            2        0                 1   \n",
              "\n",
              "   TIPO_JORNADA  REPITENTE  NUEVO  SIT_ACAD_ANO_ANT  CON_ALUM_ANO_ANT  ...  \\\n",
              "0             1          0      0                 0                 0  ...   \n",
              "1             1          0      0                 1                 1  ...   \n",
              "2             1          0      0                 0                 0  ...   \n",
              "3             1          0      0                 0                 0  ...   \n",
              "4             1          0      0                 0                 0  ...   \n",
              "\n",
              "   SRPA  CAP_EXC  BEN_MAD_FLIA  NAC_MUN  COMUNA  PAIS_ABREV  ESTRATO  EDAD  \\\n",
              "0     0        1             0        0      31           0        2  13.0   \n",
              "1     2        1             0        1       2           0        4  20.0   \n",
              "2     2        1             0        1       2           0        2  18.0   \n",
              "3     2        1             0        1       2           0        4  19.0   \n",
              "4     0        1             0        0       6           0        1  11.0   \n",
              "\n",
              "   GRADO  DESERTOR  \n",
              "0    6.0         0  \n",
              "1    6.0         0  \n",
              "2    6.0         0  \n",
              "3    6.0         0  \n",
              "4    6.0         0  \n",
              "\n",
              "[5 rows x 23 columns]"
            ],
            "text/html": [
              "\n",
              "  <div id=\"df-231c903a-8f6e-4ead-8e41-25122e62c49a\">\n",
              "    <div class=\"colab-df-container\">\n",
              "      <div>\n",
              "<style scoped>\n",
              "    .dataframe tbody tr th:only-of-type {\n",
              "        vertical-align: middle;\n",
              "    }\n",
              "\n",
              "    .dataframe tbody tr th {\n",
              "        vertical-align: top;\n",
              "    }\n",
              "\n",
              "    .dataframe thead th {\n",
              "        text-align: right;\n",
              "    }\n",
              "</style>\n",
              "<table border=\"1\" class=\"dataframe\">\n",
              "  <thead>\n",
              "    <tr style=\"text-align: right;\">\n",
              "      <th></th>\n",
              "      <th>NIVEL_EDUCATIVO</th>\n",
              "      <th>GENERO</th>\n",
              "      <th>CLASI_ETNIA</th>\n",
              "      <th>VICTIMA</th>\n",
              "      <th>PROVIENE_OTR_MUN</th>\n",
              "      <th>TIPO_JORNADA</th>\n",
              "      <th>REPITENTE</th>\n",
              "      <th>NUEVO</th>\n",
              "      <th>SIT_ACAD_ANO_ANT</th>\n",
              "      <th>CON_ALUM_ANO_ANT</th>\n",
              "      <th>...</th>\n",
              "      <th>SRPA</th>\n",
              "      <th>CAP_EXC</th>\n",
              "      <th>BEN_MAD_FLIA</th>\n",
              "      <th>NAC_MUN</th>\n",
              "      <th>COMUNA</th>\n",
              "      <th>PAIS_ABREV</th>\n",
              "      <th>ESTRATO</th>\n",
              "      <th>EDAD</th>\n",
              "      <th>GRADO</th>\n",
              "      <th>DESERTOR</th>\n",
              "    </tr>\n",
              "  </thead>\n",
              "  <tbody>\n",
              "    <tr>\n",
              "      <th>0</th>\n",
              "      <td>1</td>\n",
              "      <td>0</td>\n",
              "      <td>2</td>\n",
              "      <td>0</td>\n",
              "      <td>0</td>\n",
              "      <td>1</td>\n",
              "      <td>0</td>\n",
              "      <td>0</td>\n",
              "      <td>0</td>\n",
              "      <td>0</td>\n",
              "      <td>...</td>\n",
              "      <td>0</td>\n",
              "      <td>1</td>\n",
              "      <td>0</td>\n",
              "      <td>0</td>\n",
              "      <td>31</td>\n",
              "      <td>0</td>\n",
              "      <td>2</td>\n",
              "      <td>13.0</td>\n",
              "      <td>6.0</td>\n",
              "      <td>0</td>\n",
              "    </tr>\n",
              "    <tr>\n",
              "      <th>1</th>\n",
              "      <td>1</td>\n",
              "      <td>1</td>\n",
              "      <td>2</td>\n",
              "      <td>0</td>\n",
              "      <td>0</td>\n",
              "      <td>1</td>\n",
              "      <td>0</td>\n",
              "      <td>0</td>\n",
              "      <td>1</td>\n",
              "      <td>1</td>\n",
              "      <td>...</td>\n",
              "      <td>2</td>\n",
              "      <td>1</td>\n",
              "      <td>0</td>\n",
              "      <td>1</td>\n",
              "      <td>2</td>\n",
              "      <td>0</td>\n",
              "      <td>4</td>\n",
              "      <td>20.0</td>\n",
              "      <td>6.0</td>\n",
              "      <td>0</td>\n",
              "    </tr>\n",
              "    <tr>\n",
              "      <th>2</th>\n",
              "      <td>1</td>\n",
              "      <td>1</td>\n",
              "      <td>2</td>\n",
              "      <td>0</td>\n",
              "      <td>0</td>\n",
              "      <td>1</td>\n",
              "      <td>0</td>\n",
              "      <td>0</td>\n",
              "      <td>0</td>\n",
              "      <td>0</td>\n",
              "      <td>...</td>\n",
              "      <td>2</td>\n",
              "      <td>1</td>\n",
              "      <td>0</td>\n",
              "      <td>1</td>\n",
              "      <td>2</td>\n",
              "      <td>0</td>\n",
              "      <td>2</td>\n",
              "      <td>18.0</td>\n",
              "      <td>6.0</td>\n",
              "      <td>0</td>\n",
              "    </tr>\n",
              "    <tr>\n",
              "      <th>3</th>\n",
              "      <td>1</td>\n",
              "      <td>1</td>\n",
              "      <td>2</td>\n",
              "      <td>0</td>\n",
              "      <td>0</td>\n",
              "      <td>1</td>\n",
              "      <td>0</td>\n",
              "      <td>0</td>\n",
              "      <td>0</td>\n",
              "      <td>0</td>\n",
              "      <td>...</td>\n",
              "      <td>2</td>\n",
              "      <td>1</td>\n",
              "      <td>0</td>\n",
              "      <td>1</td>\n",
              "      <td>2</td>\n",
              "      <td>0</td>\n",
              "      <td>4</td>\n",
              "      <td>19.0</td>\n",
              "      <td>6.0</td>\n",
              "      <td>0</td>\n",
              "    </tr>\n",
              "    <tr>\n",
              "      <th>4</th>\n",
              "      <td>1</td>\n",
              "      <td>0</td>\n",
              "      <td>2</td>\n",
              "      <td>0</td>\n",
              "      <td>1</td>\n",
              "      <td>1</td>\n",
              "      <td>0</td>\n",
              "      <td>0</td>\n",
              "      <td>0</td>\n",
              "      <td>0</td>\n",
              "      <td>...</td>\n",
              "      <td>0</td>\n",
              "      <td>1</td>\n",
              "      <td>0</td>\n",
              "      <td>0</td>\n",
              "      <td>6</td>\n",
              "      <td>0</td>\n",
              "      <td>1</td>\n",
              "      <td>11.0</td>\n",
              "      <td>6.0</td>\n",
              "      <td>0</td>\n",
              "    </tr>\n",
              "  </tbody>\n",
              "</table>\n",
              "<p>5 rows × 23 columns</p>\n",
              "</div>\n",
              "      <button class=\"colab-df-convert\" onclick=\"convertToInteractive('df-231c903a-8f6e-4ead-8e41-25122e62c49a')\"\n",
              "              title=\"Convert this dataframe to an interactive table.\"\n",
              "              style=\"display:none;\">\n",
              "        \n",
              "  <svg xmlns=\"http://www.w3.org/2000/svg\" height=\"24px\"viewBox=\"0 0 24 24\"\n",
              "       width=\"24px\">\n",
              "    <path d=\"M0 0h24v24H0V0z\" fill=\"none\"/>\n",
              "    <path d=\"M18.56 5.44l.94 2.06.94-2.06 2.06-.94-2.06-.94-.94-2.06-.94 2.06-2.06.94zm-11 1L8.5 8.5l.94-2.06 2.06-.94-2.06-.94L8.5 2.5l-.94 2.06-2.06.94zm10 10l.94 2.06.94-2.06 2.06-.94-2.06-.94-.94-2.06-.94 2.06-2.06.94z\"/><path d=\"M17.41 7.96l-1.37-1.37c-.4-.4-.92-.59-1.43-.59-.52 0-1.04.2-1.43.59L10.3 9.45l-7.72 7.72c-.78.78-.78 2.05 0 2.83L4 21.41c.39.39.9.59 1.41.59.51 0 1.02-.2 1.41-.59l7.78-7.78 2.81-2.81c.8-.78.8-2.07 0-2.86zM5.41 20L4 18.59l7.72-7.72 1.47 1.35L5.41 20z\"/>\n",
              "  </svg>\n",
              "      </button>\n",
              "      \n",
              "  <style>\n",
              "    .colab-df-container {\n",
              "      display:flex;\n",
              "      flex-wrap:wrap;\n",
              "      gap: 12px;\n",
              "    }\n",
              "\n",
              "    .colab-df-convert {\n",
              "      background-color: #E8F0FE;\n",
              "      border: none;\n",
              "      border-radius: 50%;\n",
              "      cursor: pointer;\n",
              "      display: none;\n",
              "      fill: #1967D2;\n",
              "      height: 32px;\n",
              "      padding: 0 0 0 0;\n",
              "      width: 32px;\n",
              "    }\n",
              "\n",
              "    .colab-df-convert:hover {\n",
              "      background-color: #E2EBFA;\n",
              "      box-shadow: 0px 1px 2px rgba(60, 64, 67, 0.3), 0px 1px 3px 1px rgba(60, 64, 67, 0.15);\n",
              "      fill: #174EA6;\n",
              "    }\n",
              "\n",
              "    [theme=dark] .colab-df-convert {\n",
              "      background-color: #3B4455;\n",
              "      fill: #D2E3FC;\n",
              "    }\n",
              "\n",
              "    [theme=dark] .colab-df-convert:hover {\n",
              "      background-color: #434B5C;\n",
              "      box-shadow: 0px 1px 3px 1px rgba(0, 0, 0, 0.15);\n",
              "      filter: drop-shadow(0px 1px 2px rgba(0, 0, 0, 0.3));\n",
              "      fill: #FFFFFF;\n",
              "    }\n",
              "  </style>\n",
              "\n",
              "      <script>\n",
              "        const buttonEl =\n",
              "          document.querySelector('#df-231c903a-8f6e-4ead-8e41-25122e62c49a button.colab-df-convert');\n",
              "        buttonEl.style.display =\n",
              "          google.colab.kernel.accessAllowed ? 'block' : 'none';\n",
              "\n",
              "        async function convertToInteractive(key) {\n",
              "          const element = document.querySelector('#df-231c903a-8f6e-4ead-8e41-25122e62c49a');\n",
              "          const dataTable =\n",
              "            await google.colab.kernel.invokeFunction('convertToInteractive',\n",
              "                                                     [key], {});\n",
              "          if (!dataTable) return;\n",
              "\n",
              "          const docLinkHtml = 'Like what you see? Visit the ' +\n",
              "            '<a target=\"_blank\" href=https://colab.research.google.com/notebooks/data_table.ipynb>data table notebook</a>'\n",
              "            + ' to learn more about interactive tables.';\n",
              "          element.innerHTML = '';\n",
              "          dataTable['output_type'] = 'display_data';\n",
              "          await google.colab.output.renderOutput(dataTable, element);\n",
              "          const docLink = document.createElement('div');\n",
              "          docLink.innerHTML = docLinkHtml;\n",
              "          element.appendChild(docLink);\n",
              "        }\n",
              "      </script>\n",
              "    </div>\n",
              "  </div>\n",
              "  "
            ]
          },
          "metadata": {},
          "execution_count": 40
        }
      ]
    },
    {
      "cell_type": "markdown",
      "source": [
        "# Partición del conjunto de datos en (Train, Test y Val)\n",
        "Se realiza partición entre datos de entrenamiento y prueba con una proporción 80/20."
      ],
      "metadata": {
        "id": "-nt77Oq37MI-"
      }
    },
    {
      "cell_type": "code",
      "source": [
        "# Train vs testing\n",
        "\n",
        "# Nuestro df tiene como última columna la variable dependiente. Por ello el -1.\n",
        "# Además notar el uso de una semilla seudo-aleatoria, con el propósito \n",
        "# de replicabilidad en resultados. train_x, test_x, train_y, test_y, val_x, val_y\n",
        "\n",
        "train_x, val_x, train_y, val_y = model_selection.train_test_split(df[df.columns[:-1]], \n",
        "                                                                    df[df.columns[-1]] , \n",
        "                                                                    test_size = 0.2,\n",
        "                                                                    random_state = 42)\n",
        "\n",
        "train_x, test_x, train_y, test_y = model_selection.train_test_split(train_x, \n",
        "                                                                    train_y, \n",
        "                                                                    test_size = 0.3,\n",
        "                                                                    random_state = 42)"
      ],
      "metadata": {
        "id": "sYnEPOKF7K9E"
      },
      "execution_count": null,
      "outputs": []
    },
    {
      "cell_type": "code",
      "source": [
        "pd.concat([train_y.value_counts() , test_y.value_counts() ], axis=1, keys=['train_y', 'test_y'])"
      ],
      "metadata": {
        "colab": {
          "base_uri": "https://localhost:8080/",
          "height": 112
        },
        "id": "8tDIRnV9ud8Z",
        "outputId": "4f947cb6-ef8a-40c2-b533-7fcc8fd7ace8"
      },
      "execution_count": null,
      "outputs": [
        {
          "output_type": "execute_result",
          "data": {
            "text/plain": [
              "   train_y  test_y\n",
              "0   151399   64998\n",
              "1     7698    3187"
            ],
            "text/html": [
              "\n",
              "  <div id=\"df-6bfd3a17-740c-478e-84b1-0d42a7572aaa\">\n",
              "    <div class=\"colab-df-container\">\n",
              "      <div>\n",
              "<style scoped>\n",
              "    .dataframe tbody tr th:only-of-type {\n",
              "        vertical-align: middle;\n",
              "    }\n",
              "\n",
              "    .dataframe tbody tr th {\n",
              "        vertical-align: top;\n",
              "    }\n",
              "\n",
              "    .dataframe thead th {\n",
              "        text-align: right;\n",
              "    }\n",
              "</style>\n",
              "<table border=\"1\" class=\"dataframe\">\n",
              "  <thead>\n",
              "    <tr style=\"text-align: right;\">\n",
              "      <th></th>\n",
              "      <th>train_y</th>\n",
              "      <th>test_y</th>\n",
              "    </tr>\n",
              "  </thead>\n",
              "  <tbody>\n",
              "    <tr>\n",
              "      <th>0</th>\n",
              "      <td>151399</td>\n",
              "      <td>64998</td>\n",
              "    </tr>\n",
              "    <tr>\n",
              "      <th>1</th>\n",
              "      <td>7698</td>\n",
              "      <td>3187</td>\n",
              "    </tr>\n",
              "  </tbody>\n",
              "</table>\n",
              "</div>\n",
              "      <button class=\"colab-df-convert\" onclick=\"convertToInteractive('df-6bfd3a17-740c-478e-84b1-0d42a7572aaa')\"\n",
              "              title=\"Convert this dataframe to an interactive table.\"\n",
              "              style=\"display:none;\">\n",
              "        \n",
              "  <svg xmlns=\"http://www.w3.org/2000/svg\" height=\"24px\"viewBox=\"0 0 24 24\"\n",
              "       width=\"24px\">\n",
              "    <path d=\"M0 0h24v24H0V0z\" fill=\"none\"/>\n",
              "    <path d=\"M18.56 5.44l.94 2.06.94-2.06 2.06-.94-2.06-.94-.94-2.06-.94 2.06-2.06.94zm-11 1L8.5 8.5l.94-2.06 2.06-.94-2.06-.94L8.5 2.5l-.94 2.06-2.06.94zm10 10l.94 2.06.94-2.06 2.06-.94-2.06-.94-.94-2.06-.94 2.06-2.06.94z\"/><path d=\"M17.41 7.96l-1.37-1.37c-.4-.4-.92-.59-1.43-.59-.52 0-1.04.2-1.43.59L10.3 9.45l-7.72 7.72c-.78.78-.78 2.05 0 2.83L4 21.41c.39.39.9.59 1.41.59.51 0 1.02-.2 1.41-.59l7.78-7.78 2.81-2.81c.8-.78.8-2.07 0-2.86zM5.41 20L4 18.59l7.72-7.72 1.47 1.35L5.41 20z\"/>\n",
              "  </svg>\n",
              "      </button>\n",
              "      \n",
              "  <style>\n",
              "    .colab-df-container {\n",
              "      display:flex;\n",
              "      flex-wrap:wrap;\n",
              "      gap: 12px;\n",
              "    }\n",
              "\n",
              "    .colab-df-convert {\n",
              "      background-color: #E8F0FE;\n",
              "      border: none;\n",
              "      border-radius: 50%;\n",
              "      cursor: pointer;\n",
              "      display: none;\n",
              "      fill: #1967D2;\n",
              "      height: 32px;\n",
              "      padding: 0 0 0 0;\n",
              "      width: 32px;\n",
              "    }\n",
              "\n",
              "    .colab-df-convert:hover {\n",
              "      background-color: #E2EBFA;\n",
              "      box-shadow: 0px 1px 2px rgba(60, 64, 67, 0.3), 0px 1px 3px 1px rgba(60, 64, 67, 0.15);\n",
              "      fill: #174EA6;\n",
              "    }\n",
              "\n",
              "    [theme=dark] .colab-df-convert {\n",
              "      background-color: #3B4455;\n",
              "      fill: #D2E3FC;\n",
              "    }\n",
              "\n",
              "    [theme=dark] .colab-df-convert:hover {\n",
              "      background-color: #434B5C;\n",
              "      box-shadow: 0px 1px 3px 1px rgba(0, 0, 0, 0.15);\n",
              "      filter: drop-shadow(0px 1px 2px rgba(0, 0, 0, 0.3));\n",
              "      fill: #FFFFFF;\n",
              "    }\n",
              "  </style>\n",
              "\n",
              "      <script>\n",
              "        const buttonEl =\n",
              "          document.querySelector('#df-6bfd3a17-740c-478e-84b1-0d42a7572aaa button.colab-df-convert');\n",
              "        buttonEl.style.display =\n",
              "          google.colab.kernel.accessAllowed ? 'block' : 'none';\n",
              "\n",
              "        async function convertToInteractive(key) {\n",
              "          const element = document.querySelector('#df-6bfd3a17-740c-478e-84b1-0d42a7572aaa');\n",
              "          const dataTable =\n",
              "            await google.colab.kernel.invokeFunction('convertToInteractive',\n",
              "                                                     [key], {});\n",
              "          if (!dataTable) return;\n",
              "\n",
              "          const docLinkHtml = 'Like what you see? Visit the ' +\n",
              "            '<a target=\"_blank\" href=https://colab.research.google.com/notebooks/data_table.ipynb>data table notebook</a>'\n",
              "            + ' to learn more about interactive tables.';\n",
              "          element.innerHTML = '';\n",
              "          dataTable['output_type'] = 'display_data';\n",
              "          await google.colab.output.renderOutput(dataTable, element);\n",
              "          const docLink = document.createElement('div');\n",
              "          docLink.innerHTML = docLinkHtml;\n",
              "          element.appendChild(docLink);\n",
              "        }\n",
              "      </script>\n",
              "    </div>\n",
              "  </div>\n",
              "  "
            ]
          },
          "metadata": {},
          "execution_count": 43
        }
      ]
    },
    {
      "cell_type": "code",
      "source": [
        "import pandas as pd\n",
        "\n",
        "# Calcular los porcentajes de cada conjunto de datos\n",
        "train_x_percentage = len(train_x) / len(df) * 100\n",
        "test_x_percentage = len(test_x) / len(df) * 100\n",
        "train_y_percentage = len(train_y) / len(df) * 100\n",
        "test_y_percentage = len(test_y) / len(df) * 100\n",
        "val_x_percentage = len(val_x) / len(df) * 100\n",
        "val_y_percentage = len(val_y) / len(df) * 100\n",
        "\n",
        "# Crear el DataFrame con los valores resumidos\n",
        "summary = pd.DataFrame({\n",
        "    'Conjunto de Datos': ['train_x', 'test_x', 'train_y', 'test_y', 'val_x', 'val_y'],\n",
        "    'Recuento': [len(train_x), len(test_x), len(train_y), len(test_y), len(val_x), len(val_y)],\n",
        "    'Porcentaje': [train_x_percentage, test_x_percentage, train_y_percentage, test_y_percentage, val_x_percentage, val_y_percentage]\n",
        "})\n",
        "\n",
        "# Mostrar la tabla resumen\n",
        "print(summary)\n"
      ],
      "metadata": {
        "colab": {
          "base_uri": "https://localhost:8080/"
        },
        "id": "hAMX8lEX9HOz",
        "outputId": "e4b30c38-db5a-47ba-ad89-af77053932e6"
      },
      "execution_count": null,
      "outputs": [
        {
          "output_type": "stream",
          "name": "stdout",
          "text": [
            "  Conjunto de Datos  Recuento  Porcentaje\n",
            "0           train_x    159097   55.999761\n",
            "1            test_x     68185   24.000099\n",
            "2           train_y    159097   55.999761\n",
            "3            test_y     68185   24.000099\n",
            "4             val_x     56821   20.000141\n",
            "5             val_y     56821   20.000141\n"
          ]
        }
      ]
    },
    {
      "cell_type": "markdown",
      "source": [
        "Buscamos la tasa de desbalanceo para ponderar la función de perdida"
      ],
      "metadata": {
        "id": "SjH8GUW_H525"
      }
    },
    {
      "cell_type": "code",
      "source": [
        "num_zeros = np.count_nonzero(train_y == 0)\n",
        "num_ones = np.count_nonzero(train_y == 1)\n",
        "tasa_balanceo = num_zeros / num_ones\n",
        "print(\"Desbalanceo en train_x es de: {:.2f}\".format(tasa_balanceo))"
      ],
      "metadata": {
        "colab": {
          "base_uri": "https://localhost:8080/"
        },
        "id": "UOJbuPwu8wme",
        "outputId": "dbfa3475-ae88-41b9-9a1c-9434c48e8432"
      },
      "execution_count": null,
      "outputs": [
        {
          "output_type": "stream",
          "name": "stdout",
          "text": [
            "Desbalanceo en train_x es de: 19.67\n"
          ]
        }
      ]
    },
    {
      "cell_type": "markdown",
      "source": [
        "Se estandariza la variables cuantitativas, separando los datos de entrada de entregamiento de los de prueba, con el fin de no generar problemas de data leakage "
      ],
      "metadata": {
        "id": "4pnl8Qv0CS1G"
      }
    },
    {
      "cell_type": "markdown",
      "source": [
        "## Estandarización de las variables continuas en tran, test y val"
      ],
      "metadata": {
        "id": "UZbnWqsOH_2A"
      }
    },
    {
      "cell_type": "code",
      "source": [
        "# Procesamiento variables contínuas\n",
        "scaler = preprocessing.StandardScaler()\n",
        "train_x[contin_cols] = scaler.fit_transform(train_x[contin_cols])\n",
        "test_x[contin_cols] = scaler.fit_transform(test_x[contin_cols])\n",
        "val_x[contin_cols] = scaler.fit_transform(val_x[contin_cols])"
      ],
      "metadata": {
        "id": "33oRK_qC6brn"
      },
      "execution_count": null,
      "outputs": []
    },
    {
      "cell_type": "markdown",
      "source": [
        "# Red neuronal\n",
        "Vamos a generar una red neuronal incluyendo una capa de embeddings con dos capas ocultas mas."
      ],
      "metadata": {
        "id": "GDgKVndT8XmR"
      }
    },
    {
      "cell_type": "markdown",
      "source": [
        "## Modelo de embedding en Pytorch\n",
        "Los embedding, surge de tecnicas para el procesamiento de palabras, sin embargo, su uso se ha extendido a problemas menos complejos, como el de manejo de variables categoricas, para el uso en modelos, solucionando un problema de tecnicas como el one hot encoding como la alta dimensionalidad."
      ],
      "metadata": {
        "id": "2cWYqvVn9Bnn"
      }
    },
    {
      "cell_type": "code",
      "source": [
        "for col in categ_cols:\n",
        "    if not pd.api.types.is_categorical_dtype(df[col]):\n",
        "        print(f\"Convirtiendo {col} a 'category'\")\n",
        "        df[col] = df[col].astype('category')\n"
      ],
      "metadata": {
        "colab": {
          "base_uri": "https://localhost:8080/"
        },
        "id": "sgFrGRm3aaUN",
        "outputId": "84902bf8-748a-42fa-dddd-1df8585224c6"
      },
      "execution_count": null,
      "outputs": [
        {
          "output_type": "stream",
          "name": "stdout",
          "text": [
            "Convirtiendo NIVEL_EDUCATIVO a 'category'\n",
            "Convirtiendo GENERO a 'category'\n",
            "Convirtiendo CLASI_ETNIA a 'category'\n",
            "Convirtiendo VICTIMA a 'category'\n",
            "Convirtiendo PROVIENE_OTR_MUN a 'category'\n",
            "Convirtiendo TIPO_JORNADA a 'category'\n",
            "Convirtiendo REPITENTE a 'category'\n",
            "Convirtiendo NUEVO a 'category'\n",
            "Convirtiendo SIT_ACAD_ANO_ANT a 'category'\n",
            "Convirtiendo CON_ALUM_ANO_ANT a 'category'\n",
            "Convirtiendo ZON_ALU a 'category'\n",
            "Convirtiendo CAB_FAMILIA a 'category'\n",
            "Convirtiendo APOYO_ACADEMICO_ESPECIAL a 'category'\n",
            "Convirtiendo SRPA a 'category'\n",
            "Convirtiendo CAP_EXC a 'category'\n",
            "Convirtiendo BEN_MAD_FLIA a 'category'\n",
            "Convirtiendo NAC_MUN a 'category'\n",
            "Convirtiendo COMUNA a 'category'\n",
            "Convirtiendo PAIS_ABREV a 'category'\n",
            "Convirtiendo ESTRATO a 'category'\n"
          ]
        }
      ]
    },
    {
      "cell_type": "code",
      "source": [
        "df.info()"
      ],
      "metadata": {
        "colab": {
          "base_uri": "https://localhost:8080/"
        },
        "id": "YDYsTRpAaecu",
        "outputId": "9426bc02-8d80-4a25-b266-ff1d5270e80c"
      },
      "execution_count": null,
      "outputs": [
        {
          "output_type": "stream",
          "name": "stdout",
          "text": [
            "<class 'pandas.core.frame.DataFrame'>\n",
            "Int64Index: 284103 entries, 0 to 231624\n",
            "Data columns (total 23 columns):\n",
            " #   Column                    Non-Null Count   Dtype   \n",
            "---  ------                    --------------   -----   \n",
            " 0   NIVEL_EDUCATIVO           284103 non-null  category\n",
            " 1   GENERO                    284103 non-null  category\n",
            " 2   CLASI_ETNIA               284103 non-null  category\n",
            " 3   VICTIMA                   284103 non-null  category\n",
            " 4   PROVIENE_OTR_MUN          284103 non-null  category\n",
            " 5   TIPO_JORNADA              284103 non-null  category\n",
            " 6   REPITENTE                 284103 non-null  category\n",
            " 7   NUEVO                     284103 non-null  category\n",
            " 8   SIT_ACAD_ANO_ANT          284103 non-null  category\n",
            " 9   CON_ALUM_ANO_ANT          284103 non-null  category\n",
            " 10  ZON_ALU                   284103 non-null  category\n",
            " 11  CAB_FAMILIA               284103 non-null  category\n",
            " 12  APOYO_ACADEMICO_ESPECIAL  284103 non-null  category\n",
            " 13  SRPA                      284103 non-null  category\n",
            " 14  CAP_EXC                   284103 non-null  category\n",
            " 15  BEN_MAD_FLIA              284103 non-null  category\n",
            " 16  NAC_MUN                   284103 non-null  category\n",
            " 17  COMUNA                    284103 non-null  category\n",
            " 18  PAIS_ABREV                284103 non-null  category\n",
            " 19  ESTRATO                   284103 non-null  category\n",
            " 20  EDAD                      284103 non-null  float64 \n",
            " 21  GRADO                     284103 non-null  float64 \n",
            " 22  DESERTOR                  284103 non-null  int64   \n",
            "dtypes: category(20), float64(2), int64(1)\n",
            "memory usage: 14.1 MB\n"
          ]
        }
      ]
    },
    {
      "cell_type": "code",
      "source": [
        "def get_embed_dims(df, categ_cols):\n",
        "    return [(len(df[col].unique()), min(50, (len(df[col].cat.categories) + 1) // 2)) for col in categ_cols]\n",
        "\n",
        "embed_dims = get_embed_dims(df, categ_cols)"
      ],
      "metadata": {
        "id": "zlea-wA79BGU"
      },
      "execution_count": null,
      "outputs": []
    },
    {
      "cell_type": "markdown",
      "source": [
        "Pasa usar embeddings, lo primero que necesitamos es conocer cuantas categorias tiene cada variable y las dimensiones que vamos a usar. Las dimensiones se podria calcular (Retamales 2019) por: Optimización de la cantidad de dimensiones como un hiperparámetro, para minimizar la función de pedida, y la otra forma, mas tipo numerito mágico, cosniderando la dimensión como la mitad del número de categorias, usando como tope 50 dimensiones. "
      ],
      "metadata": {
        "id": "wdd_kKSbFfau"
      }
    },
    {
      "cell_type": "code",
      "source": [
        "embed_dims"
      ],
      "metadata": {
        "colab": {
          "base_uri": "https://localhost:8080/"
        },
        "id": "o1lVgLL49FMU",
        "outputId": "623a304d-dcb7-4dea-9dff-250f7c0fa028"
      },
      "execution_count": null,
      "outputs": [
        {
          "output_type": "execute_result",
          "data": {
            "text/plain": [
              "[(3, 2),\n",
              " (2, 1),\n",
              " (7, 4),\n",
              " (2, 1),\n",
              " (2, 1),\n",
              " (3, 2),\n",
              " (2, 1),\n",
              " (2, 1),\n",
              " (4, 2),\n",
              " (2, 1),\n",
              " (2, 1),\n",
              " (2, 1),\n",
              " (2, 1),\n",
              " (3, 2),\n",
              " (2, 1),\n",
              " (2, 1),\n",
              " (2, 1),\n",
              " (34, 17),\n",
              " (3, 2),\n",
              " (8, 4)]"
            ]
          },
          "metadata": {},
          "execution_count": 51
        }
      ]
    },
    {
      "cell_type": "code",
      "source": [
        "dim_embedding = sum([t[1] for t in embed_dims])\n",
        "\n",
        "print('Dimensión de las capas de embedding',dim_embedding)"
      ],
      "metadata": {
        "colab": {
          "base_uri": "https://localhost:8080/"
        },
        "id": "pp8jySo3lnKI",
        "outputId": "b299e855-1f3f-46c6-ea34-5112d0500a32"
      },
      "execution_count": null,
      "outputs": [
        {
          "output_type": "stream",
          "name": "stdout",
          "text": [
            "Dimensión de las capas de embedding 47\n"
          ]
        }
      ]
    },
    {
      "cell_type": "markdown",
      "source": [
        "## Dataset red neuronal\n",
        "Pasamos a tensores nuestros datos, separando las entradas de las etiquetas, tanto para train como para test.\n",
        "\n"
      ],
      "metadata": {
        "id": "8CO7xBCv8wws"
      }
    },
    {
      "cell_type": "code",
      "source": [
        "inputs = torch.from_numpy(train_x.values).to(DEVICE)\n",
        "labels = torch.from_numpy(train_y.values.reshape(-1,1)).float().to(DEVICE)\n",
        "\n",
        "inputs_test = torch.from_numpy(test_x.values).to(DEVICE)\n",
        "labels_test = torch.from_numpy(test_y.values.reshape(-1,1)).float().to(DEVICE)"
      ],
      "metadata": {
        "id": "KVm1P9sP8s13"
      },
      "execution_count": null,
      "outputs": []
    },
    {
      "cell_type": "code",
      "source": [
        "print(inputs)\n",
        "print(labels.T)"
      ],
      "metadata": {
        "colab": {
          "base_uri": "https://localhost:8080/"
        },
        "id": "9rVAZiXBFenH",
        "outputId": "9ef43047-dce5-45cd-c508-95cce87720ac"
      },
      "execution_count": null,
      "outputs": [
        {
          "output_type": "stream",
          "name": "stdout",
          "text": [
            "tensor([[ 0.0000,  1.0000,  3.0000,  ...,  3.0000, -0.8585, -0.6144],\n",
            "        [ 1.0000,  1.0000,  0.0000,  ...,  1.0000,  0.0139,  0.3629],\n",
            "        [ 1.0000,  0.0000,  0.0000,  ...,  3.0000, -0.2769,  0.0371],\n",
            "        ...,\n",
            "        [ 0.0000,  1.0000,  3.0000,  ...,  1.0000, -1.4401, -1.5917],\n",
            "        [ 0.0000,  1.0000,  3.0000,  ...,  3.0000, -0.2769, -0.6144],\n",
            "        [ 0.0000,  0.0000,  0.0000,  ...,  2.0000, -1.7309, -1.5917]],\n",
            "       device='cuda:0', dtype=torch.float64)\n",
            "tensor([[0., 0., 0.,  ..., 0., 0., 0.]], device='cuda:0')\n"
          ]
        }
      ]
    },
    {
      "cell_type": "markdown",
      "source": [
        "## Data Loaders de Pytorch\n"
      ],
      "metadata": {
        "id": "xVNcxA4080cd"
      }
    },
    {
      "cell_type": "code",
      "source": [
        "class myDataset(Dataset):\n",
        "    \"\"\"\n",
        "    Para crear un objeto del tipo DataLoader, debemos convertir nuestros tensores\n",
        "    a un objeto pytorch Dataset. Esto se logra creando una clase que hereda de\n",
        "    pytorch dataset, donde se debe especificar 3 funciones: __init__ \n",
        "    (donde creamos los atributos de etiquetas (labels) y variables \n",
        "    independientes (X)), __len__  (donde devolvemos el tamaño de nuestro dataset)\n",
        "    y __getitem__ (para indexar nuestro dataset, o, en otras palabras,\n",
        "    obtener a demanda la observación i del dataset)\n",
        "    \"\"\"\n",
        "  \n",
        "  \n",
        "    def __init__(self, x, labels):\n",
        "        self.labels = labels\n",
        "        self.X = x\n",
        "\n",
        "    def __len__(self):\n",
        "        return len(self.X)\n",
        "\n",
        "    def __getitem__(self, index):\n",
        "        X = self.X[index,:]\n",
        "        y = self.labels[index]\n",
        "        return X, y"
      ],
      "metadata": {
        "id": "W4T_onh88y8j"
      },
      "execution_count": null,
      "outputs": []
    },
    {
      "cell_type": "code",
      "source": [
        "trainloader = DataLoader(myDataset(inputs, labels), # tensores convertidos\n",
        "                          batch_size=128, # tamaño de cada batch\n",
        "                          shuffle=True) # orden aleatorio por cada epóca\n",
        "                          #num_workers=2) # cuanto procesamiento en paralelo deseamos\n",
        "\n",
        "testloader = DataLoader(myDataset(inputs_test, labels_test), \n",
        "                          batch_size=128,\n",
        "                          shuffle=True)\n",
        "                          #num_workers=2)\n"
      ],
      "metadata": {
        "id": "lG8yMY_289pk"
      },
      "execution_count": null,
      "outputs": []
    },
    {
      "cell_type": "markdown",
      "source": [
        "## Arquitectura de la red"
      ],
      "metadata": {
        "id": "IF7vlp_0gnxt"
      }
    },
    {
      "cell_type": "markdown",
      "source": [
        "Tomamos como referencia la función de (Retamales,2019) para la creación de una capa de embeddings con dos capas ocultas, y una función dropout para controlar el overfiting."
      ],
      "metadata": {
        "id": "iurx7SbKN7PL"
      }
    },
    {
      "cell_type": "code",
      "source": [
        "class EmbeddingModel(nn.Module):\n",
        "    def __init__(self, n_cont, embed_dims, inter_dense1, inter_dense2, dropout1=0.3, dropout2=0.3, dropout3=0.3):\n",
        "        super(EmbeddingModel, self).__init__()\n",
        "        self.n_cont = n_cont\n",
        "        self.embeds_list = nn.ModuleList([nn.Embedding(num_embeddings=vocab_size, \n",
        "                                                        embedding_dim=e_dim) \n",
        "                                          for vocab_size, e_dim in embed_dims])\n",
        "        emb_sz = sum([e_dim for vocab_size, e_dim in embed_dims])\n",
        "        self.linear1 = nn.Linear(emb_sz + n_cont, inter_dense1)\n",
        "        self.batchnorm1 = nn.BatchNorm1d(inter_dense1)\n",
        "        self.linear2 = nn.Linear(inter_dense1, inter_dense2)\n",
        "        self.batchnorm2 = nn.BatchNorm1d(inter_dense2)\n",
        "        self.linear3 = nn.Linear(inter_dense2, 1)\n",
        "        self.dropout1 = nn.Dropout(dropout1)\n",
        "        self.dropout2 = nn.Dropout(dropout2)\n",
        "        self.dropout3 = nn.Dropout(dropout3)\n",
        "        self.relu = nn.ReLU()\n",
        "\n",
        "    def forward(self, inputs):\n",
        "        embeds = [emb(inputs[:, i].long()) for i, emb in enumerate(self.embeds_list)] \n",
        "        embeds = torch.cat(embeds, 1)\n",
        "        embeds = self.dropout1(embeds)\n",
        "        embeds_cont = torch.cat((embeds, inputs[:, -self.n_cont:].float()), 1)\n",
        "        out = self.relu(self.linear1(embeds_cont))\n",
        "        out = self.batchnorm1(out)\n",
        "        out = self.dropout2(out)\n",
        "        out = self.relu(self.linear2(out))\n",
        "        out = self.batchnorm2(out)\n",
        "        out = self.dropout3(out)\n",
        "        out = self.linear3(out)\n",
        "        #probs = torch.sigmoid(out) # No es necesario usar en la salida un función sigmoide al usar como funcion de perdida un BCEWithLogitsLoss\n",
        "        probs = out\n",
        "        return probs\n",
        "\n"
      ],
      "metadata": {
        "id": "Jin7QP8O9J-N"
      },
      "execution_count": null,
      "outputs": []
    },
    {
      "cell_type": "markdown",
      "source": [
        "## Entrenamiento del modelo\n",
        "Creamos una función para entrenar el modelo, de aqui tendremos como hiperparámetros el tamaño del batch, dos capas ocultas y el learning rate. Aca calculamos la función de perdida y el accuracy, no obstante el acuracy es de referencia, debido a que en datos desbalanceados no presenta buenos resultados."
      ],
      "metadata": {
        "id": "VgHyhdD59MjB"
      }
    },
    {
      "cell_type": "code",
      "source": [
        "umbral = 0.603 #Este umbral es definido mas adelante, la priemr corrida del modelo fue con un umbral de clasificación de 0.5"
      ],
      "metadata": {
        "id": "Sm4c5pOmox3t"
      },
      "execution_count": null,
      "outputs": []
    },
    {
      "cell_type": "code",
      "source": [
        "def train_model(train_batch_size=256, inter_dense1 = 30, inter_dense2 = 30, learning_rate = 0.01, epocas=10, device=DEVICE, verbose=False, patience=10):\n",
        "\n",
        "  start_time = time.time()\n",
        "  reset_seed()\n",
        "\n",
        "  #Los datos en tensores\n",
        "  inputs = torch.from_numpy(train_x.values).float().to(DEVICE)\n",
        "  labels = torch.from_numpy(train_y.values.reshape(-1,1)).float().to(DEVICE)\n",
        "\n",
        "  inputs_test = torch.from_numpy(test_x.values).float().to(DEVICE)\n",
        "  labels_test = torch.from_numpy(test_y.values.reshape(-1,1)).float().to(DEVICE)\n",
        "\n",
        "  # Data loader con el batch size de entrenamiento y prueba\n",
        "  trainloader = DataLoader(myDataset(inputs, labels), # tensores convertidos\n",
        "                          batch_size=train_batch_size, # tamaño de cada batch\n",
        "                          shuffle=True) # orden aleatorio por cada epóca\n",
        "\n",
        "  testloader = DataLoader(myDataset(inputs_test, labels_test), \n",
        "                          batch_size=train_batch_size,\n",
        "                          shuffle=False)\n",
        "  \n",
        "  # Se crea el modelo y optimizador\n",
        "  model = EmbeddingModel(n_cont=N_CONT,\n",
        "                       embed_dims=embed_dims,\n",
        "                       inter_dense1=inter_dense1,\n",
        "                       inter_dense2=inter_dense2,\n",
        "                       dropout1=0.3,\n",
        "                       dropout2=0.3,\n",
        "                       dropout3=0.3).to(device)\n",
        "\n",
        "\n",
        "  optimizer = optim.Adam(model.parameters(), lr=learning_rate)\n",
        "\n",
        "\n",
        "  # Debido al desbalanceo de clases se intenta darle mayor peso a la clase minoritaria\n",
        "  # Funcion de perdida util para clasificación binaria\n",
        "\n",
        "  #loss_function = nn.BCELoss().to(DEVICE)\n",
        "  pos_weight = torch.tensor([tasa_balanceo]).to(DEVICE)\n",
        "  loss_function = nn.BCEWithLogitsLoss(pos_weight=pos_weight)# Quitarle el sigmoi. con un softmax.\n",
        "\n",
        "  '''\n",
        "  La principal diferencia entre BCEWithLogitsLoss y BCELoss es que BCEWithLogitsLoss combina \n",
        "  la función sigmoid y la función de pérdida binaria cruzada (BCE) en una sola función, \n",
        "  mientras que en BCELoss se utilizan por separado. En BCEWithLogitsLoss, la función sigmoid \n",
        "  se aplica a las salidas del modelo antes de calcular la pérdida, lo que significa que \n",
        "  no necesitamos incluir una activación sigmoid en la última capa de nuestro modelo.\n",
        "  '''\n",
        "\n",
        "  # Creamos vectores donde almacenaremos los losses y métricas despuúes de cada época\n",
        "  losses_train = [] # lista que almacena resultado de la función de perdida por época.\n",
        "  accs_train = [] # lista que almacenará los accuracies por época\n",
        "  losses_test = [] # lista que almacena resultado de la función de perdida por época.\n",
        "  accs_test = [] # lista que almacenará los accuracies por época\n",
        "\n",
        "  data_size = len(trainloader.dataset) # tamaño del dataset de entrenamiento.\n",
        "  data_size_test = len(testloader.dataset)\n",
        "\n",
        "  # Variables para early stopping\n",
        "  best_loss = float('inf')\n",
        "  counter = 0\n",
        "\n",
        "  for epoch in range(epocas): #1 epoca = recorrer totalmente el dataset de \n",
        "      #entrenamiento\n",
        "\n",
        "      epoca_start_time = time.time()\n",
        "      model.train()\n",
        "      correct_train = 0.0 # inicializamos el conteo de correctas y la perdida\n",
        "      running_loss = 0.0\n",
        "    \n",
        "      for i, data in enumerate(trainloader, 0): # cada iteración es un batch \n",
        "          inputs, labels = data\n",
        "          inputs = inputs.to(DEVICE)\n",
        "          labels = labels.to(DEVICE)\n",
        "          optimizer.zero_grad() # setea todas las gradientes en 0 en backprop.\n",
        "\n",
        "          outputs = torch.sigmoid(model(inputs)) # Generamos el output del modelo\n",
        "          loss = loss_function(outputs, labels) # la perdida del modelo\n",
        "\n",
        "          loss.backward() # calculamos las gradientes\n",
        "          optimizer.step() # actualizamos los parametros del modelo\n",
        "\n",
        "          # Métricas\n",
        "          running_loss += loss.item() # recolectamos la pérdida de iter actual\n",
        "\n",
        "          predicted_train = (outputs>umbral).float() # Las estimaciones del modelo según \n",
        "          truth = labels.float()\n",
        "          correct_train += (predicted_train == truth).float().sum() # Cantidad de preds\n",
        "          # correctas\n",
        "\n",
        "      accs_train.append(torch.mean((predicted_train == truth).float()))  # Accuracy de cada epoca\n",
        "      losses_train.append(running_loss/data_size) # Perdida total de la época\n",
        "\n",
        "      # Cambiamos al modo de evaluación\n",
        "      model.eval()\n",
        "      with torch.no_grad(): \n",
        "        correct_test = 0.0\n",
        "        total_loss = 0.0\n",
        "\n",
        "        for i, data in enumerate(testloader, 0):\n",
        "            inputs_test, labels_test = data\n",
        "            inputs_test = inputs_test.to(DEVICE)\n",
        "            labels_test = labels_test.to(DEVICE)\n",
        "            outputs_test = torch.sigmoid(model(inputs_test))\n",
        "            loss_test = loss_function(outputs_test, labels_test)\n",
        "            total_loss += loss_test.item()\n",
        "            predicted_test = (outputs_test>umbral).float()\n",
        "            truth = labels_test.float()\n",
        "            correct_test += (predicted_test == truth).float().sum()\n",
        "\n",
        "      if total_loss < best_loss:\n",
        "        best_loss = total_loss\n",
        "        counter = 0\n",
        "      else:\n",
        "        counter += 1\n",
        "\n",
        "      # Detener el entrenamiento si no hay mejora durante la paciencia establecida\n",
        "      if counter >= patience:\n",
        "        print(f\"Deteniendo el entrenamiento debido a la falta de mejora en la métrica de validación durante {patience} épocas consecutivas.\")\n",
        "        break        \n",
        "\n",
        "      accs_test.append(torch.mean((predicted_test == truth).float()))  # Accuracy de cada epoca\n",
        "      losses_test.append(total_loss/data_size_test) # Perdida total de la época\n",
        "\n",
        "      epoca_end_time = time.time()\n",
        "      segundos = epoca_end_time - epoca_start_time\n",
        "\n",
        "      if verbose:\n",
        "        print(f\"{epoch}: loss train: {losses_train[epoch]:>7f}, accuracy train: {accs_train[epoch]:>7f}, loss test: {losses_test[epoch]:>7f}, accuracy test: {accs_test[epoch]:>7f}, -- epoch time: {segundos:.2f}\")\n",
        "\n",
        "  end_time = time.time()\n",
        "\n",
        "  return model, losses_train, accs_train, losses_test, accs_test, ((end_time-start_time)/60)\n",
        "\n",
        "\n"
      ],
      "metadata": {
        "id": "mHQ0PNZR9Pi5"
      },
      "execution_count": null,
      "outputs": []
    },
    {
      "cell_type": "markdown",
      "source": [
        "Entrenamos al modelo con algunos parámetros iniciales y retornamos los accuracy y loss tanto del modelo de entrenmaiento como el de validación, ademas del tiempo."
      ],
      "metadata": {
        "id": "DI7r50lJV85K"
      }
    },
    {
      "cell_type": "code",
      "source": [
        "model, losses_train, accs_train, losses_test, accs_test, tiempo = train_model(\n",
        "    train_batch_size=1024, inter_dense1 = 115, inter_dense2 = 30, learning_rate = 0.02, epocas=40, device=DEVICE, verbose=True, patience=10)\n",
        "print(f\"Tiempo de entrenamiento {tiempo:.2f} segundos\")"
      ],
      "metadata": {
        "colab": {
          "base_uri": "https://localhost:8080/"
        },
        "id": "uFERwmhuDbM5",
        "outputId": "5eacb9fc-3b5a-4eb7-e30d-ce523101ac29"
      },
      "execution_count": null,
      "outputs": [
        {
          "output_type": "stream",
          "name": "stdout",
          "text": [
            "0: loss train: 0.001270, accuracy train: 0.854111, loss test: 0.001240, accuracy test: 0.850250, -- epoch time: 6.51\n",
            "1: loss train: 0.001258, accuracy train: 0.838196, loss test: 0.001235, accuracy test: 0.828619, -- epoch time: 3.34\n",
            "2: loss train: 0.001255, accuracy train: 0.909814, loss test: 0.001238, accuracy test: 0.881864, -- epoch time: 3.72\n",
            "3: loss train: 0.001252, accuracy train: 0.928382, loss test: 0.001235, accuracy test: 0.883527, -- epoch time: 4.32\n",
            "4: loss train: 0.001251, accuracy train: 0.915119, loss test: 0.001234, accuracy test: 0.873544, -- epoch time: 3.34\n",
            "5: loss train: 0.001250, accuracy train: 0.872679, loss test: 0.001232, accuracy test: 0.838602, -- epoch time: 3.64\n",
            "6: loss train: 0.001249, accuracy train: 0.848806, loss test: 0.001233, accuracy test: 0.813644, -- epoch time: 4.10\n",
            "7: loss train: 0.001249, accuracy train: 0.891247, loss test: 0.001234, accuracy test: 0.868552, -- epoch time: 3.60\n",
            "8: loss train: 0.001251, accuracy train: 0.846154, loss test: 0.001231, accuracy test: 0.823627, -- epoch time: 3.48\n",
            "9: loss train: 0.001249, accuracy train: 0.875332, loss test: 0.001231, accuracy test: 0.858569, -- epoch time: 3.49\n",
            "10: loss train: 0.001248, accuracy train: 0.867374, loss test: 0.001232, accuracy test: 0.823627, -- epoch time: 4.90\n",
            "11: loss train: 0.001247, accuracy train: 0.824934, loss test: 0.001233, accuracy test: 0.792013, -- epoch time: 5.76\n",
            "12: loss train: 0.001248, accuracy train: 0.864721, loss test: 0.001230, accuracy test: 0.821963, -- epoch time: 6.19\n",
            "13: loss train: 0.001245, accuracy train: 0.888594, loss test: 0.001231, accuracy test: 0.856905, -- epoch time: 3.87\n",
            "14: loss train: 0.001246, accuracy train: 0.822281, loss test: 0.001232, accuracy test: 0.805324, -- epoch time: 3.47\n",
            "15: loss train: 0.001245, accuracy train: 0.893899, loss test: 0.001231, accuracy test: 0.861897, -- epoch time: 3.36\n",
            "16: loss train: 0.001246, accuracy train: 0.848806, loss test: 0.001230, accuracy test: 0.843594, -- epoch time: 4.41\n",
            "17: loss train: 0.001246, accuracy train: 0.851459, loss test: 0.001230, accuracy test: 0.820300, -- epoch time: 3.72\n",
            "18: loss train: 0.001245, accuracy train: 0.827586, loss test: 0.001231, accuracy test: 0.816972, -- epoch time: 3.37\n",
            "19: loss train: 0.001245, accuracy train: 0.862069, loss test: 0.001230, accuracy test: 0.831947, -- epoch time: 3.24\n",
            "20: loss train: 0.001247, accuracy train: 0.875332, loss test: 0.001230, accuracy test: 0.860233, -- epoch time: 5.62\n",
            "21: loss train: 0.001245, accuracy train: 0.848806, loss test: 0.001230, accuracy test: 0.841930, -- epoch time: 3.58\n",
            "22: loss train: 0.001245, accuracy train: 0.856764, loss test: 0.001229, accuracy test: 0.853577, -- epoch time: 4.14\n",
            "23: loss train: 0.001245, accuracy train: 0.838196, loss test: 0.001230, accuracy test: 0.818636, -- epoch time: 4.72\n",
            "24: loss train: 0.001245, accuracy train: 0.811671, loss test: 0.001231, accuracy test: 0.803661, -- epoch time: 4.68\n",
            "25: loss train: 0.001244, accuracy train: 0.864721, loss test: 0.001229, accuracy test: 0.821963, -- epoch time: 3.64\n",
            "26: loss train: 0.001243, accuracy train: 0.859416, loss test: 0.001231, accuracy test: 0.815308, -- epoch time: 5.03\n",
            "27: loss train: 0.001243, accuracy train: 0.854111, loss test: 0.001234, accuracy test: 0.785358, -- epoch time: 4.15\n",
            "28: loss train: 0.001245, accuracy train: 0.870027, loss test: 0.001230, accuracy test: 0.828619, -- epoch time: 3.22\n",
            "29: loss train: 0.001244, accuracy train: 0.851459, loss test: 0.001229, accuracy test: 0.830283, -- epoch time: 3.53\n",
            "30: loss train: 0.001245, accuracy train: 0.843501, loss test: 0.001231, accuracy test: 0.825291, -- epoch time: 4.52\n",
            "31: loss train: 0.001245, accuracy train: 0.830239, loss test: 0.001231, accuracy test: 0.808652, -- epoch time: 3.48\n",
            "32: loss train: 0.001242, accuracy train: 0.875332, loss test: 0.001230, accuracy test: 0.840266, -- epoch time: 3.23\n",
            "33: loss train: 0.001243, accuracy train: 0.888594, loss test: 0.001230, accuracy test: 0.855241, -- epoch time: 4.62\n",
            "34: loss train: 0.001245, accuracy train: 0.816976, loss test: 0.001233, accuracy test: 0.805324, -- epoch time: 4.28\n",
            "35: loss train: 0.001243, accuracy train: 0.883289, loss test: 0.001231, accuracy test: 0.835275, -- epoch time: 3.51\n",
            "36: loss train: 0.001242, accuracy train: 0.875332, loss test: 0.001230, accuracy test: 0.848586, -- epoch time: 3.36\n",
            "37: loss train: 0.001243, accuracy train: 0.822281, loss test: 0.001230, accuracy test: 0.826955, -- epoch time: 4.25\n",
            "38: loss train: 0.001242, accuracy train: 0.854111, loss test: 0.001229, accuracy test: 0.831947, -- epoch time: 3.68\n",
            "39: loss train: 0.001244, accuracy train: 0.827586, loss test: 0.001229, accuracy test: 0.841930, -- epoch time: 3.50\n",
            "Tiempo de entrenamiento 2.71 segundos\n"
          ]
        }
      ]
    },
    {
      "cell_type": "code",
      "source": [
        "print(model)"
      ],
      "metadata": {
        "colab": {
          "base_uri": "https://localhost:8080/"
        },
        "id": "5vWq4KQ6BQiC",
        "outputId": "371018e4-5aa7-42c2-c5f7-e54f25b093b8"
      },
      "execution_count": null,
      "outputs": [
        {
          "output_type": "stream",
          "name": "stdout",
          "text": [
            "EmbeddingModel(\n",
            "  (embeds_list): ModuleList(\n",
            "    (0): Embedding(3, 2)\n",
            "    (1): Embedding(2, 1)\n",
            "    (2): Embedding(7, 4)\n",
            "    (3-4): 2 x Embedding(2, 1)\n",
            "    (5): Embedding(3, 2)\n",
            "    (6-7): 2 x Embedding(2, 1)\n",
            "    (8): Embedding(4, 2)\n",
            "    (9-12): 4 x Embedding(2, 1)\n",
            "    (13): Embedding(3, 2)\n",
            "    (14-16): 3 x Embedding(2, 1)\n",
            "    (17): Embedding(34, 17)\n",
            "    (18): Embedding(3, 2)\n",
            "    (19): Embedding(8, 4)\n",
            "  )\n",
            "  (linear1): Linear(in_features=49, out_features=115, bias=True)\n",
            "  (batchnorm1): BatchNorm1d(115, eps=1e-05, momentum=0.1, affine=True, track_running_stats=True)\n",
            "  (linear2): Linear(in_features=115, out_features=30, bias=True)\n",
            "  (batchnorm2): BatchNorm1d(30, eps=1e-05, momentum=0.1, affine=True, track_running_stats=True)\n",
            "  (linear3): Linear(in_features=30, out_features=1, bias=True)\n",
            "  (dropout1): Dropout(p=0.3, inplace=False)\n",
            "  (dropout2): Dropout(p=0.3, inplace=False)\n",
            "  (dropout3): Dropout(p=0.3, inplace=False)\n",
            "  (relu): ReLU()\n",
            ")\n"
          ]
        }
      ]
    },
    {
      "cell_type": "markdown",
      "source": [
        "# Validación del modelo"
      ],
      "metadata": {
        "id": "PnZ7vvVrZPyN"
      }
    },
    {
      "cell_type": "markdown",
      "source": [
        "Generamos un gráfico comaprando la etapa de entrenamiento y validación en cuanto a la perdida (loss)."
      ],
      "metadata": {
        "id": "5Jpo6g39Y-HD"
      }
    },
    {
      "cell_type": "code",
      "source": [
        "import matplotlib.pyplot as plt\n",
        "\n",
        "plt.figure(figsize=(12, 6))  # Especifica el tamaño de la figura (ancho, alto)\n",
        "\n",
        "plt.plot(losses_train)\n",
        "plt.plot(losses_test)\n",
        "plt.title('Model Loss')\n",
        "plt.ylabel('Loss')\n",
        "plt.xlabel('Epoch')\n",
        "plt.legend(['Train', 'Test'], loc='upper left')\n",
        "\n",
        "plt.show()\n"
      ],
      "metadata": {
        "colab": {
          "base_uri": "https://localhost:8080/",
          "height": 564
        },
        "id": "lK9HqPeHz8Fw",
        "outputId": "4b87fe56-108b-4e10-fe95-16937d69cfd2"
      },
      "execution_count": null,
      "outputs": [
        {
          "output_type": "display_data",
          "data": {
            "text/plain": [
              "<Figure size 1500x600 with 2 Axes>"
            ],
            "image/png": "[encoded data removed]"
          },
          "metadata": {}
        }
      ]
    },
    {
      "cell_type": "markdown",
      "source": [
        "## Evaluación del modelo"
      ],
      "metadata": {
        "id": "H867bJO2JacZ"
      }
    },
    {
      "cell_type": "markdown",
      "source": [
        "Evaluamos diferentes métricas para el modelo con los datos de validación\n",
        "\n"
      ],
      "metadata": {
        "id": "3WsPep8SWuy6"
      }
    },
    {
      "cell_type": "code",
      "source": [
        "from prettytable import PrettyTable\n",
        "from sklearn.metrics import accuracy_score, roc_curve, auc, recall_score, precision_score, f1_score\n",
        "from sklearn.metrics import confusion_matrix\n",
        "\n",
        "# Inicializar la tabla\n",
        "table = PrettyTable()\n",
        "\n",
        "# Definir las columnas\n",
        "table.field_names = ['Conjunto', 'Accuracy', 'Recall', 'Especificidad', 'Precision', 'F1 Score', 'ROC AUC']\n",
        "\n",
        "for name, X, Y in [('Entrenamiento', train_x, train_y), ('Prueba', val_x, val_y)]:\n",
        "    model.eval()\n",
        "    with torch.no_grad():\n",
        "        test_inputs = torch.from_numpy(X.values).to(DEVICE).float().to(DEVICE)\n",
        "        test_labels = torch.from_numpy(Y.values.reshape(-1, 1)).float().to(DEVICE)\n",
        "        \n",
        "        test_outputs = torch.sigmoid(model(test_inputs))\n",
        "        test_preds = (test_outputs > umbral).float()\n",
        "    \n",
        "    test_preds_cpu = test_preds.cpu()\n",
        "    test_labels_cpu = test_labels.cpu()\n",
        "    test_outputs_cpu = test_outputs.cpu()\n",
        "    \n",
        "    accuracy = accuracy_score(test_labels_cpu, test_preds_cpu)\n",
        "    precision = precision_score(test_labels_cpu, test_preds_cpu)\n",
        "    sensitivity = recall_score(test_labels_cpu, test_preds_cpu, pos_label=1)\n",
        "    f1 = f1_score(test_labels_cpu, test_preds_cpu)\n",
        "\n",
        "    tn, fp, fn, tp = confusion_matrix(test_labels_cpu, test_preds_cpu).ravel()\n",
        "    specificity = tn / (tn + fp)\n",
        "    \n",
        "    fpr, tpr, _ = roc_curve(test_labels_cpu, test_outputs_cpu)\n",
        "    roc_auc = auc(fpr, tpr)\n",
        "    \n",
        "    table.add_row([name, round(accuracy, 3), round(sensitivity, 3), round(specificity, 3), round(precision, 3), round(f1, 3), round(roc_auc, 3)])\n",
        "\n",
        "# Imprimir la tabla\n",
        "print(table)\n"
      ],
      "metadata": {
        "colab": {
          "base_uri": "https://localhost:8080/"
        },
        "id": "y1tVxoIFpvIn",
        "outputId": "8205493c-3343-4930-c4ab-95af039ad305"
      },
      "execution_count": null,
      "outputs": [
        {
          "output_type": "stream",
          "name": "stdout",
          "text": [
            "+---------------+----------+--------+---------------+-----------+----------+---------+\n",
            "|    Conjunto   | Accuracy | Recall | Especificidad | Precision | F1 Score | ROC AUC |\n",
            "+---------------+----------+--------+---------------+-----------+----------+---------+\n",
            "| Entrenamiento |  0.864   |  0.33  |     0.891     |   0.133   |   0.19   |   0.68  |\n",
            "|     Prueba    |  0.862   | 0.319  |     0.889     |   0.126   |  0.181   |  0.678  |\n",
            "+---------------+----------+--------+---------------+-----------+----------+---------+\n"
          ]
        }
      ]
    },
    {
      "cell_type": "markdown",
      "source": [
        "Construimos una matriz de confusión bonita, para ver los aciertos y errores del las predicciones del modelo. "
      ],
      "metadata": {
        "id": "NgN2efmyX5b8"
      }
    },
    {
      "cell_type": "code",
      "source": [
        "#!pip install prettytable\n",
        "from prettytable import PrettyTable\n",
        "from sklearn.metrics import confusion_matrix\n",
        "\n",
        "# Copiar los tensores de vuelta a la CPU\n",
        "test_labels_cpu = test_labels.cpu()\n",
        "test_preds_cpu = test_preds.cpu()\n",
        "\n",
        "# Obtener la matriz de confusión\n",
        "conf_matrix = confusion_matrix(test_labels_cpu, test_preds_cpu)\n",
        "\n",
        "# Crear la tabla\n",
        "table = PrettyTable()\n",
        "table.field_names = [\"\", \"Predicción 0\", \"Predicción 1\"]\n",
        "table.add_row([\"Valor Real 0\", conf_matrix[0][0], conf_matrix[0][1]])\n",
        "table.add_row([\"Valor Real 1\", conf_matrix[1][0], conf_matrix[1][1]])\n",
        "\n",
        "# Imprimir la tabla\n",
        "print(\"Matriz de Confusión:\")\n",
        "print(table)"
      ],
      "metadata": {
        "colab": {
          "base_uri": "https://localhost:8080/"
        },
        "id": "ZJ38TfHKs6_Z",
        "outputId": "0a7ea514-772a-4993-8fc5-9cf6c7026ba6"
      },
      "execution_count": null,
      "outputs": [
        {
          "output_type": "stream",
          "name": "stdout",
          "text": [
            "Matriz de Confusión:\n",
            "+--------------+--------------+--------------+\n",
            "|              | Predicción 0 | Predicción 1 |\n",
            "+--------------+--------------+--------------+\n",
            "| Valor Real 0 |    48132     |     5982     |\n",
            "| Valor Real 1 |     1843     |     864      |\n",
            "+--------------+--------------+--------------+\n"
          ]
        }
      ]
    },
    {
      "cell_type": "markdown",
      "source": [
        "Construimos la curva roc, entre mas cercana a 1 mejor, y entre mas cercana a la linea de referencia del centro (roc auc de 0.5) el modelo presenta mayor limitación. "
      ],
      "metadata": {
        "id": "6PxfnOkkYTLY"
      }
    },
    {
      "cell_type": "code",
      "source": [
        "import matplotlib.pyplot as plt\n",
        "from sklearn.metrics import roc_curve, auc\n",
        "\n",
        "# Copiar los tensores de vuelta a la CPU\n",
        "test_labels_cpu = test_labels.cpu()\n",
        "test_outputs_cpu = test_outputs.cpu()\n",
        "\n",
        "# Calcular la curva ROC y el área bajo la curva (AUC)\n",
        "fpr, tpr, _ = roc_curve(test_labels_cpu, test_outputs_cpu)\n",
        "roc_auc = auc(fpr, tpr)\n",
        "\n",
        "# Graficar la curva ROC\n",
        "plt.figure(figsize=(8, 6))\n",
        "plt.plot(fpr, tpr, color='darkorange', lw=2, label='ROC curve (AUC = %0.2f)' % roc_auc)\n",
        "plt.plot([0, 1], [0, 1], color='navy', lw=2, linestyle='--')\n",
        "plt.xlim([0.0, 1.0])\n",
        "plt.ylim([0.0, 1.05])\n",
        "plt.xlabel('False Positive Rate')\n",
        "plt.ylabel('True Positive Rate')\n",
        "plt.title('Receiver operating characteristic')\n",
        "plt.legend(loc=\"lower right\")\n",
        "plt.show()"
      ],
      "metadata": {
        "colab": {
          "base_uri": "https://localhost:8080/",
          "height": 564
        },
        "id": "WegkYtK0qfUI",
        "outputId": "2171567e-d88d-4675-afb2-e68f71a3b4b8"
      },
      "execution_count": null,
      "outputs": [
        {
          "output_type": "display_data",
          "data": {
            "text/plain": [
              "<Figure size 800x600 with 1 Axes>"
            ],
            "image/png": "[encoded data removed]"
          },
          "metadata": {}
        }
      ]
    },
    {
      "cell_type": "markdown",
      "source": [
        "## Escogencia del umbral de clasificación de la probabilidad"
      ],
      "metadata": {
        "id": "8eILUCWlJp46"
      }
    },
    {
      "cell_type": "code",
      "source": [
        "import seaborn as sns\n",
        "import numpy as np\n",
        "import matplotlib.pyplot as plt\n",
        "from sklearn.metrics import precision_score, recall_score, f1_score, accuracy_score\n",
        "\n",
        "# obtiene las probabilidades de predicción del modelo\n",
        "model.eval()\n",
        "with torch.no_grad():\n",
        "    y_prob = torch.sigmoid(model(test_inputs))\n",
        "\n",
        "# define los umbrales a evaluar\n",
        "thresholds = np.arange(0, 1.1, 0.1)\n",
        "\n",
        "# inicializa las listas de las métricas\n",
        "accuracies = []\n",
        "precisions = []\n",
        "recalls = []\n",
        "f1_scores = []\n",
        "specificities = []\n",
        "positive_rates = []\n",
        "falsenegative_rates = []\n",
        "\n",
        "\n",
        "# evalúa las métricas para cada umbral\n",
        "for threshold in thresholds:\n",
        "    # convierte las probabilidades a predicciones binarias utilizando el umbral\n",
        "    y_pred = (y_prob >= threshold).cpu().numpy().astype(int)\n",
        "    \n",
        "    # calcula y almacena las métricas de evaluación\n",
        "    accuracies.append(accuracy_score(test_labels_cpu, y_pred))\n",
        "    precisions.append(precision_score(test_labels_cpu, y_pred))\n",
        "    recalls.append(recall_score(test_labels_cpu, y_pred))\n",
        "    f1_scores.append(f1_score(test_labels_cpu, y_pred))\n",
        "\n",
        "    # calcula la matriz de confusión y extrae los valores de TN y FP\n",
        "    tn, fp, fn, tp = confusion_matrix(test_labels_cpu, y_pred).ravel()\n",
        "    \n",
        "    # calcula y almacena la especificidad\n",
        "    specificity = tn / (tn + fp)\n",
        "    specificities.append(specificity)\n",
        "\n",
        "    # calcula la relación (TP + FP) / (TP + FP + TN + FN)\n",
        "    positive_rate = (tp + fp) / (tn + fp + fn + tp)\n",
        "    positive_rates.append(positive_rate)\n",
        "\n",
        "    # calcula la relación (TP + FP) / (TP + FP + TN + FN)\n",
        "    falsenegative_rate = (fn) / (tn + fp + fn + tp)\n",
        "    falsenegative_rates.append(falsenegative_rate)\n",
        "\n",
        "# Configuración de Seaborn\n",
        "sns.set(style=\"darkgrid\")\n",
        "plt.figure(figsize=(10, 6))\n",
        "sns.set_context(\"paper\", font_scale=1.2)\n",
        "\n",
        "# Personalizar colores\n",
        "colors = sns.color_palette(\"Set1\", n_colors=5)\n",
        "\n",
        "# grafica las métricas en función del umbral\n",
        "plt.plot(thresholds, precisions, label='Precision', color=colors[0])\n",
        "plt.plot(thresholds, recalls, label='Recall', color=colors[1])\n",
        "plt.plot(thresholds, f1_scores, label='F1-score', color=colors[2])\n",
        "plt.plot(thresholds, accuracies, label='Accuracy', color=colors[3])\n",
        "plt.plot(thresholds, specificities, label='Specificity', color=colors[4])\n",
        "plt.plot(thresholds, positive_rates, '--', color='black', label='Positive Rate')\n",
        "plt.plot(thresholds, falsenegative_rates, '--', color='red', label='FN Rate')\n",
        "\n",
        "# Añadir leyendas, título y etiquetas de los ejes\n",
        "plt.xlabel('Threshold')\n",
        "plt.ylabel('Metric')\n",
        "plt.title('Metrics vs Threshold')\n",
        "plt.legend()\n",
        "\n",
        "# Mostrar el gráfico\n",
        "plt.show()\n"
      ],
      "metadata": {
        "colab": {
          "base_uri": "https://localhost:8080/",
          "height": 566
        },
        "id": "X6OLkCtgbsXM",
        "outputId": "b9a5687a-fcaf-4306-e9d1-30f5718a55c7"
      },
      "execution_count": null,
      "outputs": [
        {
          "output_type": "display_data",
          "data": {
            "text/plain": [
              "<Figure size 1000x600 with 1 Axes>"
            ],
            "image/png": "[encoded data removed]"
          },
          "metadata": {}
        }
      ]
    },
    {
      "cell_type": "code",
      "source": [
        "import numpy as np\n",
        "import matplotlib.pyplot as plt\n",
        "import pandas as pd\n",
        "from sklearn.metrics import precision_score, recall_score, f1_score, accuracy_score\n",
        "from sklearn.metrics import confusion_matrix\n",
        "\n",
        "# obtiene las probabilidades de predicción del modelo\n",
        "model.eval()\n",
        "with torch.no_grad():\n",
        "    y_prob = torch.sigmoid(model(inputs_test))\n",
        "\n",
        "# define los umbrales a evaluar\n",
        "thresholds = np.arange(0, 1.0, 0.001)\n",
        "\n",
        "# inicializa las listas de las métricas\n",
        "accuracies = []\n",
        "precisions = []\n",
        "recalls = []\n",
        "f1_scores = []\n",
        "specificities = []\n",
        "positive_rates = []\n",
        "falsenegative_rates = []\n",
        "\n",
        "# evalúa las métricas para cada umbral\n",
        "for threshold in thresholds:\n",
        "    # convierte las probabilidades a predicciones binarias utilizando el umbral\n",
        "    y_pred = (y_prob >= threshold).cpu().numpy().astype(int)\n",
        "    \n",
        "    # calcula y almacena las métricas de evaluación\n",
        "    accuracies.append(accuracy_score(test_labels_cpu, y_pred))\n",
        "    precisions.append(precision_score(test_labels_cpu, y_pred))\n",
        "    recalls.append(recall_score(test_labels_cpu, y_pred))\n",
        "    f1_scores.append(f1_score(test_labels_cpu, y_pred))\n",
        "\n",
        "    # calcula la matriz de confusión y extrae los valores de TN y FP\n",
        "    tn, fp, fn, tp = confusion_matrix(test_labels_cpu, y_pred).ravel()\n",
        "    \n",
        "    # calcula y almacena la especificidad\n",
        "    specificity = tn / (tn + fp)\n",
        "    specificities.append(specificity)\n",
        "\n",
        "    # calcula la relación (TP + FP) / (TP + FP + TN + FN)\n",
        "    positive_rate = (tp + fp) / (tn + fp + fn + tp)\n",
        "    positive_rates.append(positive_rate)\n",
        "\n",
        "    # calcula la relación (TP + FP) / (TP + FP + TN + FN)\n",
        "    falsenegative_rate = (fn) / (tn + fp + fn + tp)\n",
        "    falsenegative_rates.append(falsenegative_rate)\n",
        "\n",
        "# Crea un DataFrame con las métricas y los umbrales\n",
        "datox = {\n",
        "    'Threshold': thresholds,\n",
        "    'Precision': precisions,\n",
        "    'Recall': recalls,\n",
        "    'F1-Score': f1_scores,\n",
        "    'Accuracy': accuracies,\n",
        "    'Specificity': specificities,\n",
        "    'Positive Rate': positive_rates,\n",
        "    'FN Rate': falsenegative_rates\n",
        "}\n",
        "df_umbral = pd.DataFrame(datox)\n",
        "\n",
        "# Configuración de formato de la tabla\n",
        "pd.set_option('display.max_columns', None)\n",
        "pd.set_option('display.width', 200)\n",
        "\n",
        "# Muestra la tabla resumen\n",
        "print(df_umbral.to_string(index=False))\n"
      ],
      "metadata": {
        "colab": {
          "base_uri": "https://localhost:8080/"
        },
        "id": "OQAm6I_rTOH2",
        "outputId": "9f25d36a-730b-4414-9191-20b7ccb0c7c4"
      },
      "execution_count": null,
      "outputs": [
        {
          "output_type": "stream",
          "name": "stdout",
          "text": [
            " Threshold  Precision   Recall  F1-Score  Accuracy  Specificity  Positive Rate  FN Rate\n",
            "     0.000   0.047659 1.000000  0.090981  0.047659     0.000000       1.000000 0.000000\n",
            "     0.001   0.073292 0.670113  0.132133  0.580470     0.575983       0.435745 0.015722\n",
            "     0.002   0.076694 0.627031  0.136671  0.622461     0.622233       0.389647 0.017775\n",
            "     0.003   0.078880 0.609060  0.139671  0.642407     0.644076       0.367988 0.018632\n",
            "     0.004   0.080339 0.597243  0.141627  0.654973     0.657862       0.354296 0.019195\n",
            "     0.005   0.081522 0.590103  0.143254  0.663608     0.667287       0.344980 0.019535\n",
            "     0.006   0.082551 0.584195  0.144660  0.670754     0.675085       0.337272 0.019817\n",
            "     0.007   0.083413 0.578287  0.145796  0.677054     0.681997       0.330408 0.020098\n",
            "     0.008   0.084183 0.573117  0.146803  0.682510     0.687984       0.324459 0.020345\n",
            "     0.009   0.084908 0.569670  0.147789  0.686886     0.692752       0.319755 0.020509\n",
            "     0.010   0.085070 0.564746  0.147866  0.689784     0.696042       0.316387 0.020744\n",
            "     0.011   0.085313 0.560561  0.148088  0.692624     0.699232       0.313149 0.020943\n",
            "     0.012   0.085907 0.558099  0.148895  0.695920     0.702818       0.309617 0.021060\n",
            "     0.013   0.086388 0.552930  0.149429  0.700004     0.707364       0.305042 0.021307\n",
            "     0.014   0.086935 0.551699  0.150201  0.702479     0.710025       0.302449 0.021365\n",
            "     0.015   0.087248 0.547760  0.150521  0.705342     0.713228       0.299210 0.021553\n",
            "     0.016   0.087509 0.545544  0.150825  0.707231     0.715322       0.297110 0.021659\n",
            "     0.017   0.087700 0.542590  0.150995  0.709202     0.717540       0.294858 0.021800\n",
            "     0.018   0.088123 0.540867  0.151554  0.711384     0.719918       0.292511 0.021882\n",
            "     0.019   0.088373 0.538897  0.151845  0.713086     0.721803       0.290622 0.021976\n",
            "     0.020   0.088620 0.537174  0.152141  0.714658     0.723540       0.288885 0.022058\n",
            "     0.021   0.088866 0.535451  0.152434  0.716218     0.725265       0.287161 0.022140\n",
            "     0.022   0.089383 0.534958  0.153174  0.718096     0.727260       0.285237 0.022163\n",
            "     0.023   0.089570 0.532742  0.153356  0.719656     0.729010       0.283465 0.022269\n",
            "     0.024   0.089853 0.531019  0.153698  0.721299     0.730821       0.281658 0.022351\n",
            "     0.025   0.090277 0.530527  0.154298  0.722836     0.732459       0.280074 0.022374\n",
            "     0.026   0.090534 0.529788  0.154642  0.723950     0.733667       0.278889 0.022410\n",
            "     0.027   0.090794 0.528557  0.154968  0.725276     0.735121       0.277446 0.022468\n",
            "     0.028   0.090894 0.527326  0.155060  0.726109     0.736057       0.276496 0.022527\n",
            "     0.029   0.091150 0.525357  0.155347  0.727728     0.737856       0.274689 0.022621\n",
            "     0.030   0.091077 0.522649  0.155122  0.728667     0.738977       0.273492 0.022750\n",
            "     0.031   0.091387 0.521910  0.155539  0.729910     0.740320       0.272178 0.022785\n",
            "     0.032   0.091483 0.521172  0.155645  0.730509     0.740985       0.271509 0.022820\n",
            "     0.033   0.091932 0.521172  0.156294  0.731835     0.742377       0.270183 0.022820\n",
            "     0.034   0.091955 0.519695  0.156260  0.732527     0.743178       0.269350 0.022891\n",
            "     0.035   0.091883 0.517233  0.156046  0.733360     0.744176       0.268283 0.023008\n",
            "     0.036   0.091966 0.516248  0.156120  0.734017     0.744915       0.267532 0.023055\n",
            "     0.037   0.092163 0.515017  0.156347  0.735108     0.746122       0.266323 0.023114\n",
            "     0.038   0.092104 0.512309  0.156137  0.736082     0.747280       0.265091 0.023243\n",
            "     0.039   0.092440 0.512309  0.156619  0.737044     0.748291       0.264129 0.023243\n",
            "     0.040   0.092586 0.511571  0.156795  0.737771     0.749091       0.263331 0.023278\n",
            "     0.041   0.092605 0.509601  0.156729  0.738651     0.750114       0.262264 0.023372\n",
            "     0.042   0.092656 0.508124  0.156732  0.739414     0.750989       0.261360 0.023442\n",
            "     0.043   0.092923 0.507139  0.157066  0.740576     0.752258       0.260105 0.023489\n",
            "     0.044   0.093336 0.505170  0.157561  0.742547     0.754426       0.257946 0.023583\n",
            "     0.045   0.093459 0.504431  0.157700  0.743192     0.755141       0.257230 0.023618\n",
            "     0.046   0.093544 0.502954  0.157748  0.744037     0.756101       0.256245 0.023689\n",
            "     0.047   0.093744 0.502462  0.158009  0.744788     0.756915       0.255447 0.023712\n",
            "     0.048   0.093869 0.501723  0.158150  0.745433     0.757629       0.254731 0.023747\n",
            "     0.049   0.094121 0.501723  0.158507  0.746114     0.758344       0.254051 0.023747\n",
            "     0.050   0.094290 0.501231  0.158721  0.746771     0.759058       0.253347 0.023771\n",
            "     0.051   0.094297 0.499015  0.158620  0.747697     0.760142       0.252209 0.023876\n",
            "     0.052   0.094480 0.498523  0.158855  0.748390     0.760894       0.251470 0.023900\n",
            "     0.053   0.094610 0.498277  0.159026  0.748836     0.761374       0.251000 0.023911\n",
            "     0.054   0.094714 0.497538  0.159134  0.749410     0.762015       0.250355 0.023947\n",
            "     0.055   0.094786 0.496307  0.159173  0.750103     0.762804       0.249545 0.024005\n",
            "     0.056   0.094863 0.495569  0.159244  0.750607     0.763370       0.248970 0.024041\n",
            "     0.057   0.095083 0.495076  0.159527  0.751382     0.764208       0.248149 0.024064\n",
            "     0.058   0.095143 0.493845  0.159548  0.752039     0.764960       0.247375 0.024123\n",
            "     0.059   0.095200 0.491630  0.159511  0.753083     0.766167       0.246119 0.024228\n",
            "     0.060   0.095397 0.491384  0.159776  0.753693     0.766820       0.245486 0.024240\n",
            "     0.061   0.095528 0.490645  0.159920  0.754326     0.767522       0.244782 0.024275\n",
            "     0.062   0.095682 0.490399  0.160122  0.754819     0.768052       0.244266 0.024287\n",
            "     0.063   0.095936 0.489906  0.160452  0.755664     0.768964       0.243374 0.024310\n",
            "     0.064   0.095912 0.488676  0.160352  0.756098     0.769481       0.242822 0.024369\n",
            "     0.065   0.096143 0.488429  0.160661  0.756779     0.770208       0.242118 0.024381\n",
            "     0.066   0.096226 0.486460  0.160670  0.757776     0.771354       0.240933 0.024475\n",
            "     0.067   0.096293 0.485968  0.160736  0.758140     0.771760       0.240523 0.024498\n",
            "     0.068   0.096509 0.485968  0.161038  0.758679     0.772327       0.239983 0.024498\n",
            "     0.069   0.096689 0.485968  0.161288  0.759125     0.772795       0.239537 0.024498\n",
            "     0.070   0.096872 0.485721  0.161529  0.759677     0.773386       0.238962 0.024510\n",
            "     0.071   0.096969 0.485229  0.161637  0.760111     0.773867       0.238481 0.024533\n",
            "     0.072   0.096911 0.484244  0.161501  0.760357     0.774175       0.238141 0.024580\n",
            "     0.073   0.096951 0.483752  0.161529  0.760650     0.774508       0.237801 0.024604\n",
            "     0.074   0.096985 0.483013  0.161535  0.761026     0.774939       0.237355 0.024639\n",
            "     0.075   0.097057 0.482275  0.161594  0.761495     0.775468       0.236815 0.024674\n",
            "     0.076   0.097213 0.481782  0.161782  0.762070     0.776097       0.236193 0.024698\n",
            "     0.077   0.097243 0.481044  0.161782  0.762434     0.776516       0.235759 0.024733\n",
            "     0.078   0.097313 0.480551  0.161851  0.762798     0.776922       0.235349 0.024756\n",
            "     0.079   0.097294 0.479813  0.161783  0.763044     0.777218       0.235032 0.024791\n",
            "     0.080   0.097357 0.478828  0.161814  0.763584     0.777834       0.234398 0.024838\n",
            "     0.081   0.097452 0.478336  0.161917  0.764006     0.778302       0.233929 0.024862\n",
            "     0.082   0.097413 0.477351  0.161806  0.764299     0.778659       0.233542 0.024909\n",
            "     0.083   0.097464 0.476859  0.161848  0.764616     0.779017       0.233178 0.024932\n",
            "     0.084   0.097394 0.475628  0.161680  0.764933     0.779411       0.232744 0.024991\n",
            "     0.085   0.097405 0.474889  0.161653  0.765250     0.779780       0.232357 0.025026\n",
            "     0.086   0.097370 0.473904  0.161547  0.765555     0.780150       0.231958 0.025073\n",
            "     0.087   0.097437 0.473658  0.161626  0.765813     0.780433       0.231676 0.025085\n",
            "     0.088   0.097435 0.473166  0.161594  0.766001     0.780655       0.231442 0.025108\n",
            "     0.089   0.097472 0.472674  0.161616  0.766282     0.780975       0.231113 0.025132\n",
            "     0.090   0.097654 0.472427  0.161852  0.766810     0.781542       0.230562 0.025143\n",
            "     0.091   0.097726 0.471935  0.161922  0.767174     0.781949       0.230151 0.025167\n",
            "     0.092   0.097764 0.471443  0.161945  0.767456     0.782269       0.229822 0.025190\n",
            "     0.093   0.097856 0.470704  0.162027  0.767960     0.782836       0.229248 0.025226\n",
            "     0.094   0.097935 0.470458  0.162121  0.768242     0.783144       0.228943 0.025237\n",
            "     0.095   0.098003 0.469966  0.162185  0.768594     0.783538       0.228544 0.025261\n",
            "     0.096   0.097980 0.469227  0.162109  0.768828     0.783821       0.228239 0.025296\n",
            "     0.097   0.097914 0.467996  0.161946  0.769157     0.784228       0.227793 0.025355\n",
            "     0.098   0.097992 0.467258  0.162008  0.769626     0.784758       0.227253 0.025390\n",
            "     0.099   0.098120 0.466519  0.162139  0.770213     0.785411       0.226596 0.025425\n",
            "     0.100   0.098216 0.466273  0.162255  0.770530     0.785756       0.226256 0.025437\n",
            "     0.101   0.098322 0.466027  0.162385  0.770870     0.786125       0.225892 0.025448\n",
            "     0.102   0.098284 0.465288  0.162287  0.771069     0.786372       0.225622 0.025484\n",
            "     0.103   0.098323 0.464796  0.162311  0.771351     0.786692       0.225294 0.025507\n",
            "     0.104   0.098424 0.464303  0.162418  0.771773     0.787160       0.224824 0.025531\n",
            "     0.105   0.098344 0.463319  0.162248  0.771973     0.787419       0.224531 0.025578\n",
            "     0.106   0.098323 0.461841  0.162129  0.772501     0.788047       0.223862 0.025648\n",
            "     0.107   0.098331 0.461349  0.162111  0.772712     0.788294       0.223604 0.025671\n",
            "     0.108   0.098413 0.461103  0.162207  0.772993     0.788602       0.223299 0.025683\n",
            "     0.109   0.098496 0.459380  0.162212  0.773850     0.789587       0.222278 0.025765\n",
            "     0.110   0.098526 0.459133  0.162237  0.774014     0.789772       0.222091 0.025777\n",
            "     0.111   0.098577 0.458887  0.162292  0.774225     0.790006       0.221856 0.025789\n",
            "     0.112   0.098729 0.458887  0.162497  0.774566     0.790363       0.221516 0.025789\n",
            "     0.113   0.098765 0.458641  0.162530  0.774742     0.790560       0.221316 0.025800\n",
            "     0.114   0.098815 0.457903  0.162552  0.775141     0.791016       0.220847 0.025836\n",
            "     0.115   0.098926 0.457903  0.162701  0.775387     0.791275       0.220600 0.025836\n",
            "     0.116   0.098914 0.457410  0.162654  0.775551     0.791472       0.220389 0.025859\n",
            "     0.117   0.099014 0.457164  0.162773  0.775868     0.791817       0.220049 0.025871\n",
            "     0.118   0.099251 0.456918  0.163079  0.776490     0.792482       0.219404 0.025883\n",
            "     0.119   0.099325 0.456425  0.163147  0.776842     0.792877       0.219005 0.025906\n",
            "     0.120   0.099238 0.455441  0.162967  0.777029     0.793123       0.218723 0.025953\n",
            "     0.121   0.099141 0.454456  0.162772  0.777194     0.793345       0.218465 0.026000\n",
            "     0.122   0.099194 0.454210  0.162828  0.777405     0.793579       0.218230 0.026012\n",
            "     0.123   0.099267 0.453717  0.162896  0.777757     0.793973       0.217832 0.026035\n",
            "     0.124   0.099385 0.453471  0.163038  0.778109     0.794355       0.217456 0.026047\n",
            "     0.125   0.099567 0.453225  0.163267  0.778602     0.794885       0.216940 0.026059\n",
            "     0.126   0.099648 0.452979  0.163360  0.778872     0.795180       0.216647 0.026070\n",
            "     0.127   0.099702 0.452733  0.163416  0.779083     0.795415       0.216412 0.026082\n",
            "     0.128   0.099782 0.451748  0.163460  0.779634     0.796043       0.215767 0.026129\n",
            "     0.129   0.100044 0.451748  0.163810  0.780197     0.796634       0.215203 0.026129\n",
            "     0.130   0.100246 0.451748  0.164081  0.780631     0.797090       0.214769 0.026129\n",
            "     0.131   0.100257 0.451256  0.164064  0.780843     0.797336       0.214511 0.026152\n",
            "     0.132   0.100307 0.451009  0.164114  0.781042     0.797558       0.214288 0.026164\n",
            "     0.133   0.100280 0.450025  0.164012  0.781359     0.797940       0.213878 0.026211\n",
            "     0.134   0.100297 0.449286  0.163986  0.781676     0.798310       0.213490 0.026246\n",
            "     0.135   0.100275 0.448548  0.163908  0.781910     0.798593       0.213185 0.026282\n",
            "     0.136   0.100292 0.447809  0.163881  0.782227     0.798963       0.212798 0.026317\n",
            "     0.137   0.100309 0.447317  0.163871  0.782450     0.799221       0.212528 0.026340\n",
            "     0.138   0.100337 0.446824  0.163875  0.782696     0.799505       0.212235 0.026364\n",
            "     0.139   0.100443 0.446578  0.164000  0.783013     0.799850       0.211895 0.026375\n",
            "     0.140   0.100488 0.446332  0.164043  0.783201     0.800059       0.211684 0.026387\n",
            "     0.141   0.100661 0.446332  0.164273  0.783565     0.800441       0.211320 0.026387\n",
            "     0.142   0.100645 0.445839  0.164218  0.783717     0.800626       0.211120 0.026411\n",
            "     0.143   0.100785 0.445593  0.164389  0.784104     0.801045       0.210710 0.026422\n",
            "     0.144   0.100803 0.445101  0.164379  0.784327     0.801303       0.210440 0.026446\n",
            "     0.145   0.101080 0.444855  0.164729  0.784996     0.802018       0.209748 0.026458\n",
            "     0.146   0.101188 0.444362  0.164840  0.785407     0.802474       0.209290 0.026481\n",
            "     0.147   0.101297 0.444116  0.164967  0.785724     0.802819       0.208950 0.026493\n",
            "     0.148   0.101237 0.443378  0.164836  0.785876     0.803016       0.208727 0.026528\n",
            "     0.149   0.101227 0.442885  0.164789  0.786040     0.803213       0.208516 0.026551\n",
            "     0.150   0.101358 0.442885  0.164963  0.786310     0.803496       0.208246 0.026551\n",
            "     0.151   0.101303 0.442147  0.164839  0.786474     0.803706       0.208011 0.026587\n",
            "     0.152   0.101373 0.441654  0.164897  0.786803     0.804075       0.207636 0.026610\n",
            "     0.153   0.101460 0.441408  0.164995  0.787073     0.804371       0.207342 0.026622\n",
            "     0.154   0.101517 0.441408  0.165071  0.787190     0.804494       0.207225 0.026622\n",
            "     0.155   0.101553 0.441162  0.165100  0.787354     0.804679       0.207037 0.026634\n",
            "     0.156   0.101601 0.440670  0.165129  0.787636     0.804999       0.206709 0.026657\n",
            "     0.157   0.101659 0.440423  0.165189  0.787847     0.805234       0.206474 0.026669\n",
            "     0.158   0.101724 0.440177  0.165257  0.788070     0.805480       0.206228 0.026680\n",
            "     0.159   0.101754 0.439931  0.165279  0.788223     0.805652       0.206052 0.026692\n",
            "     0.160   0.101936 0.439439  0.165485  0.788774     0.806256       0.205453 0.026716\n",
            "     0.161   0.102064 0.439439  0.165654  0.789032     0.806527       0.205195 0.026716\n",
            "     0.162   0.102225 0.438946  0.165830  0.789537     0.807082       0.204644 0.026739\n",
            "     0.163   0.102324 0.438946  0.165961  0.789736     0.807291       0.204444 0.026739\n",
            "     0.164   0.102333 0.438454  0.165937  0.789936     0.807525       0.204198 0.026763\n",
            "     0.165   0.102297 0.437469  0.165819  0.790229     0.807882       0.203811 0.026809\n",
            "     0.166   0.102379 0.437469  0.165927  0.790393     0.808055       0.203647 0.026809\n",
            "     0.167   0.102427 0.437469  0.165989  0.790487     0.808153       0.203553 0.026809\n",
            "     0.168   0.102498 0.437469  0.166083  0.790628     0.808301       0.203412 0.026809\n",
            "     0.169   0.102612 0.437223  0.166214  0.790945     0.808646       0.203072 0.026821\n",
            "     0.170   0.102730 0.437223  0.166370  0.791179     0.808893       0.202837 0.026821\n",
            "     0.171   0.102779 0.436977  0.166417  0.791367     0.809102       0.202626 0.026833\n",
            "     0.172   0.102875 0.436977  0.166542  0.791555     0.809299       0.202438 0.026833\n",
            "     0.173   0.102848 0.436484  0.166471  0.791684     0.809459       0.202262 0.026856\n",
            "     0.174   0.102932 0.436484  0.166581  0.791848     0.809632       0.202098 0.026856\n",
            "     0.175   0.103027 0.436484  0.166706  0.792036     0.809829       0.201910 0.026856\n",
            "     0.176   0.103141 0.436484  0.166855  0.792259     0.810063       0.201687 0.026856\n",
            "     0.177   0.103179 0.436238  0.166886  0.792423     0.810248       0.201499 0.026868\n",
            "     0.178   0.103233 0.436238  0.166957  0.792529     0.810359       0.201394 0.026868\n",
            "     0.179   0.103239 0.435500  0.166910  0.792810     0.810691       0.201042 0.026903\n",
            "     0.180   0.103208 0.434761  0.166816  0.793021     0.810950       0.200760 0.026939\n",
            "     0.181   0.103234 0.434515  0.166832  0.793162     0.811110       0.200596 0.026950\n",
            "     0.182   0.103202 0.434023  0.166753  0.793279     0.811258       0.200432 0.026974\n",
            "     0.183   0.103254 0.433530  0.166785  0.793561     0.811578       0.200103 0.026997\n",
            "     0.184   0.103181 0.432792  0.166635  0.793690     0.811751       0.199904 0.027032\n",
            "     0.185   0.102974 0.431315  0.166255  0.793831     0.811973       0.199622 0.027103\n",
            "     0.186   0.103107 0.431315  0.166429  0.794089     0.812244       0.199364 0.027103\n",
            "     0.187   0.103259 0.431315  0.166627  0.794382     0.812552       0.199071 0.027103\n",
            "     0.188   0.103365 0.431068  0.166746  0.794676     0.812872       0.198754 0.027115\n",
            "     0.189   0.103481 0.431068  0.166897  0.794899     0.813106       0.198531 0.027115\n",
            "     0.190   0.103542 0.431068  0.166977  0.795016     0.813229       0.198414 0.027115\n",
            "     0.191   0.103512 0.430330  0.166881  0.795227     0.813488       0.198132 0.027150\n",
            "     0.192   0.103624 0.430084  0.167009  0.795532     0.813821       0.197804 0.027161\n",
            "     0.193   0.103538 0.429345  0.166842  0.795638     0.813968       0.197628 0.027197\n",
            "     0.194   0.103781 0.429099  0.167138  0.796189     0.814560       0.197053 0.027208\n",
            "     0.195   0.103911 0.429099  0.167307  0.796436     0.814818       0.196806 0.027208\n",
            "     0.196   0.103947 0.428607  0.167315  0.796682     0.815102       0.196513 0.027232\n",
            "     0.197   0.103980 0.428360  0.167340  0.796834     0.815274       0.196337 0.027244\n",
            "     0.198   0.104098 0.428360  0.167493  0.797057     0.815508       0.196114 0.027244\n",
            "     0.199   0.104235 0.428360  0.167670  0.797316     0.815779       0.195856 0.027244\n",
            "     0.200   0.104298 0.428360  0.167751  0.797433     0.815903       0.195739 0.027244\n",
            "     0.201   0.104375 0.428114  0.167833  0.797668     0.816161       0.195481 0.027255\n",
            "     0.202   0.104441 0.427868  0.167898  0.797879     0.816395       0.195246 0.027267\n",
            "     0.203   0.104439 0.426883  0.167820  0.798231     0.816814       0.194800 0.027314\n",
            "     0.204   0.104559 0.426883  0.167974  0.798454     0.817048       0.194577 0.027314\n",
            "     0.205   0.104622 0.426883  0.168056  0.798571     0.817172       0.194460 0.027314\n",
            "     0.206   0.104624 0.426637  0.168040  0.798665     0.817282       0.194342 0.027326\n",
            "     0.207   0.104726 0.426637  0.168171  0.798853     0.817480       0.194155 0.027326\n",
            "     0.208   0.104648 0.425652  0.167995  0.799064     0.817751       0.193850 0.027373\n",
            "     0.209   0.104692 0.425160  0.168012  0.799322     0.818046       0.193545 0.027396\n",
            "     0.210   0.104832 0.425160  0.168192  0.799580     0.818317       0.193286 0.027396\n",
            "     0.211   0.104966 0.425160  0.168365  0.799826     0.818576       0.193040 0.027396\n",
            "     0.212   0.105097 0.424914  0.168514  0.800155     0.818933       0.192688 0.027408\n",
            "     0.213   0.105035 0.424175  0.168377  0.800307     0.819130       0.192465 0.027443\n",
            "     0.214   0.105112 0.424175  0.168476  0.800448     0.819278       0.192324 0.027443\n",
            "     0.215   0.105199 0.423929  0.168567  0.800695     0.819549       0.192055 0.027455\n",
            "     0.216   0.105167 0.423437  0.168487  0.800812     0.819697       0.191890 0.027478\n",
            "     0.217   0.105279 0.423191  0.168612  0.801105     0.820017       0.191573 0.027490\n",
            "     0.218   0.105315 0.422944  0.168638  0.801258     0.820190       0.191397 0.027502\n",
            "     0.219   0.105444 0.422944  0.168804  0.801492     0.820436       0.191163 0.027502\n",
            "     0.220   0.105470 0.422452  0.168798  0.801715     0.820695       0.190893 0.027525\n",
            "     0.221   0.105581 0.422452  0.168939  0.801915     0.820905       0.190694 0.027525\n",
            "     0.222   0.105581 0.421960  0.168900  0.802091     0.821114       0.190471 0.027549\n",
            "     0.223   0.105676 0.421713  0.169002  0.802349     0.821397       0.190189 0.027560\n",
            "     0.224   0.105650 0.421221  0.168929  0.802478     0.821557       0.190013 0.027584\n",
            "     0.225   0.105676 0.420729  0.168924  0.802701     0.821816       0.189743 0.027607\n",
            "     0.226   0.105635 0.419498  0.168771  0.803065     0.822260       0.189262 0.027666\n",
            "     0.227   0.105711 0.419252  0.168848  0.803288     0.822506       0.189016 0.027678\n",
            "     0.228   0.105692 0.418759  0.168783  0.803428     0.822679       0.188828 0.027701\n",
            "     0.229   0.105767 0.418513  0.168860  0.803651     0.822925       0.188582 0.027713\n",
            "     0.230   0.105797 0.418267  0.168878  0.803792     0.823085       0.188417 0.027725\n",
            "     0.231   0.105870 0.418267  0.168971  0.803921     0.823221       0.188288 0.027725\n",
            "     0.232   0.105874 0.418021  0.168955  0.804015     0.823332       0.188171 0.027736\n",
            "     0.233   0.105815 0.417528  0.168840  0.804085     0.823430       0.188054 0.027760\n",
            "     0.234   0.105793 0.416790  0.168752  0.804308     0.823701       0.187760 0.027795\n",
            "     0.235   0.105899 0.416790  0.168886  0.804496     0.823898       0.187573 0.027795\n",
            "     0.236   0.105906 0.416297  0.168855  0.804684     0.824120       0.187338 0.027819\n",
            "     0.237   0.105824 0.415559  0.168690  0.804801     0.824280       0.187150 0.027854\n",
            "     0.238   0.105881 0.415313  0.168742  0.804989     0.824490       0.186939 0.027865\n",
            "     0.239   0.105938 0.415066  0.168794  0.805177     0.824699       0.186728 0.027877\n",
            "     0.240   0.105962 0.414820  0.168804  0.805306     0.824847       0.186575 0.027889\n",
            "     0.241   0.106032 0.414574  0.168873  0.805517     0.825081       0.186341 0.027901\n",
            "     0.242   0.106072 0.414574  0.168924  0.805587     0.825155       0.186270 0.027901\n",
            "     0.243   0.106166 0.414574  0.169042  0.805751     0.825327       0.186106 0.027901\n",
            "     0.244   0.106113 0.414082  0.168935  0.805834     0.825438       0.185977 0.027924\n",
            "     0.245   0.106177 0.413836  0.168996  0.806033     0.825660       0.185754 0.027936\n",
            "     0.246   0.106205 0.413343  0.168990  0.806256     0.825919       0.185484 0.027959\n",
            "     0.247   0.106313 0.413343  0.169126  0.806444     0.826116       0.185296 0.027959\n",
            "     0.248   0.106264 0.412605  0.169003  0.806620     0.826338       0.185050 0.027995\n",
            "     0.249   0.106272 0.412112  0.168971  0.806807     0.826559       0.184815 0.028018\n",
            "     0.250   0.106333 0.412112  0.169048  0.806913     0.826670       0.184710 0.028018\n",
            "     0.251   0.106527 0.411866  0.169272  0.807335     0.827126       0.184264 0.028030\n",
            "     0.252   0.106703 0.411866  0.169495  0.807640     0.827446       0.183959 0.028030\n",
            "     0.253   0.106744 0.411866  0.169546  0.807711     0.827520       0.183888 0.028030\n",
            "     0.254   0.106753 0.411374  0.169516  0.807899     0.827742       0.183654 0.028053\n",
            "     0.255   0.106855 0.411374  0.169645  0.808075     0.827927       0.183478 0.028053\n",
            "     0.256   0.106880 0.411128  0.169655  0.808204     0.828075       0.183325 0.028065\n",
            "     0.257   0.106861 0.410635  0.169590  0.808344     0.828247       0.183138 0.028088\n",
            "     0.258   0.106934 0.410389  0.169661  0.808556     0.828481       0.182903 0.028100\n",
            "     0.259   0.106994 0.410143  0.169714  0.808743     0.828691       0.182692 0.028112\n",
            "     0.260   0.107065 0.409650  0.169761  0.809037     0.829023       0.182351 0.028135\n",
            "     0.261   0.107076 0.409404  0.169755  0.809142     0.829147       0.182222 0.028147\n",
            "     0.262   0.107221 0.409404  0.169937  0.809389     0.829405       0.181976 0.028147\n",
            "     0.263   0.107196 0.408912  0.169862  0.809518     0.829565       0.181800 0.028171\n",
            "     0.264   0.107240 0.408419  0.169875  0.809764     0.829849       0.181507 0.028194\n",
            "     0.265   0.107379 0.408419  0.170049  0.809999     0.830095       0.181272 0.028194\n",
            "     0.266   0.107346 0.407927  0.169966  0.810116     0.830243       0.181108 0.028217\n",
            "     0.267   0.107402 0.407927  0.170036  0.810210     0.830342       0.181014 0.028217\n",
            "     0.268   0.107560 0.407681  0.170213  0.810562     0.830724       0.180639 0.028229\n",
            "     0.269   0.107651 0.407681  0.170327  0.810714     0.830884       0.180486 0.028229\n",
            "     0.270   0.107756 0.407681  0.170458  0.810890     0.831069       0.180310 0.028229\n",
            "     0.271   0.107820 0.407681  0.170537  0.810996     0.831179       0.180204 0.028229\n",
            "     0.272   0.107935 0.407189  0.170639  0.811360     0.831586       0.179794 0.028253\n",
            "     0.273   0.108013 0.407189  0.170735  0.811489     0.831721       0.179665 0.028253\n",
            "     0.274   0.107981 0.406696  0.170652  0.811606     0.831869       0.179500 0.028276\n",
            "     0.275   0.108036 0.406450  0.170699  0.811782     0.832066       0.179301 0.028288\n",
            "     0.276   0.108120 0.406450  0.170805  0.811923     0.832214       0.179160 0.028288\n",
            "     0.277   0.108183 0.406204  0.170861  0.812111     0.832424       0.178949 0.028300\n",
            "     0.278   0.108165 0.405711  0.170795  0.812251     0.832596       0.178761 0.028323\n",
            "     0.279   0.108328 0.405711  0.170999  0.812521     0.832880       0.178491 0.028323\n",
            "     0.280   0.108396 0.405219  0.171040  0.812803     0.833200       0.178163 0.028346\n",
            "     0.281   0.108431 0.404973  0.171060  0.812944     0.833360       0.177999 0.028358\n",
            "     0.282   0.108450 0.404727  0.171063  0.813061     0.833496       0.177858 0.028370\n",
            "     0.283   0.108405 0.403250  0.170874  0.813495     0.834025       0.177283 0.028440\n",
            "     0.284   0.108352 0.402757  0.170764  0.813577     0.834136       0.177154 0.028464\n",
            "     0.285   0.108298 0.402265  0.170653  0.813659     0.834247       0.177025 0.028487\n",
            "     0.286   0.108327 0.401280  0.170600  0.814047     0.834703       0.176544 0.028534\n",
            "     0.287   0.108184 0.400295  0.170333  0.814152     0.834863       0.176344 0.028581\n",
            "     0.288   0.108256 0.400295  0.170422  0.814269     0.834986       0.176227 0.028581\n",
            "     0.289   0.108200 0.399557  0.170286  0.814434     0.835196       0.175992 0.028616\n",
            "     0.290   0.108373 0.399557  0.170501  0.814715     0.835491       0.175711 0.028616\n",
            "     0.291   0.108453 0.399557  0.170600  0.814844     0.835627       0.175582 0.028616\n",
            "     0.292   0.108414 0.399065  0.170506  0.814950     0.835762       0.175429 0.028640\n",
            "     0.293   0.108456 0.398818  0.170535  0.815102     0.835935       0.175253 0.028652\n",
            "     0.294   0.108467 0.398326  0.170504  0.815290     0.836157       0.175018 0.028675\n",
            "     0.295   0.108487 0.398080  0.170507  0.815408     0.836292       0.174878 0.028687\n",
            "     0.296   0.108529 0.397834  0.170536  0.815560     0.836465       0.174702 0.028698\n",
            "     0.297   0.108486 0.396849  0.170393  0.815830     0.836797       0.174338 0.028745\n",
            "     0.298   0.108534 0.396356  0.170406  0.816076     0.837081       0.174045 0.028769\n",
            "     0.299   0.108637 0.396356  0.170533  0.816241     0.837253       0.173880 0.028769\n",
            "     0.300   0.108740 0.396356  0.170659  0.816405     0.837426       0.173716 0.028769\n",
            "     0.301   0.108878 0.396110  0.170807  0.816710     0.837758       0.173388 0.028781\n",
            "     0.302   0.108687 0.394879  0.170457  0.816827     0.837943       0.173153 0.028839\n",
            "     0.303   0.108796 0.394633  0.170568  0.817085     0.838226       0.172871 0.028851\n",
            "     0.304   0.108899 0.394633  0.170695  0.817250     0.838399       0.172707 0.028851\n",
            "     0.305   0.108959 0.394633  0.170768  0.817343     0.838497       0.172613 0.028851\n",
            "     0.306   0.108934 0.394141  0.170691  0.817473     0.838658       0.172437 0.028874\n",
            "     0.307   0.108947 0.393895  0.170685  0.817578     0.838781       0.172308 0.028886\n",
            "     0.308   0.109014 0.393895  0.170767  0.817684     0.838892       0.172203 0.028886\n",
            "     0.309   0.109072 0.393648  0.170815  0.817860     0.839089       0.172003 0.028898\n",
            "     0.310   0.109162 0.393648  0.170925  0.818000     0.839237       0.171862 0.028898\n",
            "     0.311   0.109229 0.393648  0.171007  0.818106     0.839348       0.171757 0.028898\n",
            "     0.312   0.109219 0.393156  0.170948  0.818259     0.839532       0.171557 0.028921\n",
            "     0.313   0.109163 0.392418  0.170810  0.818423     0.839742       0.171323 0.028957\n",
            "     0.314   0.109123 0.391925  0.170715  0.818528     0.839877       0.171170 0.028980\n",
            "     0.315   0.109130 0.391679  0.170699  0.818622     0.839988       0.171053 0.028992\n",
            "     0.316   0.109135 0.391187  0.170658  0.818798     0.840198       0.170830 0.029015\n",
            "     0.317   0.109240 0.391187  0.170787  0.818963     0.840370       0.170666 0.029015\n",
            "     0.318   0.109360 0.391187  0.170934  0.819150     0.840567       0.170478 0.029015\n",
            "     0.319   0.109503 0.391187  0.171109  0.819373     0.840801       0.170255 0.029015\n",
            "     0.320   0.109448 0.390694  0.170995  0.819455     0.840912       0.170126 0.029039\n",
            "     0.321   0.109562 0.390694  0.171133  0.819631     0.841097       0.169950 0.029039\n",
            "     0.322   0.109621 0.390448  0.171182  0.819807     0.841294       0.169750 0.029050\n",
            "     0.323   0.109841 0.390202  0.171425  0.820230     0.841750       0.169305 0.029062\n",
            "     0.324   0.109885 0.389710  0.171432  0.820464     0.842021       0.169023 0.029086\n",
            "     0.325   0.109946 0.389710  0.171506  0.820558     0.842120       0.168929 0.029086\n",
            "     0.326   0.109944 0.388971  0.171432  0.820805     0.842415       0.168612 0.029121\n",
            "     0.327   0.109834 0.388232  0.171227  0.820887     0.842538       0.168460 0.029156\n",
            "     0.328   0.110010 0.387986  0.171416  0.821239     0.842920       0.168084 0.029168\n",
            "     0.329   0.110187 0.387986  0.171631  0.821509     0.843204       0.167815 0.029168\n",
            "     0.330   0.110216 0.387494  0.171619  0.821720     0.843450       0.167556 0.029191\n",
            "     0.331   0.110348 0.387494  0.171778  0.821919     0.843660       0.167357 0.029191\n",
            "     0.332   0.110362 0.387001  0.171747  0.822107     0.843881       0.167122 0.029215\n",
            "     0.333   0.110556 0.387001  0.171982  0.822400     0.844189       0.166829 0.029215\n",
            "     0.334   0.110681 0.386755  0.172108  0.822670     0.844485       0.166536 0.029226\n",
            "     0.335   0.110563 0.386017  0.171892  0.822741     0.844596       0.166395 0.029262\n",
            "     0.336   0.110641 0.386017  0.171986  0.822858     0.844719       0.166278 0.029262\n",
            "     0.337   0.110734 0.386017  0.172100  0.822999     0.844867       0.166137 0.029262\n",
            "     0.338   0.110820 0.385771  0.172179  0.823210     0.845101       0.165902 0.029273\n",
            "     0.339   0.110812 0.385032  0.172095  0.823445     0.845384       0.165597 0.029309\n",
            "     0.340   0.110827 0.384786  0.172089  0.823550     0.845508       0.165468 0.029320\n",
            "     0.341   0.110882 0.384540  0.172131  0.823714     0.845692       0.165280 0.029332\n",
            "     0.342   0.111001 0.384540  0.172273  0.823890     0.845877       0.165104 0.029332\n",
            "     0.343   0.110874 0.383801  0.172047  0.823949     0.845976       0.164975 0.029367\n",
            "     0.344   0.110984 0.383555  0.172155  0.824195     0.846247       0.164705 0.029379\n",
            "     0.345   0.111032 0.383309  0.172187  0.824348     0.846419       0.164529 0.029391\n",
            "     0.346   0.111119 0.383309  0.172292  0.824477     0.846555       0.164400 0.029391\n",
            "     0.347   0.111151 0.383063  0.172305  0.824606     0.846703       0.164248 0.029402\n",
            "     0.348   0.111151 0.382816  0.172280  0.824688     0.846801       0.164142 0.029414\n",
            "     0.349   0.111230 0.382816  0.172376  0.824806     0.846924       0.164025 0.029414\n",
            "     0.350   0.111318 0.382570  0.172456  0.825017     0.847158       0.163790 0.029426\n",
            "     0.351   0.111350 0.381832  0.172420  0.825310     0.847503       0.163426 0.029461\n",
            "     0.352   0.111343 0.381339  0.172360  0.825463     0.847688       0.163227 0.029485\n",
            "     0.353   0.111407 0.381339  0.172437  0.825556     0.847787       0.163133 0.029485\n",
            "     0.354   0.111471 0.381339  0.172514  0.825650     0.847885       0.163039 0.029485\n",
            "     0.355   0.111567 0.381339  0.172629  0.825791     0.848033       0.162898 0.029485\n",
            "     0.356   0.111656 0.381339  0.172735  0.825920     0.848169       0.162769 0.029485\n",
            "     0.357   0.111737 0.381093  0.172806  0.826120     0.848390       0.162546 0.029496\n",
            "     0.358   0.111858 0.381093  0.172951  0.826296     0.848575       0.162370 0.029496\n",
            "     0.359   0.112012 0.381093  0.173135  0.826519     0.848809       0.162148 0.029496\n",
            "     0.360   0.111956 0.380601  0.173018  0.826601     0.848920       0.162019 0.029520\n",
            "     0.361   0.111860 0.379862  0.172827  0.826706     0.849068       0.161843 0.029555\n",
            "     0.362   0.111958 0.379616  0.172918  0.826929     0.849314       0.161596 0.029567\n",
            "     0.363   0.112088 0.379616  0.173074  0.827117     0.849512       0.161408 0.029567\n",
            "     0.364   0.111992 0.378877  0.172882  0.827222     0.849659       0.161232 0.029602\n",
            "     0.365   0.111889 0.377893  0.172656  0.827398     0.849893       0.160963 0.029649\n",
            "     0.366   0.111914 0.377400  0.172635  0.827598     0.850128       0.160716 0.029672\n",
            "     0.367   0.112020 0.377400  0.172762  0.827750     0.850288       0.160564 0.029672\n",
            "     0.368   0.112127 0.377400  0.172888  0.827903     0.850448       0.160411 0.029672\n",
            "     0.369   0.111982 0.376416  0.172612  0.828020     0.850620       0.160200 0.029719\n",
            "     0.370   0.112097 0.376416  0.172749  0.828185     0.850793       0.160036 0.029719\n",
            "     0.371   0.112212 0.376416  0.172886  0.828349     0.850965       0.159871 0.029719\n",
            "     0.372   0.112286 0.376416  0.172974  0.828454     0.851076       0.159766 0.029719\n",
            "     0.373   0.112174 0.375431  0.172736  0.828619     0.851298       0.159508 0.029766\n",
            "     0.374   0.112191 0.375185  0.172730  0.828724     0.851421       0.159379 0.029778\n",
            "     0.375   0.112069 0.374446  0.172508  0.828795     0.851532       0.159238 0.029813\n",
            "     0.376   0.112030 0.373708  0.172382  0.828982     0.851766       0.158980 0.029848\n",
            "     0.377   0.112087 0.373708  0.172451  0.829065     0.851852       0.158898 0.029848\n",
            "     0.378   0.112146 0.373461  0.172494  0.829229     0.852037       0.158710 0.029860\n",
            "     0.379   0.112189 0.372969  0.172492  0.829452     0.852296       0.158440 0.029883\n",
            "     0.380   0.112249 0.372477  0.172510  0.829698     0.852579       0.158147 0.029907\n",
            "     0.381   0.112390 0.372477  0.172677  0.829898     0.852789       0.157947 0.029907\n",
            "     0.382   0.112475 0.372230  0.172751  0.830097     0.853010       0.157724 0.029919\n",
            "     0.383   0.112567 0.372230  0.172859  0.830226     0.853146       0.157595 0.029919\n",
            "     0.384   0.112635 0.371984  0.172913  0.830402     0.853343       0.157396 0.029930\n",
            "     0.385   0.112471 0.371000  0.172613  0.830496     0.853491       0.157208 0.029977\n",
            "     0.386   0.112597 0.371000  0.172762  0.830672     0.853676       0.157032 0.029977\n",
            "     0.387   0.112590 0.370753  0.172726  0.830742     0.853762       0.156938 0.029989\n",
            "     0.388   0.112558 0.370261  0.172635  0.830860     0.853910       0.156774 0.030013\n",
            "     0.389   0.112567 0.370015  0.172620  0.830954     0.854021       0.156657 0.030024\n",
            "     0.390   0.112619 0.369769  0.172654  0.831106     0.854193       0.156481 0.030036\n",
            "     0.391   0.112705 0.369522  0.172727  0.831306     0.854415       0.156258 0.030048\n",
            "     0.392   0.112748 0.369276  0.172751  0.831446     0.854575       0.156093 0.030059\n",
            "     0.393   0.112841 0.369276  0.172861  0.831575     0.854711       0.155964 0.030059\n",
            "     0.394   0.112926 0.369276  0.172961  0.831693     0.854834       0.155847 0.030059\n",
            "     0.395   0.113004 0.369030  0.173025  0.831880     0.855043       0.155636 0.030071\n",
            "     0.396   0.113305 0.368784  0.173350  0.832373     0.855573       0.155120 0.030083\n",
            "     0.397   0.113315 0.368538  0.173334  0.832467     0.855684       0.155002 0.030095\n",
            "     0.398   0.113375 0.368538  0.173404  0.832549     0.855770       0.154920 0.030095\n",
            "     0.399   0.113479 0.368291  0.173500  0.832772     0.856016       0.154674 0.030106\n",
            "     0.400   0.113635 0.368291  0.173681  0.832983     0.856238       0.154463 0.030106\n",
            "     0.401   0.113569 0.367799  0.173549  0.833054     0.856337       0.154345 0.030130\n",
            "     0.402   0.113351 0.366814  0.173185  0.833077     0.856411       0.154228 0.030177\n",
            "     0.403   0.113209 0.366076  0.172937  0.833124     0.856497       0.154111 0.030212\n",
            "     0.404   0.113330 0.366076  0.173078  0.833288     0.856669       0.153946 0.030212\n",
            "     0.405   0.113255 0.365583  0.172936  0.833347     0.856756       0.153841 0.030235\n",
            "     0.406   0.113300 0.365337  0.172960  0.833488     0.856916       0.153676 0.030247\n",
            "     0.407   0.113353 0.365091  0.172995  0.833640     0.857088       0.153500 0.030259\n",
            "     0.408   0.113372 0.364845  0.172989  0.833746     0.857211       0.153371 0.030271\n",
            "     0.409   0.113408 0.364599  0.173004  0.833875     0.857359       0.153219 0.030282\n",
            "     0.410   0.113480 0.364353  0.173059  0.834051     0.857556       0.153019 0.030294\n",
            "     0.411   0.113526 0.363860  0.173058  0.834274     0.857815       0.152750 0.030318\n",
            "     0.412   0.113614 0.363860  0.173159  0.834391     0.857938       0.152632 0.030318\n",
            "     0.413   0.113633 0.363614  0.173154  0.834497     0.858062       0.152503 0.030329\n",
            "     0.414   0.113643 0.363368  0.173138  0.834591     0.858172       0.152386 0.030341\n",
            "     0.415   0.113775 0.363368  0.173290  0.834767     0.858357       0.152210 0.030341\n",
            "     0.416   0.113752 0.362875  0.173208  0.834896     0.858517       0.152034 0.030365\n",
            "     0.417   0.113824 0.362629  0.173264  0.835072     0.858715       0.151834 0.030376\n",
            "     0.418   0.113826 0.362383  0.173238  0.835154     0.858813       0.151729 0.030388\n",
            "     0.419   0.113941 0.362383  0.173370  0.835306     0.858973       0.151576 0.030388\n",
            "     0.420   0.114002 0.362383  0.173442  0.835389     0.859059       0.151494 0.030388\n",
            "     0.421   0.114170 0.362383  0.173636  0.835611     0.859294       0.151271 0.030388\n",
            "     0.422   0.114233 0.362383  0.173708  0.835694     0.859380       0.151189 0.030388\n",
            "     0.423   0.114357 0.362383  0.173851  0.835858     0.859552       0.151025 0.030388\n",
            "     0.424   0.114412 0.362137  0.173887  0.836010     0.859725       0.150849 0.030400\n",
            "     0.425   0.114500 0.361398  0.173903  0.836362     0.860131       0.150426 0.030435\n",
            "     0.426   0.114442 0.360906  0.173779  0.836444     0.860242       0.150297 0.030458\n",
            "     0.427   0.114453 0.360660  0.173763  0.836538     0.860353       0.150180 0.030470\n",
            "     0.428   0.114514 0.359921  0.173748  0.836855     0.860723       0.149793 0.030505\n",
            "     0.429   0.114570 0.359675  0.173784  0.837008     0.860895       0.149617 0.030517\n",
            "     0.430   0.114582 0.359429  0.173768  0.837102     0.861006       0.149500 0.030529\n",
            "     0.431   0.114681 0.359429  0.173882  0.837231     0.861142       0.149371 0.030529\n",
            "     0.432   0.114683 0.359183  0.173856  0.837313     0.861240       0.149265 0.030541\n",
            "     0.433   0.114691 0.358444  0.173778  0.837559     0.861536       0.148948 0.030576\n",
            "     0.434   0.114847 0.358198  0.173929  0.837841     0.861844       0.148643 0.030587\n",
            "     0.435   0.114884 0.358198  0.173970  0.837888     0.861893       0.148596 0.030587\n",
            "     0.436   0.115080 0.357706  0.174137  0.838298     0.862349       0.148139 0.030611\n",
            "     0.437   0.115101 0.357459  0.174132  0.838404     0.862472       0.148010 0.030623\n",
            "     0.438   0.115131 0.357213  0.174137  0.838521     0.862608       0.147869 0.030634\n",
            "     0.439   0.115217 0.356967  0.174206  0.838709     0.862817       0.147658 0.030646\n",
            "     0.440   0.115277 0.356475  0.174216  0.838944     0.863088       0.147376 0.030670\n",
            "     0.441   0.115256 0.355982  0.174133  0.839073     0.863248       0.147200 0.030693\n",
            "     0.442   0.115391 0.355490  0.174228  0.839401     0.863618       0.146825 0.030717\n",
            "     0.443   0.115548 0.355490  0.174407  0.839601     0.863827       0.146625 0.030717\n",
            "     0.444   0.115560 0.355244  0.174391  0.839694     0.863938       0.146508 0.030728\n",
            "     0.445   0.115554 0.354998  0.174355  0.839765     0.864024       0.146414 0.030740\n",
            "     0.446   0.115391 0.354013  0.174050  0.839870     0.864185       0.146214 0.030787\n",
            "     0.447   0.115477 0.353767  0.174119  0.840058     0.864394       0.146003 0.030799\n",
            "     0.448   0.115508 0.353520  0.174124  0.840176     0.864530       0.145862 0.030810\n",
            "     0.449   0.115639 0.353520  0.174272  0.840340     0.864702       0.145698 0.030810\n",
            "     0.450   0.115788 0.353520  0.174441  0.840528     0.864899       0.145510 0.030810\n",
            "     0.451   0.115900 0.353520  0.174568  0.840668     0.865047       0.145370 0.030810\n",
            "     0.452   0.115931 0.353274  0.174574  0.840786     0.865183       0.145229 0.030822\n",
            "     0.453   0.115948 0.352782  0.174533  0.840962     0.865392       0.145006 0.030846\n",
            "     0.454   0.116017 0.352536  0.174581  0.841126     0.865577       0.144818 0.030857\n",
            "     0.455   0.116064 0.352536  0.174634  0.841185     0.865638       0.144760 0.030857\n",
            "     0.456   0.116171 0.352290  0.174725  0.841396     0.865872       0.144525 0.030869\n",
            "     0.457   0.116279 0.352043  0.174817  0.841607     0.866107       0.144290 0.030881\n",
            "     0.458   0.116283 0.351797  0.174791  0.841689     0.866205       0.144185 0.030893\n",
            "     0.459   0.116529 0.351797  0.175069  0.841994     0.866525       0.143880 0.030893\n",
            "     0.460   0.116480 0.351305  0.174952  0.842088     0.866649       0.143739 0.030916\n",
            "     0.461   0.116437 0.351059  0.174873  0.842111     0.866686       0.143692 0.030928\n",
            "     0.462   0.116468 0.350320  0.174816  0.842381     0.867006       0.143352 0.030963\n",
            "     0.463   0.116582 0.350320  0.174945  0.842522     0.867154       0.143211 0.030963\n",
            "     0.464   0.116569 0.349335  0.174808  0.842815     0.867511       0.142824 0.031010\n",
            "     0.465   0.116627 0.349335  0.174872  0.842886     0.867585       0.142753 0.031010\n",
            "     0.466   0.116752 0.349335  0.175012  0.843038     0.867745       0.142601 0.031010\n",
            "     0.467   0.116707 0.348597  0.174869  0.843214     0.867967       0.142354 0.031045\n",
            "     0.468   0.116817 0.348351  0.174961  0.843426     0.868201       0.142120 0.031057\n",
            "     0.469   0.116758 0.347858  0.174833  0.843508     0.868312       0.141991 0.031080\n",
            "     0.470   0.116829 0.347612  0.174882  0.843672     0.868497       0.141803 0.031092\n",
            "     0.471   0.116946 0.347612  0.175012  0.843813     0.868644       0.141662 0.031092\n",
            "     0.472   0.117091 0.347612  0.175175  0.843989     0.868829       0.141486 0.031092\n",
            "     0.473   0.117237 0.347612  0.175338  0.844165     0.869014       0.141310 0.031092\n",
            "     0.474   0.117251 0.347366  0.175323  0.844259     0.869125       0.141193 0.031104\n",
            "     0.475   0.117368 0.347366  0.175454  0.844399     0.869273       0.141052 0.031104\n",
            "     0.476   0.117476 0.347366  0.175574  0.844528     0.869408       0.140923 0.031104\n",
            "     0.477   0.117421 0.346627  0.175419  0.844693     0.869618       0.140688 0.031139\n",
            "     0.478   0.117372 0.346135  0.175301  0.844787     0.869741       0.140547 0.031162\n",
            "     0.479   0.117195 0.345150  0.174977  0.844880     0.869889       0.140360 0.031209\n",
            "     0.480   0.117356 0.344904  0.175125  0.845150     0.870184       0.140066 0.031221\n",
            "     0.481   0.117356 0.344412  0.175061  0.845303     0.870369       0.139867 0.031245\n",
            "     0.482   0.117425 0.344412  0.175138  0.845385     0.870455       0.139785 0.031245\n",
            "     0.483   0.117430 0.344165  0.175111  0.845467     0.870554       0.139679 0.031256\n",
            "     0.484   0.117509 0.344165  0.175199  0.845561     0.870653       0.139585 0.031256\n",
            "     0.485   0.117543 0.343919  0.175205  0.845678     0.870788       0.139445 0.031268\n",
            "     0.486   0.117513 0.343427  0.175108  0.845796     0.870936       0.139280 0.031291\n",
            "     0.487   0.117568 0.343181  0.175137  0.845936     0.871096       0.139116 0.031303\n",
            "     0.488   0.117781 0.342935  0.175341  0.846265     0.871453       0.138764 0.031315\n",
            "     0.489   0.117891 0.342935  0.175463  0.846394     0.871589       0.138635 0.031315\n",
            "     0.490   0.117727 0.341704  0.175120  0.846582     0.871848       0.138330 0.031374\n",
            "     0.491   0.117752 0.341457  0.175115  0.846687     0.871971       0.138201 0.031385\n",
            "     0.492   0.117777 0.341211  0.175111  0.846793     0.872094       0.138072 0.031397\n",
            "     0.493   0.117772 0.340965  0.175073  0.846863     0.872180       0.137978 0.031409\n",
            "     0.494   0.117857 0.340719  0.175134  0.847039     0.872377       0.137779 0.031420\n",
            "     0.495   0.117988 0.340719  0.175279  0.847192     0.872538       0.137626 0.031420\n",
            "     0.496   0.118034 0.340473  0.175296  0.847321     0.872685       0.137473 0.031432\n",
            "     0.497   0.118054 0.339980  0.175254  0.847497     0.872895       0.137251 0.031456\n",
            "     0.498   0.118165 0.339980  0.175376  0.847626     0.873030       0.137121 0.031456\n",
            "     0.499   0.118257 0.339980  0.175476  0.847731     0.873141       0.137016 0.031456\n",
            "     0.500   0.118378 0.339980  0.175610  0.847872     0.873289       0.136875 0.031456\n",
            "     0.501   0.118496 0.339734  0.175707  0.848083     0.873523       0.136640 0.031467\n",
            "     0.502   0.118411 0.338996  0.175515  0.848213     0.873696       0.136441 0.031503\n",
            "     0.503   0.118533 0.338996  0.175649  0.848353     0.873843       0.136300 0.031503\n",
            "     0.504   0.118656 0.338996  0.175783  0.848494     0.873991       0.136159 0.031503\n",
            "     0.505   0.118830 0.338996  0.175974  0.848694     0.874201       0.135960 0.031503\n",
            "     0.506   0.118790 0.338503  0.175865  0.848799     0.874336       0.135807 0.031526\n",
            "     0.507   0.118965 0.338503  0.176056  0.848999     0.874546       0.135608 0.031526\n",
            "     0.508   0.119099 0.338503  0.176203  0.849151     0.874706       0.135455 0.031526\n",
            "     0.509   0.118963 0.337765  0.175954  0.849222     0.874817       0.135315 0.031561\n",
            "     0.510   0.118913 0.337272  0.175833  0.849315     0.874940       0.135174 0.031585\n",
            "     0.511   0.119120 0.337272  0.176059  0.849550     0.875186       0.134939 0.031585\n",
            "     0.512   0.119265 0.337272  0.176217  0.849714     0.875359       0.134775 0.031585\n",
            "     0.513   0.119292 0.337026  0.176213  0.849820     0.875482       0.134646 0.031596\n",
            "     0.514   0.119299 0.336780  0.176186  0.849902     0.875581       0.134540 0.031608\n",
            "     0.515   0.119372 0.336780  0.176266  0.849984     0.875667       0.134458 0.031608\n",
            "     0.516   0.119420 0.336534  0.176285  0.850113     0.875815       0.134306 0.031620\n",
            "     0.517   0.119556 0.336534  0.176433  0.850266     0.875975       0.134153 0.031620\n",
            "     0.518   0.119755 0.336534  0.176649  0.850489     0.876209       0.133930 0.031620\n",
            "     0.519   0.119800 0.336041  0.176630  0.850688     0.876443       0.133684 0.031643\n",
            "     0.520   0.120039 0.335795  0.176856  0.851028     0.876813       0.133320 0.031655\n",
            "     0.521   0.120099 0.335549  0.176887  0.851169     0.876973       0.133156 0.031667\n",
            "     0.522   0.120194 0.335549  0.176990  0.851275     0.877084       0.133050 0.031667\n",
            "     0.523   0.120286 0.335303  0.177056  0.851451     0.877281       0.132851 0.031679\n",
            "     0.524   0.120325 0.335057  0.177064  0.851568     0.877416       0.132710 0.031690\n",
            "     0.525   0.120354 0.334810  0.177060  0.851674     0.877539       0.132581 0.031702\n",
            "     0.526   0.120294 0.334318  0.176927  0.851756     0.877650       0.132452 0.031726\n",
            "     0.527   0.120291 0.334072  0.176888  0.851826     0.877737       0.132358 0.031737\n",
            "     0.528   0.120441 0.333333  0.176947  0.852213     0.878180       0.131900 0.031772\n",
            "     0.529   0.120570 0.333333  0.177086  0.852354     0.878328       0.131760 0.031772\n",
            "     0.530   0.120610 0.333087  0.177094  0.852472     0.878463       0.131619 0.031784\n",
            "     0.531   0.120725 0.332841  0.177184  0.852671     0.878685       0.131396 0.031796\n",
            "     0.532   0.120833 0.332841  0.177300  0.852788     0.878808       0.131279 0.031796\n",
            "     0.533   0.120927 0.332595  0.177366  0.852964     0.879006       0.131079 0.031808\n",
            "     0.534   0.120786 0.331610  0.177074  0.853105     0.879203       0.130844 0.031855\n",
            "     0.535   0.121035 0.331610  0.177342  0.853375     0.879486       0.130575 0.031855\n",
            "     0.536   0.121209 0.331610  0.177529  0.853563     0.879683       0.130387 0.031855\n",
            "     0.537   0.121294 0.331364  0.177584  0.853727     0.879868       0.130199 0.031866\n",
            "     0.538   0.121360 0.331364  0.177655  0.853797     0.879942       0.130129 0.031866\n",
            "     0.539   0.121278 0.330871  0.177496  0.853856     0.880028       0.130023 0.031890\n",
            "     0.540   0.121442 0.330871  0.177672  0.854032     0.880213       0.129847 0.031890\n",
            "     0.541   0.121357 0.330133  0.177475  0.854161     0.880385       0.129648 0.031925\n",
            "     0.542   0.121533 0.330133  0.177663  0.854349     0.880582       0.129460 0.031925\n",
            "     0.543   0.121633 0.330133  0.177769  0.854454     0.880693       0.129354 0.031925\n",
            "     0.544   0.121688 0.330133  0.177828  0.854513     0.880755       0.129296 0.031925\n",
            "     0.545   0.121783 0.329641  0.177857  0.854759     0.881038       0.129002 0.031948\n",
            "     0.546   0.121982 0.329641  0.178070  0.854971     0.881260       0.128791 0.031948\n",
            "     0.547   0.121900 0.329148  0.177911  0.855029     0.881346       0.128686 0.031972\n",
            "     0.548   0.121942 0.328902  0.177920  0.855147     0.881482       0.128545 0.031984\n",
            "     0.549   0.121974 0.328656  0.177917  0.855252     0.881605       0.128416 0.031995\n",
            "     0.550   0.121855 0.327917  0.177683  0.855346     0.881741       0.128251 0.032031\n",
            "     0.551   0.121737 0.327179  0.177448  0.855440     0.881876       0.128087 0.032066\n",
            "     0.552   0.121949 0.327179  0.177674  0.855663     0.882110       0.127864 0.032066\n",
            "     0.553   0.121877 0.326686  0.177525  0.855733     0.882209       0.127747 0.032089\n",
            "     0.554   0.121875 0.326440  0.177486  0.855804     0.882295       0.127653 0.032101\n",
            "     0.555   0.121790 0.325702  0.177286  0.855933     0.882467       0.127454 0.032136\n",
            "     0.556   0.121740 0.325209  0.177161  0.856027     0.882591       0.127313 0.032160\n",
            "     0.557   0.121771 0.324963  0.177157  0.856132     0.882714       0.127184 0.032171\n",
            "     0.558   0.121825 0.324717  0.177178  0.856261     0.882862       0.127031 0.032183\n",
            "     0.559   0.121913 0.324471  0.177234  0.856425     0.883046       0.126844 0.032195\n",
            "     0.560   0.122060 0.324471  0.177389  0.856578     0.883207       0.126691 0.032195\n",
            "     0.561   0.122105 0.324471  0.177437  0.856625     0.883256       0.126644 0.032195\n",
            "     0.562   0.121996 0.323732  0.177212  0.856731     0.883404       0.126468 0.032230\n",
            "     0.563   0.121947 0.323240  0.177085  0.856824     0.883527       0.126327 0.032254\n",
            "     0.564   0.121967 0.322994  0.177070  0.856918     0.883638       0.126210 0.032265\n",
            "     0.565   0.121926 0.322255  0.176916  0.857094     0.883860       0.125964 0.032300\n",
            "     0.566   0.121913 0.322009  0.176864  0.857153     0.883934       0.125881 0.032312\n",
            "     0.567   0.121888 0.321763  0.176801  0.857200     0.883995       0.125811 0.032324\n",
            "     0.568   0.121908 0.321516  0.176785  0.857294     0.884106       0.125694 0.032336\n",
            "     0.569   0.121974 0.321270  0.176817  0.857435     0.884266       0.125529 0.032347\n",
            "     0.570   0.122077 0.321270  0.176925  0.857540     0.884377       0.125424 0.032347\n",
            "     0.571   0.122214 0.321270  0.177069  0.857681     0.884525       0.125283 0.032347\n",
            "     0.572   0.122082 0.320532  0.176818  0.857763     0.884648       0.125131 0.032383\n",
            "     0.573   0.122100 0.320039  0.176763  0.857927     0.884845       0.124919 0.032406\n",
            "     0.574   0.122036 0.319301  0.176583  0.858080     0.885042       0.124696 0.032441\n",
            "     0.575   0.122020 0.318808  0.176491  0.858209     0.885202       0.124520 0.032465\n",
            "     0.576   0.121924 0.318316  0.176314  0.858256     0.885276       0.124427 0.032488\n",
            "     0.577   0.121813 0.317578  0.176085  0.858361     0.885424       0.124251 0.032523\n",
            "     0.578   0.121905 0.317578  0.176181  0.858455     0.885523       0.124157 0.032523\n",
            "     0.579   0.121889 0.317085  0.176089  0.858584     0.885683       0.123981 0.032547\n",
            "     0.580   0.122027 0.317085  0.176233  0.858725     0.885831       0.123840 0.032547\n",
            "     0.581   0.122046 0.316593  0.176176  0.858889     0.886028       0.123629 0.032570\n",
            "     0.582   0.122055 0.316347  0.176148  0.858972     0.886126       0.123523 0.032582\n",
            "     0.583   0.122265 0.316347  0.176366  0.859183     0.886348       0.123312 0.032582\n",
            "     0.584   0.122321 0.316100  0.176386  0.859312     0.886496       0.123159 0.032594\n",
            "     0.585   0.122472 0.316100  0.176543  0.859464     0.886656       0.123007 0.032594\n",
            "     0.586   0.122613 0.316100  0.176689  0.859605     0.886804       0.122866 0.032594\n",
            "     0.587   0.122527 0.315608  0.176523  0.859664     0.886890       0.122760 0.032617\n",
            "     0.588   0.122586 0.315608  0.176584  0.859722     0.886952       0.122702 0.032617\n",
            "     0.589   0.122523 0.315116  0.176442  0.859805     0.887063       0.122573 0.032641\n",
            "     0.590   0.122594 0.315116  0.176515  0.859875     0.887137       0.122502 0.032641\n",
            "     0.591   0.122639 0.314870  0.176523  0.859992     0.887272       0.122362 0.032652\n",
            "     0.592   0.122596 0.313885  0.176324  0.860239     0.887580       0.122021 0.032699\n",
            "     0.593   0.122712 0.313639  0.176405  0.860426     0.887790       0.121810 0.032711\n",
            "     0.594   0.122912 0.313392  0.176573  0.860696     0.888085       0.121517 0.032723\n",
            "     0.595   0.122787 0.312408  0.176287  0.860860     0.888307       0.121259 0.032770\n",
            "     0.596   0.122797 0.312161  0.176258  0.860943     0.888406       0.121153 0.032781\n",
            "     0.597   0.122964 0.312161  0.176430  0.861107     0.888578       0.120989 0.032781\n",
            "     0.598   0.122936 0.311669  0.176323  0.861224     0.888726       0.120825 0.032805\n",
            "     0.599   0.122984 0.311669  0.176372  0.861271     0.888775       0.120778 0.032805\n",
            "     0.600   0.123068 0.311669  0.176458  0.861353     0.888862       0.120696 0.032805\n",
            "     0.601   0.123152 0.311669  0.176544  0.861435     0.888948       0.120613 0.032805\n",
            "     0.602   0.123523 0.311423  0.176886  0.861870     0.889416       0.120156 0.032817\n",
            "     0.603   0.123546 0.311177  0.176870  0.861963     0.889527       0.120038 0.032828\n",
            "     0.604   0.123703 0.311177  0.177031  0.862116     0.889687       0.119886 0.032828\n",
            "     0.605   0.123763 0.310931  0.177052  0.862245     0.889835       0.119733 0.032840\n",
            "     0.606   0.123711 0.310192  0.176879  0.862409     0.890044       0.119499 0.032875\n",
            "     0.607   0.123647 0.309453  0.176694  0.862562     0.890241       0.119276 0.032911\n",
            "     0.608   0.123548 0.308961  0.176512  0.862609     0.890315       0.119182 0.032934\n",
            "     0.609   0.123533 0.308469  0.176417  0.862738     0.890475       0.119006 0.032957\n",
            "     0.610   0.123507 0.307976  0.176309  0.862855     0.890623       0.118842 0.032981\n",
            "     0.611   0.123492 0.307484  0.176213  0.862984     0.890783       0.118666 0.033004\n",
            "     0.612   0.123453 0.306992  0.176093  0.863090     0.890919       0.118513 0.033028\n",
            "     0.613   0.123030 0.305515  0.175419  0.863113     0.891018       0.118349 0.033098\n",
            "     0.614   0.123052 0.305268  0.175401  0.863207     0.891128       0.118232 0.033110\n",
            "     0.615   0.123224 0.305268  0.175575  0.863371     0.891301       0.118067 0.033110\n",
            "     0.616   0.123146 0.304530  0.175374  0.863512     0.891486       0.117856 0.033145\n",
            "     0.617   0.123219 0.304530  0.175449  0.863582     0.891560       0.117786 0.033145\n",
            "     0.618   0.123304 0.304284  0.175493  0.863735     0.891732       0.117610 0.033157\n",
            "     0.619   0.123414 0.304037  0.175563  0.863911     0.891929       0.117410 0.033169\n",
            "     0.620   0.123548 0.303791  0.175658  0.864110     0.892151       0.117187 0.033180\n",
            "     0.621   0.123395 0.302806  0.175339  0.864251     0.892348       0.116953 0.033227\n",
            "     0.622   0.123519 0.302806  0.175464  0.864369     0.892471       0.116835 0.033227\n",
            "     0.623   0.123531 0.302806  0.175476  0.864380     0.892484       0.116824 0.033227\n",
            "     0.624   0.123516 0.302314  0.175378  0.864509     0.892644       0.116648 0.033251\n",
            "     0.625   0.123413 0.301576  0.175150  0.864627     0.892804       0.116460 0.033286\n",
            "     0.626   0.123525 0.301576  0.175263  0.864732     0.892915       0.116354 0.033286\n",
            "     0.627   0.123549 0.301329  0.175245  0.864826     0.893026       0.116237 0.033298\n",
            "     0.628   0.123497 0.300837  0.175109  0.864920     0.893149       0.116096 0.033321\n",
            "     0.629   0.123634 0.300837  0.175247  0.865049     0.893284       0.115967 0.033321\n",
            "     0.630   0.123734 0.300837  0.175348  0.865143     0.893383       0.115873 0.033321\n",
            "     0.631   0.123872 0.300837  0.175486  0.865272     0.893518       0.115744 0.033321\n",
            "     0.632   0.123972 0.300591  0.175545  0.865436     0.893703       0.115557 0.033333\n",
            "     0.633   0.123971 0.300345  0.175502  0.865507     0.893790       0.115463 0.033345\n",
            "     0.634   0.123920 0.300098  0.175408  0.865530     0.893826       0.115416 0.033356\n",
            "     0.635   0.123854 0.299360  0.175216  0.865683     0.894024       0.115193 0.033392\n",
            "     0.636   0.123878 0.299114  0.175198  0.865777     0.894134       0.115076 0.033403\n",
            "     0.637   0.123813 0.298621  0.175049  0.865859     0.894245       0.114946 0.033427\n",
            "     0.638   0.123901 0.298375  0.175094  0.866011     0.894418       0.114770 0.033439\n",
            "     0.639   0.124027 0.298129  0.175177  0.866199     0.894627       0.114559 0.033450\n",
            "     0.640   0.124192 0.298129  0.175342  0.866351     0.894787       0.114407 0.033450\n",
            "     0.641   0.124166 0.297637  0.175230  0.866469     0.894935       0.114242 0.033474\n",
            "     0.642   0.124344 0.297637  0.175408  0.866633     0.895108       0.114078 0.033474\n",
            "     0.643   0.124433 0.297390  0.175454  0.866786     0.895280       0.113902 0.033485\n",
            "     0.644   0.124471 0.297144  0.175449  0.866891     0.895403       0.113773 0.033497\n",
            "     0.645   0.124561 0.297144  0.175538  0.866973     0.895490       0.113691 0.033497\n",
            "     0.646   0.124703 0.297144  0.175679  0.867102     0.895625       0.113562 0.033497\n",
            "     0.647   0.124909 0.297144  0.175883  0.867290     0.895822       0.113374 0.033497\n",
            "     0.648   0.124767 0.296160  0.175569  0.867443     0.896032       0.113128 0.033544\n",
            "     0.649   0.124909 0.295913  0.175667  0.867642     0.896253       0.112905 0.033556\n",
            "     0.650   0.124636 0.294929  0.175223  0.867677     0.896340       0.112776 0.033603\n",
            "     0.651   0.124610 0.294682  0.175154  0.867724     0.896401       0.112705 0.033615\n",
            "     0.652   0.124518 0.294190  0.174976  0.867783     0.896488       0.112600 0.033638\n",
            "     0.653   0.124648 0.293944  0.175060  0.867971     0.896697       0.112389 0.033650\n",
            "     0.654   0.124726 0.293698  0.175094  0.868111     0.896857       0.112224 0.033661\n",
            "     0.655   0.124699 0.293205  0.174980  0.868229     0.897005       0.112060 0.033685\n",
            "     0.656   0.124961 0.293205  0.175237  0.868463     0.897251       0.111826 0.033685\n",
            "     0.657   0.124961 0.292959  0.175193  0.868534     0.897338       0.111732 0.033697\n",
            "     0.658   0.125053 0.292713  0.175239  0.868686     0.897510       0.111556 0.033708\n",
            "     0.659   0.124881 0.291728  0.174895  0.868815     0.897695       0.111333 0.033755\n",
            "     0.660   0.124815 0.291236  0.174742  0.868897     0.897806       0.111204 0.033779\n",
            "     0.661   0.124894 0.290990  0.174775  0.869038     0.897966       0.111039 0.033791\n",
            "     0.662   0.125106 0.290990  0.174981  0.869226     0.898163       0.110852 0.033791\n",
            "     0.663   0.125225 0.290743  0.175054  0.869402     0.898360       0.110652 0.033802\n",
            "     0.664   0.125279 0.290497  0.175061  0.869519     0.898496       0.110511 0.033814\n",
            "     0.665   0.125386 0.290251  0.175121  0.869684     0.898681       0.110324 0.033826\n",
            "     0.666   0.125426 0.290005  0.175115  0.869789     0.898804       0.110195 0.033837\n",
            "     0.667   0.125346 0.289513  0.174948  0.869860     0.898902       0.110077 0.033861\n",
            "     0.668   0.125453 0.289513  0.175052  0.869953     0.899001       0.109983 0.033861\n",
            "     0.669   0.125507 0.289513  0.175104  0.870000     0.899050       0.109937 0.033861\n",
            "     0.670   0.125548 0.289266  0.175099  0.870106     0.899173       0.109807 0.033873\n",
            "     0.671   0.125601 0.289266  0.175151  0.870153     0.899223       0.109761 0.033873\n",
            "     0.672   0.125615 0.289020  0.175119  0.870235     0.899321       0.109655 0.033884\n",
            "     0.673   0.125682 0.289020  0.175185  0.870294     0.899383       0.109596 0.033884\n",
            "     0.674   0.125723 0.288774  0.175179  0.870399     0.899506       0.109467 0.033896\n",
            "     0.675   0.125872 0.288774  0.175323  0.870528     0.899641       0.109338 0.033896\n",
            "     0.676   0.125927 0.288528  0.175331  0.870646     0.899777       0.109197 0.033908\n",
            "     0.677   0.125955 0.288035  0.175268  0.870810     0.899974       0.108986 0.033931\n",
            "     0.678   0.126091 0.288035  0.175399  0.870927     0.900097       0.108869 0.033931\n",
            "     0.679   0.126186 0.288035  0.175491  0.871009     0.900184       0.108787 0.033931\n",
            "     0.680   0.126256 0.287789  0.175512  0.871138     0.900331       0.108634 0.033943\n",
            "     0.681   0.126243 0.287543  0.175454  0.871197     0.900405       0.108552 0.033955\n",
            "     0.682   0.126230 0.287297  0.175396  0.871256     0.900479       0.108470 0.033967\n",
            "     0.683   0.126353 0.287297  0.175515  0.871361     0.900590       0.108364 0.033967\n",
            "     0.684   0.126355 0.287051  0.175470  0.871432     0.900676       0.108270 0.033978\n",
            "     0.685   0.126478 0.287051  0.175589  0.871537     0.900787       0.108165 0.033978\n",
            "     0.686   0.126439 0.286558  0.175460  0.871643     0.900923       0.108012 0.034002\n",
            "     0.687   0.126535 0.286558  0.175552  0.871725     0.901009       0.107930 0.034002\n",
            "     0.688   0.126497 0.286066  0.175423  0.871831     0.901145       0.107778 0.034025\n",
            "     0.689   0.126581 0.285820  0.175457  0.871971     0.901305       0.107613 0.034037\n",
            "     0.690   0.126678 0.285820  0.175550  0.872054     0.901391       0.107531 0.034037\n",
            "     0.691   0.126748 0.285574  0.175571  0.872183     0.901539       0.107379 0.034049\n",
            "     0.692   0.126750 0.285327  0.175526  0.872253     0.901625       0.107285 0.034060\n",
            "     0.693   0.126946 0.285081  0.175667  0.872488     0.901884       0.107027 0.034072\n",
            "     0.694   0.126961 0.284835  0.175636  0.872570     0.901982       0.106921 0.034084\n",
            "     0.695   0.126883 0.284097  0.175420  0.872711     0.902167       0.106710 0.034119\n",
            "     0.696   0.126967 0.284097  0.175500  0.872781     0.902241       0.106640 0.034119\n",
            "     0.697   0.127135 0.284097  0.175660  0.872922     0.902389       0.106499 0.034119\n",
            "     0.698   0.127331 0.284097  0.175848  0.873086     0.902561       0.106335 0.034119\n",
            "     0.699   0.127389 0.283850  0.175856  0.873203     0.902697       0.106194 0.034131\n",
            "     0.700   0.127405 0.283604  0.175824  0.873286     0.902795       0.106088 0.034143\n",
            "     0.701   0.127410 0.283112  0.175733  0.873426     0.902968       0.105900 0.034166\n",
            "     0.702   0.127565 0.283112  0.175881  0.873555     0.903103       0.105771 0.034166\n",
            "     0.703   0.127624 0.282866  0.175890  0.873673     0.903239       0.105631 0.034178\n",
            "     0.704   0.127461 0.282127  0.175592  0.873743     0.903350       0.105490 0.034213\n",
            "     0.705   0.127674 0.282127  0.175794  0.873919     0.903535       0.105314 0.034213\n",
            "     0.706   0.127538 0.281388  0.175522  0.874013     0.903670       0.105150 0.034248\n",
            "     0.707   0.127655 0.281142  0.175584  0.874177     0.903855       0.104962 0.034260\n",
            "     0.708   0.127714 0.280896  0.175592  0.874295     0.903990       0.104821 0.034272\n",
            "     0.709   0.127857 0.280896  0.175728  0.874412     0.904114       0.104704 0.034272\n",
            "     0.710   0.127946 0.280650  0.175763  0.874553     0.904274       0.104539 0.034283\n",
            "     0.711   0.127825 0.279911  0.175504  0.874658     0.904422       0.104363 0.034318\n",
            "     0.712   0.127731 0.279173  0.175270  0.874787     0.904594       0.104164 0.034354\n",
            "     0.713   0.127705 0.278927  0.175197  0.874834     0.904656       0.104094 0.034365\n",
            "     0.714   0.127739 0.278434  0.175132  0.874999     0.904853       0.103882 0.034389\n",
            "     0.715   0.127869 0.278434  0.175254  0.875104     0.904964       0.103777 0.034389\n",
            "     0.716   0.127985 0.278434  0.175362  0.875198     0.905062       0.103683 0.034389\n",
            "     0.717   0.128130 0.278434  0.175498  0.875315     0.905185       0.103566 0.034389\n",
            "     0.718   0.128132 0.278188  0.175452  0.875386     0.905272       0.103472 0.034401\n",
            "     0.719   0.128051 0.277696  0.175278  0.875456     0.905370       0.103354 0.034424\n",
            "     0.720   0.128056 0.277203  0.175185  0.875597     0.905543       0.103167 0.034448\n",
            "     0.721   0.128158 0.277203  0.175280  0.875679     0.905629       0.103085 0.034448\n",
            "     0.722   0.128337 0.276957  0.175398  0.875890     0.905863       0.102850 0.034459\n",
            "     0.723   0.128229 0.276219  0.175148  0.876008     0.906023       0.102662 0.034494\n",
            "     0.724   0.128317 0.276219  0.175230  0.876078     0.906097       0.102592 0.034494\n",
            "     0.725   0.128293 0.275726  0.175109  0.876195     0.906245       0.102428 0.034518\n",
            "     0.726   0.128285 0.275234  0.175002  0.876324     0.906405       0.102252 0.034541\n",
            "     0.727   0.128388 0.275234  0.175098  0.876406     0.906491       0.102169 0.034541\n",
            "     0.728   0.128509 0.274988  0.175161  0.876571     0.906676       0.101982 0.034553\n",
            "     0.729   0.128672 0.274988  0.175312  0.876700     0.906812       0.101853 0.034553\n",
            "     0.730   0.128768 0.274495  0.175301  0.876911     0.907058       0.101594 0.034577\n",
            "     0.731   0.128656 0.274003  0.175096  0.876958     0.907132       0.101501 0.034600\n",
            "     0.732   0.128805 0.274003  0.175234  0.877075     0.907255       0.101383 0.034600\n",
            "     0.733   0.128969 0.274003  0.175386  0.877204     0.907391       0.101254 0.034600\n",
            "     0.734   0.128815 0.273264  0.175093  0.877286     0.907514       0.101102 0.034635\n",
            "     0.735   0.128965 0.273264  0.175231  0.877404     0.907637       0.100984 0.034635\n",
            "     0.736   0.129055 0.273264  0.175314  0.877474     0.907711       0.100914 0.034635\n",
            "     0.737   0.129100 0.273264  0.175355  0.877509     0.907748       0.100879 0.034635\n",
            "     0.738   0.128980 0.272280  0.175042  0.877685     0.907982       0.100609 0.034682\n",
            "     0.739   0.128938 0.272033  0.174953  0.877721     0.908031       0.100550 0.034694\n",
            "     0.740   0.129017 0.271787  0.174974  0.877850     0.908179       0.100398 0.034706\n",
            "     0.741   0.129108 0.271787  0.175057  0.877920     0.908253       0.100327 0.034706\n",
            "     0.742   0.129202 0.271541  0.175093  0.878061     0.908413       0.100163 0.034717\n",
            "     0.743   0.129369 0.271541  0.175246  0.878190     0.908549       0.100034 0.034717\n",
            "     0.744   0.129495 0.271295  0.175310  0.878354     0.908734       0.099846 0.034729\n",
            "     0.745   0.129682 0.271049  0.175430  0.878565     0.908968       0.099612 0.034741\n",
            "     0.746   0.129721 0.270556  0.175363  0.878730     0.909165       0.099400 0.034764\n",
            "     0.747   0.129829 0.270556  0.175461  0.878812     0.909251       0.099318 0.034764\n",
            "     0.748   0.129838 0.270064  0.175366  0.878952     0.909424       0.099131 0.034788\n",
            "     0.749   0.129899 0.270064  0.175422  0.878999     0.909473       0.099084 0.034788\n",
            "     0.750   0.130135 0.269818  0.175585  0.879246     0.909744       0.098814 0.034800\n",
            "     0.751   0.130213 0.269818  0.175655  0.879304     0.909805       0.098755 0.034800\n",
            "     0.752   0.130399 0.269818  0.175824  0.879445     0.909953       0.098614 0.034800\n",
            "     0.753   0.130243 0.269079  0.175526  0.879527     0.910077       0.098462 0.034835\n",
            "     0.754   0.130310 0.268833  0.175534  0.879645     0.910212       0.098321 0.034846\n",
            "     0.755   0.130497 0.268833  0.175704  0.879786     0.910360       0.098180 0.034846\n",
            "     0.756   0.130404 0.268095  0.175461  0.879915     0.910532       0.097981 0.034882\n",
            "     0.757   0.130555 0.267602  0.175492  0.880161     0.910816       0.097687 0.034905\n",
            "     0.758   0.130623 0.267356  0.175501  0.880278     0.910951       0.097547 0.034917\n",
            "     0.759   0.130613 0.267110  0.175439  0.880337     0.911025       0.097465 0.034929\n",
            "     0.760   0.130713 0.266864  0.175476  0.880478     0.911185       0.097300 0.034940\n",
            "     0.761   0.130886 0.266864  0.175632  0.880607     0.911321       0.097171 0.034940\n",
            "     0.762   0.130955 0.266617  0.175641  0.880724     0.911456       0.097030 0.034952\n",
            "     0.763   0.131241 0.266617  0.175897  0.880935     0.911678       0.096819 0.034952\n",
            "     0.764   0.131352 0.266617  0.175997  0.881017     0.911764       0.096737 0.034952\n",
            "     0.765   0.131445 0.266125  0.175973  0.881217     0.911998       0.096491 0.034976\n",
            "     0.766   0.131541 0.266125  0.176059  0.881287     0.912072       0.096420 0.034976\n",
            "     0.767   0.131463 0.265387  0.175828  0.881428     0.912257       0.096209 0.035011\n",
            "     0.768   0.131544 0.265387  0.175899  0.881487     0.912319       0.096150 0.035011\n",
            "     0.769   0.131450 0.264648  0.175654  0.881616     0.912491       0.095951 0.035046\n",
            "     0.770   0.131308 0.263909  0.175364  0.881710     0.912627       0.095787 0.035081\n",
            "     0.771   0.131379 0.263663  0.175373  0.881827     0.912762       0.095646 0.035093\n",
            "     0.772   0.131285 0.262925  0.175125  0.881956     0.912935       0.095446 0.035128\n",
            "     0.773   0.131511 0.262925  0.175326  0.882120     0.913107       0.095282 0.035128\n",
            "     0.774   0.131582 0.262678  0.175335  0.882238     0.913243       0.095141 0.035140\n",
            "     0.775   0.131498 0.262186  0.175150  0.882308     0.913341       0.095024 0.035163\n",
            "     0.776   0.131478 0.261694  0.175023  0.882425     0.913489       0.094860 0.035187\n",
            "     0.777   0.131517 0.261448  0.175002  0.882519     0.913600       0.094743 0.035198\n",
            "     0.778   0.131605 0.261201  0.175025  0.882648     0.913748       0.094590 0.035210\n",
            "     0.779   0.131726 0.260955  0.175076  0.882801     0.913920       0.094414 0.035222\n",
            "     0.780   0.131956 0.260955  0.175279  0.882965     0.914093       0.094250 0.035222\n",
            "     0.781   0.132071 0.260955  0.175381  0.883047     0.914179       0.094168 0.035222\n",
            "     0.782   0.132170 0.260955  0.175468  0.883118     0.914253       0.094097 0.035222\n",
            "     0.783   0.132309 0.260709  0.175535  0.883282     0.914438       0.093909 0.035234\n",
            "     0.784   0.132024 0.259724  0.175060  0.883341     0.914549       0.093757 0.035281\n",
            "     0.785   0.131988 0.259232  0.174917  0.883446     0.914684       0.093604 0.035304\n",
            "     0.786   0.132120 0.259232  0.175033  0.883540     0.914783       0.093511 0.035304\n",
            "     0.787   0.132102 0.258740  0.174904  0.883657     0.914931       0.093346 0.035328\n",
            "     0.788   0.132368 0.258740  0.175137  0.883845     0.915128       0.093159 0.035328\n",
            "     0.789   0.132249 0.258247  0.174921  0.883892     0.915202       0.093065 0.035351\n",
            "     0.790   0.132399 0.258247  0.175052  0.883998     0.915312       0.092959 0.035351\n",
            "     0.791   0.132507 0.258001  0.175090  0.884138     0.915473       0.092795 0.035363\n",
            "     0.792   0.132219 0.257016  0.174611  0.884197     0.915584       0.092642 0.035410\n",
            "     0.793   0.132327 0.256770  0.174648  0.884338     0.915744       0.092478 0.035421\n",
            "     0.794   0.132478 0.256770  0.174780  0.884443     0.915855       0.092372 0.035421\n",
            "     0.795   0.132435 0.256524  0.174686  0.884479     0.915904       0.092314 0.035433\n",
            "     0.796   0.132188 0.255785  0.174300  0.884502     0.915965       0.092220 0.035468\n",
            "     0.797   0.132263 0.255539  0.174307  0.884619     0.916101       0.092079 0.035480\n",
            "     0.798   0.132466 0.255539  0.174483  0.884760     0.916249       0.091938 0.035480\n",
            "     0.799   0.132259 0.254554  0.174074  0.884878     0.916421       0.091727 0.035527\n",
            "     0.800   0.132351 0.254308  0.174096  0.885007     0.916569       0.091575 0.035539\n",
            "     0.801   0.132410 0.254062  0.174089  0.885112     0.916692       0.091446 0.035550\n",
            "     0.802   0.132553 0.253816  0.174155  0.885276     0.916877       0.091258 0.035562\n",
            "     0.803   0.132758 0.253816  0.174332  0.885417     0.917025       0.091117 0.035562\n",
            "     0.804   0.132689 0.253323  0.174156  0.885499     0.917136       0.090988 0.035586\n",
            "     0.805   0.132731 0.253077  0.174134  0.885593     0.917247       0.090871 0.035597\n",
            "     0.806   0.132902 0.253077  0.174282  0.885711     0.917370       0.090753 0.035597\n",
            "     0.807   0.132513 0.251846  0.173655  0.885769     0.917493       0.090577 0.035656\n",
            "     0.808   0.132685 0.251846  0.173802  0.885887     0.917616       0.090460 0.035656\n",
            "     0.809   0.132414 0.250615  0.173277  0.886027     0.917826       0.090202 0.035715\n",
            "     0.810   0.132621 0.250615  0.173454  0.886168     0.917974       0.090061 0.035715\n",
            "     0.811   0.132802 0.250369  0.173549  0.886356     0.918183       0.089850 0.035726\n",
            "     0.812   0.132828 0.250123  0.173512  0.886438     0.918282       0.089744 0.035738\n",
            "     0.813   0.132993 0.249877  0.173593  0.886614     0.918479       0.089545 0.035750\n",
            "     0.814   0.132878 0.249138  0.173317  0.886731     0.918639       0.089357 0.035785\n",
            "     0.815   0.132904 0.248892  0.173280  0.886813     0.918737       0.089252 0.035797\n",
            "     0.816   0.132921 0.248400  0.173174  0.886954     0.918910       0.089064 0.035820\n",
            "     0.817   0.133061 0.248400  0.173293  0.887048     0.919008       0.088970 0.035820\n",
            "     0.818   0.133254 0.248400  0.173457  0.887177     0.919144       0.088841 0.035820\n",
            "     0.819   0.133245 0.248154  0.173390  0.887236     0.919218       0.088759 0.035832\n",
            "     0.820   0.133431 0.247907  0.173486  0.887424     0.919427       0.088548 0.035844\n",
            "     0.821   0.133634 0.247661  0.173598  0.887623     0.919649       0.088325 0.035855\n",
            "     0.822   0.133750 0.247415  0.173635  0.887764     0.919809       0.088160 0.035867\n",
            "     0.823   0.133831 0.247169  0.173642  0.887881     0.919945       0.088020 0.035879\n",
            "     0.824   0.133904 0.246677  0.173582  0.888057     0.920154       0.087797 0.035902\n",
            "     0.825   0.134065 0.246677  0.173717  0.888163     0.920265       0.087691 0.035902\n",
            "     0.826   0.134164 0.246430  0.173739  0.888292     0.920413       0.087539 0.035914\n",
            "     0.827   0.133817 0.245199  0.173142  0.888386     0.920573       0.087327 0.035973\n",
            "     0.828   0.133728 0.244707  0.172945  0.888456     0.920672       0.087210 0.035996\n",
            "     0.829   0.134016 0.244707  0.173186  0.888644     0.920869       0.087022 0.035996\n",
            "     0.830   0.133955 0.243968  0.172949  0.888796     0.921066       0.086799 0.036031\n",
            "     0.831   0.134065 0.243476  0.172917  0.888996     0.921300       0.086553 0.036055\n",
            "     0.832   0.134320 0.243476  0.173129  0.889160     0.921472       0.086389 0.036055\n",
            "     0.833   0.134513 0.243230  0.173227  0.889348     0.921682       0.086178 0.036067\n",
            "     0.834   0.134608 0.242738  0.173180  0.889535     0.921904       0.085943 0.036090\n",
            "     0.835   0.134610 0.242245  0.173057  0.889665     0.922064       0.085767 0.036114\n",
            "     0.836   0.134631 0.241753  0.172948  0.889805     0.922236       0.085579 0.036137\n",
            "     0.837   0.134734 0.241507  0.172970  0.889934     0.922384       0.085427 0.036149\n",
            "     0.838   0.134756 0.241014  0.172861  0.890075     0.922557       0.085239 0.036172\n",
            "     0.839   0.134897 0.240768  0.172914  0.890228     0.922729       0.085063 0.036184\n",
            "     0.840   0.134963 0.240522  0.172905  0.890333     0.922852       0.084934 0.036196\n",
            "     0.841   0.135042 0.240030  0.172842  0.890509     0.923062       0.084711 0.036219\n",
            "     0.842   0.135128 0.239783  0.172848  0.890627     0.923197       0.084570 0.036231\n",
            "     0.843   0.135372 0.239783  0.173048  0.890779     0.923357       0.084418 0.036231\n",
            "     0.844   0.135256 0.239045  0.172760  0.890897     0.923518       0.084230 0.036266\n",
            "     0.845   0.135600 0.238552  0.172912  0.891237     0.923900       0.083843 0.036290\n",
            "     0.846   0.135764 0.238306  0.172981  0.891401     0.924084       0.083655 0.036301\n",
            "     0.847   0.135917 0.238306  0.173104  0.891495     0.924183       0.083561 0.036301\n",
            "     0.848   0.136357 0.238306  0.173461  0.891765     0.924466       0.083291 0.036301\n",
            "     0.849   0.136203 0.237568  0.173141  0.891859     0.924602       0.083127 0.036337\n",
            "     0.850   0.136209 0.237075  0.173015  0.891988     0.924762       0.082951 0.036360\n",
            "     0.851   0.136093 0.236337  0.172724  0.892105     0.924922       0.082763 0.036395\n",
            "     0.852   0.136118 0.235844  0.172613  0.892246     0.925095       0.082576 0.036419\n",
            "     0.853   0.136526 0.235844  0.172940  0.892492     0.925353       0.082329 0.036419\n",
            "     0.854   0.136208 0.234860  0.172420  0.892551     0.925464       0.082177 0.036466\n",
            "     0.855   0.136312 0.234367  0.172370  0.892739     0.925686       0.081942 0.036489\n",
            "     0.856   0.136599 0.234121  0.172533  0.892973     0.925945       0.081684 0.036501\n",
            "     0.857   0.136835 0.234121  0.172721  0.893114     0.926092       0.081543 0.036501\n",
            "     0.858   0.137085 0.233875  0.172853  0.893325     0.926327       0.081308 0.036513\n",
            "     0.859   0.137153 0.233383  0.172772  0.893489     0.926524       0.081097 0.036536\n",
            "     0.860   0.137332 0.233383  0.172914  0.893595     0.926635       0.080992 0.036536\n",
            "     0.861   0.137571 0.233383  0.173103  0.893736     0.926782       0.080851 0.036536\n",
            "     0.862   0.137725 0.233136  0.173158  0.893888     0.926955       0.080675 0.036548\n",
            "     0.863   0.138082 0.232890  0.173371  0.894158     0.927251       0.080382 0.036559\n",
            "     0.864   0.138194 0.232398  0.173322  0.894346     0.927472       0.080147 0.036583\n",
            "     0.865   0.138396 0.232398  0.173482  0.894463     0.927596       0.080030 0.036583\n",
            "     0.866   0.138534 0.232152  0.173521  0.894604     0.927756       0.079865 0.036595\n",
            "     0.867   0.138373 0.231167  0.173119  0.894757     0.927965       0.079619 0.036642\n",
            "     0.868   0.138323 0.230675  0.172942  0.894850     0.928088       0.079478 0.036665\n",
            "     0.869   0.138334 0.230182  0.172812  0.894980     0.928248       0.079302 0.036689\n",
            "     0.870   0.138596 0.229936  0.172947  0.895191     0.928483       0.079067 0.036700\n",
            "     0.871   0.138736 0.229690  0.172986  0.895332     0.928643       0.078903 0.036712\n",
            "     0.872   0.138707 0.229197  0.172823  0.895437     0.928778       0.078751 0.036735\n",
            "     0.873   0.138806 0.228951  0.172830  0.895554     0.928914       0.078610 0.036747\n",
            "     0.874   0.139218 0.228705  0.173079  0.895848     0.929234       0.078293 0.036759\n",
            "     0.875   0.139210 0.228213  0.172932  0.895965     0.929382       0.078129 0.036782\n",
            "     0.876   0.139416 0.227967  0.173019  0.896141     0.929579       0.077929 0.036794\n",
            "     0.877   0.139451 0.227474  0.172904  0.896282     0.929752       0.077742 0.036818\n",
            "     0.878   0.139679 0.227228  0.173008  0.896470     0.929961       0.077530 0.036829\n",
            "     0.879   0.139803 0.226982  0.173032  0.896599     0.930109       0.077378 0.036841\n",
            "     0.880   0.139994 0.226982  0.173178  0.896704     0.930220       0.077272 0.036841\n",
            "     0.881   0.140289 0.226736  0.173332  0.896927     0.930466       0.077026 0.036853\n",
            "     0.882   0.140214 0.225751  0.172986  0.897127     0.930725       0.076733 0.036900\n",
            "     0.883   0.140450 0.225751  0.173166  0.897256     0.930860       0.076604 0.036900\n",
            "     0.884   0.140531 0.225258  0.173082  0.897420     0.931057       0.076392 0.036923\n",
            "     0.885   0.140659 0.225012  0.173106  0.897549     0.931205       0.076240 0.036935\n",
            "     0.886   0.140873 0.224766  0.173195  0.897725     0.931402       0.076040 0.036947\n",
            "     0.887   0.140845 0.224028  0.172954  0.897889     0.931612       0.075806 0.036982\n",
            "     0.888   0.141042 0.224028  0.173103  0.897995     0.931723       0.075700 0.036982\n",
            "     0.889   0.141237 0.223781  0.173176  0.898159     0.931908       0.075512 0.036994\n",
            "     0.890   0.141231 0.223043  0.172950  0.898335     0.932129       0.075266 0.037029\n",
            "     0.891   0.140982 0.222058  0.172467  0.898441     0.932289       0.075067 0.037076\n",
            "     0.892   0.141090 0.221812  0.172473  0.898558     0.932425       0.074926 0.037087\n",
            "     0.893   0.140971 0.220827  0.172086  0.898734     0.932659       0.074656 0.037134\n",
            "     0.894   0.140810 0.220089  0.171741  0.898828     0.932795       0.074492 0.037170\n",
            "     0.895   0.140667 0.219104  0.171335  0.898992     0.933016       0.074234 0.037217\n",
            "     0.896   0.140841 0.218612  0.171313  0.899203     0.933263       0.073975 0.037240\n",
            "     0.897   0.141109 0.218612  0.171511  0.899344     0.933411       0.073835 0.037240\n",
            "     0.898   0.141150 0.218119  0.171390  0.899485     0.933583       0.073647 0.037263\n",
            "     0.899   0.141237 0.217627  0.171301  0.899649     0.933780       0.073436 0.037287\n",
            "     0.900   0.141301 0.217134  0.171196  0.899802     0.933965       0.073236 0.037310\n",
            "     0.901   0.141458 0.216888  0.171234  0.899943     0.934125       0.073072 0.037322\n",
            "     0.902   0.141317 0.216150  0.170900  0.900048     0.934273       0.072896 0.037357\n",
            "     0.903   0.141634 0.215903  0.171055  0.900271     0.934519       0.072650 0.037369\n",
            "     0.904   0.141699 0.215165  0.170870  0.900482     0.934778       0.072368 0.037404\n",
            "     0.905   0.141926 0.214426  0.170801  0.900776     0.935123       0.072004 0.037439\n",
            "     0.906   0.141736 0.213442  0.170351  0.900916     0.935320       0.071770 0.037486\n",
            "     0.907   0.142201 0.213442  0.170686  0.901151     0.935567       0.071535 0.037486\n",
            "     0.908   0.142575 0.213195  0.170876  0.901397     0.935838       0.071265 0.037498\n",
            "     0.909   0.142715 0.212457  0.170739  0.901644     0.936133       0.070948 0.037533\n",
            "     0.910   0.143166 0.212211  0.170981  0.901925     0.936441       0.070643 0.037545\n",
            "     0.911   0.143451 0.212211  0.171185  0.902066     0.936589       0.070503 0.037545\n",
            "     0.912   0.143573 0.211718  0.171110  0.902242     0.936799       0.070280 0.037568\n",
            "     0.913   0.143861 0.211718  0.171315  0.902383     0.936946       0.070139 0.037568\n",
            "     0.914   0.144032 0.211226  0.171275  0.902582     0.937180       0.069892 0.037592\n",
            "     0.915   0.144061 0.210487  0.171051  0.902770     0.937415       0.069634 0.037627\n",
            "     0.916   0.144089 0.209749  0.170827  0.902958     0.937649       0.069376 0.037662\n",
            "     0.917   0.144507 0.209503  0.171038  0.903216     0.937932       0.069095 0.037674\n",
            "     0.918   0.144755 0.209257  0.171129  0.903392     0.938129       0.068895 0.037686\n",
            "     0.919   0.145252 0.209010  0.171394  0.903685     0.938449       0.068578 0.037698\n",
            "     0.920   0.144820 0.207533  0.170596  0.903826     0.938671       0.068297 0.037768\n",
            "     0.921   0.145047 0.207287  0.170670  0.903990     0.938856       0.068109 0.037780\n",
            "     0.922   0.145105 0.206548  0.170459  0.904190     0.939102       0.067839 0.037815\n",
            "     0.923   0.144741 0.205318  0.169788  0.904307     0.939287       0.067605 0.037874\n",
            "     0.924   0.145026 0.204579  0.169730  0.904612     0.939644       0.067229 0.037909\n",
            "     0.925   0.145260 0.204087  0.169721  0.904835     0.939903       0.066959 0.037932\n",
            "     0.926   0.145800 0.203840  0.170003  0.905140     0.940236       0.066631 0.037944\n",
            "     0.927   0.145583 0.202856  0.169512  0.905269     0.940421       0.066408 0.037991\n",
            "     0.928   0.145741 0.202610  0.169533  0.905398     0.940568       0.066255 0.038003\n",
            "     0.929   0.145930 0.202117  0.169488  0.905598     0.940803       0.066009 0.038026\n",
            "     0.930   0.146093 0.201625  0.169425  0.905785     0.941024       0.065774 0.038050\n",
            "     0.931   0.146293 0.200640  0.169210  0.906102     0.941406       0.065364 0.038096\n",
            "     0.932   0.146254 0.199902  0.168920  0.906255     0.941603       0.065141 0.038132\n",
            "     0.933   0.146165 0.198917  0.168509  0.906442     0.941850       0.064859 0.038179\n",
            "     0.934   0.146647 0.198671  0.168740  0.906712     0.942145       0.064566 0.038190\n",
            "     0.935   0.146453 0.197686  0.168256  0.906853     0.942343       0.064331 0.038237\n",
            "     0.936   0.146493 0.196947  0.168014  0.907041     0.942577       0.064073 0.038272\n",
            "     0.937   0.146853 0.196455  0.168071  0.907311     0.942885       0.063756 0.038296\n",
            "     0.938   0.147086 0.195716  0.167952  0.907581     0.943205       0.063416 0.038331\n",
            "     0.939   0.147453 0.195224  0.168008  0.907850     0.943513       0.063099 0.038355\n",
            "     0.940   0.146883 0.193747  0.167091  0.907944     0.943685       0.062864 0.038425\n",
            "     0.941   0.147633 0.193501  0.167483  0.908320     0.944092       0.062466 0.038437\n",
            "     0.942   0.147785 0.193008  0.167396  0.908496     0.944301       0.062243 0.038460\n",
            "     0.943   0.147923 0.192024  0.167113  0.908777     0.944646       0.061867 0.038507\n",
            "     0.944   0.147535 0.190793  0.166398  0.908895     0.944831       0.061633 0.038566\n",
            "     0.945   0.148070 0.190793  0.166738  0.909118     0.945065       0.061410 0.038566\n",
            "     0.946   0.148205 0.190054  0.166541  0.909340     0.945336       0.061116 0.038601\n",
            "     0.947   0.148041 0.188823  0.165963  0.909552     0.945620       0.060788 0.038660\n",
            "     0.948   0.148292 0.188085  0.165835  0.909822     0.945940       0.060447 0.038695\n",
            "     0.949   0.148148 0.187100  0.165361  0.909986     0.946162       0.060189 0.038742\n",
            "     0.950   0.148598 0.186608  0.165448  0.910279     0.946494       0.059849 0.038765\n",
            "     0.951   0.149369 0.186361  0.165827  0.910643     0.946889       0.059462 0.038777\n",
            "     0.952   0.150298 0.186115  0.166300  0.911065     0.947344       0.059016 0.038789\n",
            "     0.953   0.150600 0.185377  0.166188  0.911347     0.947677       0.058664 0.038824\n",
            "     0.954   0.151095 0.185130  0.166390  0.911593     0.947948       0.058394 0.038836\n",
            "     0.955   0.151497 0.184392  0.166334  0.911910     0.948318       0.058007 0.038871\n",
            "     0.956   0.152015 0.183900  0.166444  0.912215     0.948663       0.057655 0.038894\n",
            "     0.957   0.152661 0.182915  0.166424  0.912673     0.949192       0.057104 0.038941\n",
            "     0.958   0.153053 0.182669  0.166554  0.912872     0.949414       0.056881 0.038953\n",
            "     0.959   0.153032 0.181438  0.166028  0.913130     0.949747       0.056505 0.039012\n",
            "     0.960   0.153846 0.181192  0.166403  0.913482     0.950129       0.056130 0.039023\n",
            "     0.961   0.154509 0.180945  0.166686  0.913776     0.950449       0.055813 0.039035\n",
            "     0.962   0.154236 0.179714  0.166003  0.913940     0.950683       0.055531 0.039094\n",
            "     0.963   0.154714 0.178976  0.165963  0.914268     0.951065       0.055133 0.039129\n",
            "     0.964   0.154987 0.177499  0.165481  0.914679     0.951570       0.054581 0.039199\n",
            "     0.965   0.155296 0.176514  0.165226  0.914996     0.951952       0.054170 0.039246\n",
            "     0.966   0.155623 0.175775  0.165087  0.915266     0.952272       0.053830 0.039281\n",
            "     0.967   0.156064 0.174545  0.164788  0.915676     0.952765       0.053302 0.039340\n",
            "     0.968   0.156632 0.173560  0.164662  0.916075     0.953233       0.052809 0.039387\n",
            "     0.969   0.157376 0.173067  0.164849  0.916427     0.953628       0.052411 0.039411\n",
            "     0.970   0.157479 0.171590  0.164232  0.916767     0.954059       0.051929 0.039481\n",
            "     0.971   0.157391 0.169867  0.163391  0.917096     0.954490       0.051437 0.039563\n",
            "     0.972   0.158234 0.169375  0.163615  0.917471     0.954909       0.051014 0.039587\n",
            "     0.973   0.157980 0.167159  0.162440  0.917847     0.955414       0.050428 0.039692\n",
            "     0.974   0.158290 0.165928  0.162019  0.918199     0.955845       0.049958 0.039751\n",
            "     0.975   0.158666 0.165190  0.161862  0.918469     0.956166       0.049618 0.039786\n",
            "     0.976   0.160423 0.164451  0.162412  0.919161     0.956929       0.048855 0.039821\n",
            "     0.977   0.161479 0.163466  0.162466  0.919677     0.957521       0.048245 0.039868\n",
            "     0.978   0.162888 0.162728  0.162808  0.920240     0.958149       0.047612 0.039903\n",
            "     0.979   0.163718 0.161743  0.162724  0.920674     0.958654       0.047084 0.039950\n",
            "     0.980   0.165697 0.161251  0.163444  0.921331     0.959369       0.046380 0.039974\n",
            "     0.981   0.166667 0.160512  0.163531  0.921742     0.959837       0.045899 0.040009\n",
            "     0.982   0.167573 0.159281  0.163322  0.922223     0.960404       0.045300 0.040068\n",
            "     0.983   0.168722 0.158296  0.163343  0.922716     0.960970       0.044714 0.040115\n",
            "     0.984   0.169379 0.156327  0.162591  0.923256     0.961636       0.043986 0.040208\n",
            "     0.985   0.170022 0.153865  0.161540  0.923877     0.962412       0.043130 0.040326\n",
            "     0.986   0.169299 0.150419  0.159301  0.924335     0.963065       0.042344 0.040490\n",
            "     0.987   0.170829 0.148203  0.158713  0.925121     0.964001       0.041346 0.040596\n",
            "     0.988   0.172354 0.146726  0.158511  0.925755     0.964740       0.040572 0.040666\n",
            "     0.989   0.173578 0.144264  0.157569  0.926482     0.965627       0.039610 0.040783\n",
            "     0.990   0.176399 0.142787  0.157823  0.927374     0.966638       0.038578 0.040854\n",
            "     0.991   0.177465 0.139586  0.156263  0.928160     0.967623       0.037486 0.041006\n",
            "     0.992   0.181377 0.138109  0.156813  0.929216     0.968806       0.036290 0.041077\n",
            "     0.993   0.183912 0.135647  0.156135  0.930119     0.969878       0.035152 0.041194\n",
            "     0.994   0.186176 0.131955  0.154445  0.931140     0.971134       0.033779 0.041370\n",
            "     0.995   0.190912 0.128262  0.153438  0.932548     0.972797       0.032019 0.041546\n",
            "     0.996   0.191250 0.121615  0.148683  0.933627     0.974264       0.030306 0.041863\n",
            "     0.997   0.192308 0.113245  0.142547  0.935071     0.976198       0.028065 0.042262\n",
            "     0.998   0.199716 0.103890  0.136680  0.937452     0.979167       0.024791 0.042707\n",
            "     0.999   0.207814 0.090350  0.125944  0.940233     0.982764       0.020720 0.043353\n"
          ]
        }
      ]
    },
    {
      "cell_type": "markdown",
      "source": [
        "# Optimización bayesiana para la busqueda de la mejor arquitectura"
      ],
      "metadata": {
        "id": "lAzWa2xg9kSp"
      }
    },
    {
      "cell_type": "markdown",
      "source": [
        "Busqueda de mejor hiperparámetros con optimización bayesiana"
      ],
      "metadata": {
        "id": "xBBYaYwzZ8Cg"
      }
    },
    {
      "cell_type": "code",
      "source": [
        "VERBOSE = False\n",
        "EPOCAS = 5"
      ],
      "metadata": {
        "id": "TJXJlKuk_1BJ"
      },
      "execution_count": null,
      "outputs": []
    },
    {
      "cell_type": "code",
      "source": [
        "def train_and_evaluate_Accuracy_2layer(hidden_1,hidden_2,learning_rate, batch_size):\n",
        "    \n",
        "    # limpieza de modelos precedentes\n",
        "    reset_seed()\n",
        "    \n",
        "    # Algunos hiperparámetros deben ser enteros. La optimización bayesiana no \n",
        "    # se encarga de eso, por lo que hay que convertirlos \"a pie\"\n",
        "    hidden_1 = int(round(hidden_1))\n",
        "    hidden_2 = int(round(hidden_2))\n",
        "    batch_size = int(round(batch_size))\n",
        "\n",
        "    print(f\"Evaluando con arquitectura ({hidden_1}), Evaluando con arquitectura ({hidden_2}), con lr {learning_rate}\",\n",
        "          f\"y batch_size {batch_size}.  \", end= \"\")\n",
        "    \n",
        "    epocas = EPOCAS\n",
        "    # Ciclo de entrenamiento\n",
        "    model, losses_train, accs_train, losses_val, accs_val, tiempo = train_model(\n",
        "        train_batch_size=batch_size, \n",
        "        inter_dense1=hidden_1,\n",
        "        inter_dense2=hidden_2,\n",
        "        learning_rate=learning_rate,\n",
        "        epocas=epocas,\n",
        "        verbose=VERBOSE)\n",
        "    train_loss, train_acc = losses_train[epocas-1], accs_train[epocas-1]\n",
        "    val_loss, val_acc = losses_val[epocas-1], accs_val[epocas-1]\n",
        "\n",
        "    val_loss = -1 * val_loss\n",
        "\n",
        "    print(f\"El accuracy de train/val son {train_acc:.3f}/{val_acc:.3f}, el loss train/val son {train_loss:.4f}/{val_loss:.4f}, tiempo: {tiempo:.2f} segundos\".format(train_acc, val_acc))\n",
        "\n",
        "    return val_loss"
      ],
      "metadata": {
        "id": "Gth4wnto9q1U"
      },
      "execution_count": null,
      "outputs": []
    },
    {
      "cell_type": "code",
      "source": [
        "train_and_evaluate_Accuracy_2layer(hidden_1=80, hidden_2=40, learning_rate=0.01, batch_size=1024)"
      ],
      "metadata": {
        "colab": {
          "base_uri": "https://localhost:8080/"
        },
        "id": "xPuExnNqJBmK",
        "outputId": "5f49f895-66e4-469e-be21-197d4e345d92"
      },
      "execution_count": null,
      "outputs": [
        {
          "output_type": "stream",
          "name": "stdout",
          "text": [
            "Evaluando con arquitectura (80), Evaluando con arquitectura (40), con lr 0.01 y batch_size 1024.  El accuracy de train/val son 0.880/0.816, el loss train/val son 0.0013/-0.0012, tiempo: 0.45 segundos\n"
          ]
        },
        {
          "output_type": "execute_result",
          "data": {
            "text/plain": [
              "-0.0012485029576266183"
            ]
          },
          "metadata": {},
          "execution_count": 47
        }
      ]
    },
    {
      "cell_type": "code",
      "source": [
        "#!pip install bayesian-optimization\n",
        "#conda install -c conda-forge bayesian-optimization\n",
        "from bayes_opt import BayesianOptimization"
      ],
      "metadata": {
        "id": "xg-5uSpWRagk"
      },
      "execution_count": null,
      "outputs": []
    },
    {
      "cell_type": "code",
      "source": [
        "pbounds = {'hidden_1': (1, 200), 'hidden_2': (1, 200), 'learning_rate': (0.001, 0.1), 'batch_size':(1024, 1024)} #lr (10-3,10+3)"
      ],
      "metadata": {
        "id": "B6-skmB9Rcls"
      },
      "execution_count": null,
      "outputs": []
    },
    {
      "cell_type": "code",
      "source": [
        "optimizer = BayesianOptimization(\n",
        "    f=train_and_evaluate_Accuracy_2layer,\n",
        "    pbounds=pbounds,\n",
        "    random_state=1,\n",
        "    verbose=2\n",
        ")"
      ],
      "metadata": {
        "id": "uTn6wZAYRjQy"
      },
      "execution_count": null,
      "outputs": []
    },
    {
      "cell_type": "code",
      "source": [
        "%%time \n",
        "optimizer.maximize(\n",
        "    init_points=5,\n",
        "    n_iter=10,\n",
        ")"
      ],
      "metadata": {
        "colab": {
          "base_uri": "https://localhost:8080/"
        },
        "id": "eIKs9LJ8Rpz4",
        "outputId": "7fd1b3d6-ca59-4876-c96b-6dbef0427483"
      },
      "execution_count": null,
      "outputs": [
        {
          "output_type": "stream",
          "name": "stdout",
          "text": [
            "|   iter    |  target   | batch_... | hidden_1  | hidden_2  | learni... |\n",
            "-------------------------------------------------------------------------\n",
            "Evaluando con arquitectura (144), Evaluando con arquitectura (1), con lr 0.03093092469055214 y batch_size 1024.  El accuracy de train/val son 0.866/0.895, el loss train/val son 0.0013/-0.0012, tiempo: 0.40 segundos\n",
            "| \u001b[0m1        \u001b[0m | \u001b[0m-0.001249\u001b[0m | \u001b[0m1.024e+03\u001b[0m | \u001b[0m144.3    \u001b[0m | \u001b[0m1.023    \u001b[0m | \u001b[0m0.03093  \u001b[0m |\n",
            "Evaluando con arquitectura (19), Evaluando con arquitectura (38), con lr 0.03521051197726173 y batch_size 1024.  El accuracy de train/val son 0.898/0.912, el loss train/val son 0.0013/-0.0013, tiempo: 0.39 segundos\n",
            "| \u001b[0m2        \u001b[0m | \u001b[0m-0.001259\u001b[0m | \u001b[0m1.024e+03\u001b[0m | \u001b[0m19.38    \u001b[0m | \u001b[0m38.07    \u001b[0m | \u001b[0m0.03521  \u001b[0m |\n",
            "Evaluando con arquitectura (108), Evaluando con arquitectura (84), con lr 0.06883673053927919 y batch_size 1024.  El accuracy de train/val son 0.907/0.937, el loss train/val son 0.0013/-0.0013, tiempo: 0.40 segundos\n",
            "| \u001b[0m3        \u001b[0m | \u001b[0m-0.001277\u001b[0m | \u001b[0m1.024e+03\u001b[0m | \u001b[0m108.2    \u001b[0m | \u001b[0m84.42    \u001b[0m | \u001b[0m0.06884  \u001b[0m |\n",
            "Evaluando con arquitectura (176), Evaluando con arquitectura (6), con lr 0.06737628350766182 y batch_size 1024.  El accuracy de train/val son 0.833/0.874, el loss train/val son 0.0013/-0.0013, tiempo: 0.41 segundos\n",
            "| \u001b[0m4        \u001b[0m | \u001b[0m-0.001253\u001b[0m | \u001b[0m1.024e+03\u001b[0m | \u001b[0m175.7    \u001b[0m | \u001b[0m6.45     \u001b[0m | \u001b[0m0.06738  \u001b[0m |\n",
            "Evaluando con arquitectura (112), Evaluando con arquitectura (29), con lr 0.020612047419403003 y batch_size 1024.  El accuracy de train/val son 0.843/0.866, el loss train/val son 0.0013/-0.0012, tiempo: 0.41 segundos\n",
            "| \u001b[95m5        \u001b[0m | \u001b[95m-0.001248\u001b[0m | \u001b[95m1.024e+03\u001b[0m | \u001b[95m112.2    \u001b[0m | \u001b[95m28.94    \u001b[0m | \u001b[95m0.02061  \u001b[0m |\n",
            "Evaluando con arquitectura (114), Evaluando con arquitectura (29), con lr 0.02122542100904737 y batch_size 1024.  El accuracy de train/val son 0.861/0.858, el loss train/val son 0.0013/-0.0012, tiempo: 0.41 segundos\n",
            "| \u001b[95m6        \u001b[0m | \u001b[95m-0.001248\u001b[0m | \u001b[95m1.024e+03\u001b[0m | \u001b[95m113.5    \u001b[0m | \u001b[95m29.2     \u001b[0m | \u001b[95m0.02123  \u001b[0m |\n",
            "Evaluando con arquitectura (151), Evaluando con arquitectura (37), con lr 0.03988066449068589 y batch_size 1024.  El accuracy de train/val son 0.875/0.841, el loss train/val son 0.0013/-0.0013, tiempo: 0.40 segundos\n",
            "| \u001b[0m7        \u001b[0m | \u001b[0m-0.001252\u001b[0m | \u001b[0m1.024e+03\u001b[0m | \u001b[0m150.9    \u001b[0m | \u001b[0m36.64    \u001b[0m | \u001b[0m0.03988  \u001b[0m |\n",
            "Evaluando con arquitectura (2), Evaluando con arquitectura (199), con lr 0.03906702278133608 y batch_size 1024.  El accuracy de train/val son 0.958/0.967, el loss train/val son 0.0013/-0.0013, tiempo: 0.40 segundos\n",
            "| \u001b[0m8        \u001b[0m | \u001b[0m-0.001296\u001b[0m | \u001b[0m1.024e+03\u001b[0m | \u001b[0m2.348    \u001b[0m | \u001b[0m199.2    \u001b[0m | \u001b[0m0.03907  \u001b[0m |\n",
            "Evaluando con arquitectura (200), Evaluando con arquitectura (200), con lr 0.07791026626492864 y batch_size 1024.  El accuracy de train/val son 0.949/0.967, el loss train/val son 0.0013/-0.0013, tiempo: 0.40 segundos\n",
            "| \u001b[0m9        \u001b[0m | \u001b[0m-0.001296\u001b[0m | \u001b[0m1.024e+03\u001b[0m | \u001b[0m199.8    \u001b[0m | \u001b[0m199.5    \u001b[0m | \u001b[0m0.07791  \u001b[0m |\n",
            "Evaluando con arquitectura (2), Evaluando con arquitectura (2), con lr 0.017017300277771756 y batch_size 1024.  El accuracy de train/val son 0.889/0.891, el loss train/val son 0.0013/-0.0013, tiempo: 0.39 segundos\n",
            "| \u001b[0m10       \u001b[0m | \u001b[0m-0.001258\u001b[0m | \u001b[0m1.024e+03\u001b[0m | \u001b[0m2.376    \u001b[0m | \u001b[0m2.072    \u001b[0m | \u001b[0m0.01702  \u001b[0m |\n",
            "Evaluando con arquitectura (1), Evaluando con arquitectura (96), con lr 0.0786705081174801 y batch_size 1024.  El accuracy de train/val son 0.972/0.967, el loss train/val son 0.0013/-0.0013, tiempo: 0.39 segundos\n",
            "| \u001b[0m11       \u001b[0m | \u001b[0m-0.001296\u001b[0m | \u001b[0m1.024e+03\u001b[0m | \u001b[0m1.284    \u001b[0m | \u001b[0m95.63    \u001b[0m | \u001b[0m0.07867  \u001b[0m |\n",
            "Evaluando con arquitectura (199), Evaluando con arquitectura (81), con lr 0.005825787605674377 y batch_size 1024.  El accuracy de train/val son 0.898/0.862, el loss train/val son 0.0013/-0.0012, tiempo: 0.40 segundos\n",
            "| \u001b[0m12       \u001b[0m | \u001b[0m-0.001249\u001b[0m | \u001b[0m1.024e+03\u001b[0m | \u001b[0m199.5    \u001b[0m | \u001b[0m81.35    \u001b[0m | \u001b[0m0.005826 \u001b[0m |\n",
            "Evaluando con arquitectura (200), Evaluando con arquitectura (41), con lr 0.055879855881021005 y batch_size 1024.  El accuracy de train/val son 0.875/0.870, el loss train/val son 0.0013/-0.0013, tiempo: 0.40 segundos\n",
            "| \u001b[0m13       \u001b[0m | \u001b[0m-0.00126 \u001b[0m | \u001b[0m1.024e+03\u001b[0m | \u001b[0m199.9    \u001b[0m | \u001b[0m40.68    \u001b[0m | \u001b[0m0.05588  \u001b[0m |\n",
            "Evaluando con arquitectura (51), Evaluando con arquitectura (1), con lr 0.0019190410466767 y batch_size 1024.  El accuracy de train/val son 0.870/0.883, el loss train/val son 0.0013/-0.0013, tiempo: 0.40 segundos\n",
            "| \u001b[0m14       \u001b[0m | \u001b[0m-0.001258\u001b[0m | \u001b[0m1.024e+03\u001b[0m | \u001b[0m50.82    \u001b[0m | \u001b[0m1.233    \u001b[0m | \u001b[0m0.001919 \u001b[0m |\n",
            "Evaluando con arquitectura (199), Evaluando con arquitectura (121), con lr 0.007145877404366896 y batch_size 1024.  El accuracy de train/val son 0.861/0.874, el loss train/val son 0.0013/-0.0012, tiempo: 0.40 segundos\n",
            "| \u001b[0m15       \u001b[0m | \u001b[0m-0.001249\u001b[0m | \u001b[0m1.024e+03\u001b[0m | \u001b[0m199.2    \u001b[0m | \u001b[0m121.0    \u001b[0m | \u001b[0m0.007146 \u001b[0m |\n",
            "=========================================================================\n",
            "CPU times: user 5min 55s, sys: 2.67 s, total: 5min 57s\n",
            "Wall time: 6min\n"
          ]
        }
      ]
    },
    {
      "cell_type": "code",
      "source": [
        "VERBOSE=False"
      ],
      "metadata": {
        "id": "Bc227pSYWTdn"
      },
      "execution_count": null,
      "outputs": []
    },
    {
      "cell_type": "code",
      "source": [
        "%%time\n",
        "optimizer.maximize(\n",
        "    init_points=100,\n",
        "    n_iter=20,\n",
        ")"
      ],
      "metadata": {
        "colab": {
          "base_uri": "https://localhost:8080/"
        },
        "id": "Aok0uwNwWVZK",
        "outputId": "421e8992-f9eb-4478-cd54-872c499b6f4e"
      },
      "execution_count": null,
      "outputs": [
        {
          "output_type": "stream",
          "name": "stdout",
          "text": [
            "|   iter    |  target   | batch_... | hidden_1  | hidden_2  | learni... |\n",
            "-------------------------------------------------------------------------\n",
            "Evaluando con arquitectura (194), Evaluando con arquitectura (63), con lr 0.06953993895126209 y batch_size 2412.  El accuracy de train/val son 0.880/0.862, el loss train/val son 0.0005/-0.0005, tiempo: 1684078299.40 segundos\n",
            "| \u001b[0m16       \u001b[0m | \u001b[0m-0.000531\u001b[0m | \u001b[0m2.412e+03\u001b[0m | \u001b[0m193.7    \u001b[0m | \u001b[0m63.37    \u001b[0m | \u001b[0m0.06954  \u001b[0m |\n",
            "Evaluando con arquitectura (179), Evaluando con arquitectura (18), con lr 0.0048664235400553545 y batch_size 2635.  El accuracy de train/val son 0.862/0.909, el loss train/val son 0.0005/-0.0005, tiempo: 1684078301.04 segundos\n",
            "| \u001b[0m17       \u001b[0m | \u001b[0m-0.000487\u001b[0m | \u001b[0m2.635e+03\u001b[0m | \u001b[0m179.0    \u001b[0m | \u001b[0m17.92    \u001b[0m | \u001b[0m0.004866 \u001b[0m |\n",
            "Evaluando con arquitectura (176), Evaluando con arquitectura (21), con lr 0.042689654875500166 y batch_size 551.  El accuracy de train/val son 0.858/0.885, el loss train/val son 0.0023/-0.0023, tiempo: 1684078300.06 segundos\n",
            "| \u001b[0m18       \u001b[0m | \u001b[0m-0.002346\u001b[0m | \u001b[0m551.0    \u001b[0m | \u001b[0m175.8    \u001b[0m | \u001b[0m20.57    \u001b[0m | \u001b[0m0.04269  \u001b[0m |\n",
            "Evaluando con arquitectura (107), Evaluando con arquitectura (139), con lr 0.03223604746960023 y batch_size 2876.  El accuracy de train/val son 0.881/0.876, el loss train/val son 0.0004/-0.0005, tiempo: 1684078297.77 segundos\n",
            "| \u001b[0m19       \u001b[0m | \u001b[0m-0.000450\u001b[0m | \u001b[0m2.876e+03\u001b[0m | \u001b[0m107.1    \u001b[0m | \u001b[0m138.7    \u001b[0m | \u001b[0m0.03224  \u001b[0m |\n",
            "Evaluando con arquitectura (167), Evaluando con arquitectura (5), con lr 0.07526428717955179 y batch_size 2075.  El accuracy de train/val son 0.834/0.854, el loss train/val son 0.0006/-0.0006, tiempo: 1684078297.44 segundos\n",
            "| \u001b[0m20       \u001b[0m | \u001b[0m-0.000614\u001b[0m | \u001b[0m2.075e+03\u001b[0m | \u001b[0m167.1    \u001b[0m | \u001b[0m4.639    \u001b[0m | \u001b[0m0.07526  \u001b[0m |\n",
            "Evaluando con arquitectura (150), Evaluando con arquitectura (57), con lr 0.07913865351669737 y batch_size 2967.  El accuracy de train/val son 0.838/0.877, el loss train/val son 0.0004/-0.0004, tiempo: 1684078299.53 segundos\n",
            "| \u001b[0m21       \u001b[0m | \u001b[0m-0.000434\u001b[0m | \u001b[0m2.967e+03\u001b[0m | \u001b[0m149.9    \u001b[0m | \u001b[0m56.81    \u001b[0m | \u001b[0m0.07914  \u001b[0m |\n",
            "Evaluando con arquitectura (90), Evaluando con arquitectura (182), con lr 0.030067800688994274 y batch_size 355.  El accuracy de train/val son 0.932/0.935, el loss train/val son 0.0037/-0.0037, tiempo: 1684078305.95 segundos\n",
            "| \u001b[0m22       \u001b[0m | \u001b[0m-0.003735\u001b[0m | \u001b[0m354.5    \u001b[0m | \u001b[0m90.13    \u001b[0m | \u001b[0m181.8    \u001b[0m | \u001b[0m0.03007  \u001b[0m |\n",
            "Evaluando con arquitectura (27), Evaluando con arquitectura (5), con lr 0.06820471776104921 y batch_size 899.  El accuracy de train/val son 0.860/0.874, el loss train/val son 0.0014/-0.0014, tiempo: 1684078294.44 segundos\n",
            "| \u001b[0m23       \u001b[0m | \u001b[0m-0.001418\u001b[0m | \u001b[0m898.9    \u001b[0m | \u001b[0m26.88    \u001b[0m | \u001b[0m4.854    \u001b[0m | \u001b[0m0.0682   \u001b[0m |\n",
            "Evaluando con arquitectura (54), Evaluando con arquitectura (99), con lr 0.006282891966590958 y batch_size 674.  El accuracy de train/val son 0.849/0.938, el loss train/val son 0.0019/-0.0019, tiempo: 1684078298.67 segundos\n",
            "| \u001b[0m24       \u001b[0m | \u001b[0m-0.001887\u001b[0m | \u001b[0m674.3    \u001b[0m | \u001b[0m53.84    \u001b[0m | \u001b[0m98.82    \u001b[0m | \u001b[0m0.006283 \u001b[0m |\n",
            "Evaluando con arquitectura (30), Evaluando con arquitectura (118), con lr 0.0702760776420722 y batch_size 1744.  El accuracy de train/val son 0.874/0.902, el loss train/val son 0.0007/-0.0007, tiempo: 1684078296.62 segundos\n",
            "| \u001b[0m25       \u001b[0m | \u001b[0m-0.000740\u001b[0m | \u001b[0m1.744e+03\u001b[0m | \u001b[0m30.2     \u001b[0m | \u001b[0m118.3    \u001b[0m | \u001b[0m0.07028  \u001b[0m |\n",
            "Evaluando con arquitectura (83), Evaluando con arquitectura (139), con lr 0.04200374768316337 y batch_size 352.  El accuracy de train/val son 0.943/0.938, el loss train/val son 0.0037/-0.0038, tiempo: 1684078306.50 segundos\n",
            "| \u001b[0m26       \u001b[0m | \u001b[0m-0.003766\u001b[0m | \u001b[0m351.9    \u001b[0m | \u001b[0m83.4     \u001b[0m | \u001b[0m139.2    \u001b[0m | \u001b[0m0.042    \u001b[0m |\n",
            "Evaluando con arquitectura (108), Evaluando con arquitectura (133), con lr 0.051974022093772554 y batch_size 197.  El accuracy de train/val son 0.864/0.979, el loss train/val son 0.0067/-0.0067, tiempo: 1684078322.73 segundos\n",
            "| \u001b[0m27       \u001b[0m | \u001b[0m-0.006725\u001b[0m | \u001b[0m197.4    \u001b[0m | \u001b[0m107.6    \u001b[0m | \u001b[0m133.1    \u001b[0m | \u001b[0m0.05197  \u001b[0m |\n",
            "Evaluando con arquitectura (118), Evaluando con arquitectura (181), con lr 0.014609995710477514 y batch_size 2837.  El accuracy de train/val son 0.750/0.859, el loss train/val son 0.0005/-0.0004, tiempo: 1684078299.27 segundos\n",
            "| \u001b[0m28       \u001b[0m | \u001b[0m-0.000447\u001b[0m | \u001b[0m2.837e+03\u001b[0m | \u001b[0m117.7    \u001b[0m | \u001b[0m180.8    \u001b[0m | \u001b[0m0.01461  \u001b[0m |\n",
            "Evaluando con arquitectura (162), Evaluando con arquitectura (80), con lr 0.017370065514576347 y batch_size 461.  El accuracy de train/val son 0.858/0.893, el loss train/val son 0.0028/-0.0028, tiempo: 1684078302.14 segundos\n",
            "| \u001b[0m29       \u001b[0m | \u001b[0m-0.002765\u001b[0m | \u001b[0m460.9    \u001b[0m | \u001b[0m161.7    \u001b[0m | \u001b[0m80.14    \u001b[0m | \u001b[0m0.01737  \u001b[0m |\n",
            "Evaluando con arquitectura (70), Evaluando con arquitectura (150), con lr 0.0728738005496947 y batch_size 2786.  El accuracy de train/val son 0.888/0.913, el loss train/val son 0.0005/-0.0005, tiempo: 1684078299.62 segundos\n",
            "| \u001b[0m30       \u001b[0m | \u001b[0m-0.000464\u001b[0m | \u001b[0m2.786e+03\u001b[0m | \u001b[0m70.21    \u001b[0m | \u001b[0m150.4    \u001b[0m | \u001b[0m0.07287  \u001b[0m |\n",
            "Evaluando con arquitectura (125), Evaluando con arquitectura (150), con lr 0.035540935855806415 y batch_size 2656.  El accuracy de train/val son 0.844/0.836, el loss train/val son 0.0005/-0.0005, tiempo: 1684078300.21 segundos\n",
            "| \u001b[0m31       \u001b[0m | \u001b[0m-0.000480\u001b[0m | \u001b[0m2.656e+03\u001b[0m | \u001b[0m125.1    \u001b[0m | \u001b[0m150.4    \u001b[0m | \u001b[0m0.03554  \u001b[0m |\n",
            "Evaluando con arquitectura (179), Evaluando con arquitectura (86), con lr 0.09651916466769017 y batch_size 846.  El accuracy de train/val son 0.941/0.954, el loss train/val son 0.0015/-0.0016, tiempo: 1684078296.53 segundos\n",
            "| \u001b[0m32       \u001b[0m | \u001b[0m-0.001563\u001b[0m | \u001b[0m846.3    \u001b[0m | \u001b[0m179.3    \u001b[0m | \u001b[0m86.19    \u001b[0m | \u001b[0m0.09652  \u001b[0m |\n",
            "Evaluando con arquitectura (125), Evaluando con arquitectura (24), con lr 0.09499943661200005 y batch_size 2007.  El accuracy de train/val son 0.814/0.851, el loss train/val son 0.0006/-0.0006, tiempo: 1684078297.24 segundos\n",
            "| \u001b[0m33       \u001b[0m | \u001b[0m-0.000636\u001b[0m | \u001b[0m2.007e+03\u001b[0m | \u001b[0m124.7    \u001b[0m | \u001b[0m23.83    \u001b[0m | \u001b[0m0.095    \u001b[0m |\n",
            "Evaluando con arquitectura (116), Evaluando con arquitectura (82), con lr 0.024465671044059743 y batch_size 1377.  El accuracy de train/val son 0.847/0.868, el loss train/val son 0.0009/-0.0009, tiempo: 1684078294.38 segundos\n",
            "| \u001b[0m34       \u001b[0m | \u001b[0m-0.000927\u001b[0m | \u001b[0m1.377e+03\u001b[0m | \u001b[0m116.1    \u001b[0m | \u001b[0m82.22    \u001b[0m | \u001b[0m0.02447  \u001b[0m |\n",
            "Evaluando con arquitectura (115), Evaluando con arquitectura (2), con lr 0.06209734644845167 y batch_size 2715.  El accuracy de train/val son 0.869/0.862, el loss train/val son 0.0005/-0.0005, tiempo: 1684078298.20 segundos\n",
            "| \u001b[0m35       \u001b[0m | \u001b[0m-0.000467\u001b[0m | \u001b[0m2.715e+03\u001b[0m | \u001b[0m115.2    \u001b[0m | \u001b[0m1.571    \u001b[0m | \u001b[0m0.0621   \u001b[0m |\n",
            "Evaluando con arquitectura (106), Evaluando con arquitectura (177), con lr 0.036369706240247476 y batch_size 1014.  El accuracy de train/val son 0.877/0.907, el loss train/val son 0.0013/-0.0013, tiempo: 1684078297.20 segundos\n",
            "| \u001b[0m36       \u001b[0m | \u001b[0m-0.001271\u001b[0m | \u001b[0m1.014e+03\u001b[0m | \u001b[0m105.9    \u001b[0m | \u001b[0m177.3    \u001b[0m | \u001b[0m0.03637  \u001b[0m |\n",
            "Evaluando con arquitectura (125), Evaluando con arquitectura (4), con lr 0.09301428614063237 y batch_size 2730.  El accuracy de train/val son 0.919/0.902, el loss train/val son 0.0005/-0.0005, tiempo: 1684078298.20 segundos\n",
            "| \u001b[0m37       \u001b[0m | \u001b[0m-0.000469\u001b[0m | \u001b[0m2.73e+03 \u001b[0m | \u001b[0m125.0    \u001b[0m | \u001b[0m4.148    \u001b[0m | \u001b[0m0.09301  \u001b[0m |\n",
            "Evaluando con arquitectura (199), Evaluando con arquitectura (35), con lr 0.0145764392132589 y batch_size 2088.  El accuracy de train/val son 0.861/0.891, el loss train/val son 0.0006/-0.0006, tiempo: 1684078297.58 segundos\n",
            "| \u001b[0m38       \u001b[0m | \u001b[0m-0.000612\u001b[0m | \u001b[0m2.088e+03\u001b[0m | \u001b[0m199.5    \u001b[0m | \u001b[0m35.3     \u001b[0m | \u001b[0m0.01458  \u001b[0m |\n",
            "Evaluando con arquitectura (140), Evaluando con arquitectura (14), con lr 0.07579084220764418 y batch_size 2801.  El accuracy de train/val son 0.841/0.884, el loss train/val son 0.0005/-0.0005, tiempo: 1684078298.25 segundos\n",
            "| \u001b[0m39       \u001b[0m | \u001b[0m-0.000458\u001b[0m | \u001b[0m2.801e+03\u001b[0m | \u001b[0m139.7    \u001b[0m | \u001b[0m14.13    \u001b[0m | \u001b[0m0.07579  \u001b[0m |\n",
            "Evaluando con arquitectura (185), Evaluando con arquitectura (143), con lr 0.013302825235244304 y batch_size 2274.  El accuracy de train/val son 0.852/0.887, el loss train/val son 0.0006/-0.0006, tiempo: 1684078297.75 segundos\n",
            "| \u001b[0m40       \u001b[0m | \u001b[0m-0.000564\u001b[0m | \u001b[0m2.274e+03\u001b[0m | \u001b[0m184.7    \u001b[0m | \u001b[0m142.6    \u001b[0m | \u001b[0m0.0133   \u001b[0m |\n",
            "Evaluando con arquitectura (6), Evaluando con arquitectura (7), con lr 0.025374895692701547 y batch_size 109.  El accuracy de train/val son 0.735/0.831, el loss train/val son 0.0117/-0.0117, tiempo: 1684078354.17 segundos\n",
            "| \u001b[0m41       \u001b[0m | \u001b[0m-0.01172 \u001b[0m | \u001b[0m108.6    \u001b[0m | \u001b[0m6.216    \u001b[0m | \u001b[0m6.633    \u001b[0m | \u001b[0m0.02537  \u001b[0m |\n",
            "Evaluando con arquitectura (108), Evaluando con arquitectura (111), con lr 0.08436105834360097 y batch_size 2587.  El accuracy de train/val son 0.813/0.804, el loss train/val son 0.0005/-0.0005, tiempo: 1684078296.86 segundos\n",
            "| \u001b[0m42       \u001b[0m | \u001b[0m-0.000504\u001b[0m | \u001b[0m2.587e+03\u001b[0m | \u001b[0m108.2    \u001b[0m | \u001b[0m111.0    \u001b[0m | \u001b[0m0.08436  \u001b[0m |\n",
            "Evaluando con arquitectura (57), Evaluando con arquitectura (118), con lr 0.09698997908364779 y batch_size 416.  El accuracy de train/val son 0.949/0.960, el loss train/val son 0.0032/-0.0032, tiempo: 1684078306.51 segundos\n",
            "| \u001b[0m43       \u001b[0m | \u001b[0m-0.003185\u001b[0m | \u001b[0m416.3    \u001b[0m | \u001b[0m56.56    \u001b[0m | \u001b[0m117.6    \u001b[0m | \u001b[0m0.09699  \u001b[0m |\n",
            "Evaluando con arquitectura (5), Evaluando con arquitectura (160), con lr 0.024064453110261026 y batch_size 1705.  El accuracy de train/val son 0.826/0.826, el loss train/val son 0.0008/-0.0008, tiempo: 1684078297.11 segundos\n",
            "| \u001b[0m44       \u001b[0m | \u001b[0m-0.000755\u001b[0m | \u001b[0m1.705e+03\u001b[0m | \u001b[0m4.711    \u001b[0m | \u001b[0m160.3    \u001b[0m | \u001b[0m0.02406  \u001b[0m |\n",
            "Evaluando con arquitectura (78), Evaluando con arquitectura (173), con lr 0.07496504263098128 y batch_size 2431.  El accuracy de train/val son 0.871/0.889, el loss train/val son 0.0005/-0.0005, tiempo: 1684078300.27 segundos\n",
            "| \u001b[0m45       \u001b[0m | \u001b[0m-0.000533\u001b[0m | \u001b[0m2.431e+03\u001b[0m | \u001b[0m78.18    \u001b[0m | \u001b[0m172.8    \u001b[0m | \u001b[0m0.07497  \u001b[0m |\n",
            "Evaluando con arquitectura (28), Evaluando con arquitectura (13), con lr 0.013013002118332999 y batch_size 1691.  El accuracy de train/val son 0.826/0.860, el loss train/val son 0.0008/-0.0007, tiempo: 1684078299.11 segundos\n",
            "| \u001b[0m46       \u001b[0m | \u001b[0m-0.000748\u001b[0m | \u001b[0m1.691e+03\u001b[0m | \u001b[0m28.15    \u001b[0m | \u001b[0m12.92    \u001b[0m | \u001b[0m0.01301  \u001b[0m |\n",
            "Evaluando con arquitectura (22), Evaluando con arquitectura (46), con lr 0.07158590905788499 y batch_size 181.  El accuracy de train/val son 0.952/0.929, el loss train/val son 0.0073/-0.0073, tiempo: 1684078324.60 segundos\n",
            "| \u001b[0m47       \u001b[0m | \u001b[0m-0.007317\u001b[0m | \u001b[0m181.4    \u001b[0m | \u001b[0m22.39    \u001b[0m | \u001b[0m45.92    \u001b[0m | \u001b[0m0.07159  \u001b[0m |\n",
            "Evaluando con arquitectura (3), Evaluando con arquitectura (15), con lr 0.09676035667002694 y batch_size 1701.  El accuracy de train/val son 0.905/0.943, el loss train/val son 0.0008/-0.0008, tiempo: 1684078296.98 segundos\n",
            "| \u001b[0m48       \u001b[0m | \u001b[0m-0.000784\u001b[0m | \u001b[0m1.701e+03\u001b[0m | \u001b[0m3.499    \u001b[0m | \u001b[0m15.32    \u001b[0m | \u001b[0m0.09676  \u001b[0m |\n",
            "Evaluando con arquitectura (41), Evaluando con arquitectura (51), con lr 0.0746387595534342 y batch_size 1726.  El accuracy de train/val son 0.848/0.839, el loss train/val son 0.0007/-0.0007, tiempo: 1684078295.26 segundos\n",
            "| \u001b[0m49       \u001b[0m | \u001b[0m-0.000744\u001b[0m | \u001b[0m1.726e+03\u001b[0m | \u001b[0m41.46    \u001b[0m | \u001b[0m51.21    \u001b[0m | \u001b[0m0.07464  \u001b[0m |\n",
            "Evaluando con arquitectura (117), Evaluando con arquitectura (194), con lr 0.0848360513475135 y batch_size 627.  El accuracy de train/val son 0.954/0.957, el loss train/val son 0.0021/-0.0021, tiempo: 1684078299.24 segundos\n",
            "| \u001b[0m50       \u001b[0m | \u001b[0m-0.002117\u001b[0m | \u001b[0m626.5    \u001b[0m | \u001b[0m116.7    \u001b[0m | \u001b[0m194.0    \u001b[0m | \u001b[0m0.08484  \u001b[0m |\n",
            "Evaluando con arquitectura (99), Evaluando con arquitectura (124), con lr 0.0830691090554677 y batch_size 758.  El accuracy de train/val son 0.965/0.958, el loss train/val son 0.0017/-0.0018, tiempo: 1684078298.49 segundos\n",
            "| \u001b[0m51       \u001b[0m | \u001b[0m-0.00175 \u001b[0m | \u001b[0m757.6    \u001b[0m | \u001b[0m99.26    \u001b[0m | \u001b[0m124.4    \u001b[0m | \u001b[0m0.08307  \u001b[0m |\n",
            "Evaluando con arquitectura (5), Evaluando con arquitectura (15), con lr 0.049148165982766154 y batch_size 513.  El accuracy de train/val son 0.844/0.868, el loss train/val son 0.0025/-0.0025, tiempo: 1684078300.76 segundos\n",
            "| \u001b[0m52       \u001b[0m | \u001b[0m-0.002487\u001b[0m | \u001b[0m512.5    \u001b[0m | \u001b[0m4.697    \u001b[0m | \u001b[0m14.93    \u001b[0m | \u001b[0m0.04915  \u001b[0m |\n",
            "Evaluando con arquitectura (114), Evaluando con arquitectura (64), con lr 0.09887299928683245 y batch_size 1839.  El accuracy de train/val son 0.829/0.845, el loss train/val son 0.0007/-0.0007, tiempo: 1684078295.41 segundos\n",
            "| \u001b[0m53       \u001b[0m | \u001b[0m-0.000702\u001b[0m | \u001b[0m1.839e+03\u001b[0m | \u001b[0m114.2    \u001b[0m | \u001b[0m64.16    \u001b[0m | \u001b[0m0.09887  \u001b[0m |\n",
            "Evaluando con arquitectura (77), Evaluando con arquitectura (111), con lr 0.07478810865974371 y batch_size 1760.  El accuracy de train/val son 0.906/0.930, el loss train/val son 0.0007/-0.0007, tiempo: 1684078295.74 segundos\n",
            "| \u001b[0m54       \u001b[0m | \u001b[0m-0.000737\u001b[0m | \u001b[0m1.76e+03 \u001b[0m | \u001b[0m76.65    \u001b[0m | \u001b[0m110.6    \u001b[0m | \u001b[0m0.07479  \u001b[0m |\n",
            "Evaluando con arquitectura (54), Evaluando con arquitectura (14), con lr 0.037638335593496525 y batch_size 2024.  El accuracy de train/val son 0.856/0.862, el loss train/val son 0.0006/-0.0006, tiempo: 1684078296.65 segundos\n",
            "| \u001b[0m55       \u001b[0m | \u001b[0m-0.000633\u001b[0m | \u001b[0m2.024e+03\u001b[0m | \u001b[0m53.72    \u001b[0m | \u001b[0m14.2     \u001b[0m | \u001b[0m0.03764  \u001b[0m |\n",
            "Evaluando con arquitectura (43), Evaluando con arquitectura (151), con lr 0.007587111654057379 y batch_size 1908.  El accuracy de train/val son 0.850/0.846, el loss train/val son 0.0007/-0.0007, tiempo: 1684078297.46 segundos\n",
            "| \u001b[0m56       \u001b[0m | \u001b[0m-0.000672\u001b[0m | \u001b[0m1.908e+03\u001b[0m | \u001b[0m42.82    \u001b[0m | \u001b[0m150.8    \u001b[0m | \u001b[0m0.007587 \u001b[0m |\n",
            "Evaluando con arquitectura (161), Evaluando con arquitectura (39), con lr 0.06430662720711408 y batch_size 818.  El accuracy de train/val son 0.876/0.808, el loss train/val son 0.0016/-0.0016, tiempo: 1684078297.00 segundos\n",
            "| \u001b[0m57       \u001b[0m | \u001b[0m-0.001575\u001b[0m | \u001b[0m817.9    \u001b[0m | \u001b[0m161.1    \u001b[0m | \u001b[0m39.49    \u001b[0m | \u001b[0m0.06431  \u001b[0m |\n",
            "Evaluando con arquitectura (185), Evaluando con arquitectura (53), con lr 0.007530147977718355 y batch_size 1598.  El accuracy de train/val son 0.867/0.880, el loss train/val son 0.0008/-0.0008, tiempo: 1684078295.97 segundos\n",
            "| \u001b[0m58       \u001b[0m | \u001b[0m-0.000796\u001b[0m | \u001b[0m1.598e+03\u001b[0m | \u001b[0m185.0    \u001b[0m | \u001b[0m53.4     \u001b[0m | \u001b[0m0.00753  \u001b[0m |\n",
            "Evaluando con arquitectura (155), Evaluando con arquitectura (182), con lr 0.09326523485048689 y batch_size 2218.  El accuracy de train/val son 0.953/0.946, el loss train/val son 0.0006/-0.0006, tiempo: 1684078295.53 segundos\n",
            "| \u001b[0m59       \u001b[0m | \u001b[0m-0.000600\u001b[0m | \u001b[0m2.218e+03\u001b[0m | \u001b[0m154.7    \u001b[0m | \u001b[0m181.7    \u001b[0m | \u001b[0m0.09327  \u001b[0m |\n",
            "Evaluando con arquitectura (48), Evaluando con arquitectura (124), con lr 0.09495261574807404 y batch_size 91.  El accuracy de train/val son 0.957/0.947, el loss train/val son 0.0145/-0.0146, tiempo: 1684078368.52 segundos\n",
            "| \u001b[0m60       \u001b[0m | \u001b[0m-0.01455 \u001b[0m | \u001b[0m91.16    \u001b[0m | \u001b[0m47.64    \u001b[0m | \u001b[0m123.7    \u001b[0m | \u001b[0m0.09495  \u001b[0m |\n",
            "Evaluando con arquitectura (112), Evaluando con arquitectura (183), con lr 0.06451505468568743 y batch_size 2853.  El accuracy de train/val son 0.851/0.885, el loss train/val son 0.0005/-0.0005, tiempo: 1684078298.89 segundos\n",
            "| \u001b[0m61       \u001b[0m | \u001b[0m-0.000451\u001b[0m | \u001b[0m2.853e+03\u001b[0m | \u001b[0m111.8    \u001b[0m | \u001b[0m183.2    \u001b[0m | \u001b[0m0.06452  \u001b[0m |\n",
            "Evaluando con arquitectura (98), Evaluando con arquitectura (121), con lr 0.0554052442293477 y batch_size 1201.  El accuracy de train/val son 0.898/0.919, el loss train/val son 0.0011/-0.0011, tiempo: 1684078295.35 segundos\n",
            "| \u001b[0m62       \u001b[0m | \u001b[0m-0.001088\u001b[0m | \u001b[0m1.201e+03\u001b[0m | \u001b[0m97.71    \u001b[0m | \u001b[0m121.3    \u001b[0m | \u001b[0m0.05541  \u001b[0m |\n",
            "Evaluando con arquitectura (184), Evaluando con arquitectura (80), con lr 0.09636299031563048 y batch_size 2782.  El accuracy de train/val son 0.889/0.912, el loss train/val son 0.0005/-0.0005, tiempo: 1684078299.81 segundos\n",
            "| \u001b[0m63       \u001b[0m | \u001b[0m-0.000463\u001b[0m | \u001b[0m2.782e+03\u001b[0m | \u001b[0m183.8    \u001b[0m | \u001b[0m79.58    \u001b[0m | \u001b[0m0.09636  \u001b[0m |\n",
            "Evaluando con arquitectura (26), Evaluando con arquitectura (28), con lr 0.05106055440201278 y batch_size 563.  El accuracy de train/val son 0.824/0.820, el loss train/val son 0.0023/-0.0023, tiempo: 1684078299.36 segundos\n",
            "| \u001b[0m64       \u001b[0m | \u001b[0m-0.002276\u001b[0m | \u001b[0m563.2    \u001b[0m | \u001b[0m26.14    \u001b[0m | \u001b[0m27.88    \u001b[0m | \u001b[0m0.05106  \u001b[0m |\n",
            "Evaluando con arquitectura (190), Evaluando con arquitectura (166), con lr 0.0024868790934701153 y batch_size 113.  El accuracy de train/val son 0.790/0.725, el loss train/val son 0.0112/-0.0112, tiempo: 1684078353.17 segundos\n",
            "| \u001b[0m65       \u001b[0m | \u001b[0m-0.01124 \u001b[0m | \u001b[0m113.5    \u001b[0m | \u001b[0m189.6    \u001b[0m | \u001b[0m165.6    \u001b[0m | \u001b[0m0.002487 \u001b[0m |\n",
            "Evaluando con arquitectura (67), Evaluando con arquitectura (27), con lr 0.08113957852053164 y batch_size 570.  El accuracy de train/val son 0.891/0.831, el loss train/val son 0.0023/-0.0023, tiempo: 1684078298.76 segundos\n",
            "| \u001b[0m66       \u001b[0m | \u001b[0m-0.002267\u001b[0m | \u001b[0m569.8    \u001b[0m | \u001b[0m67.08    \u001b[0m | \u001b[0m27.07    \u001b[0m | \u001b[0m0.08114  \u001b[0m |\n",
            "Evaluando con arquitectura (188), Evaluando con arquitectura (117), con lr 0.08800436645677256 y batch_size 1067.  El accuracy de train/val son 0.954/0.965, el loss train/val son 0.0012/-0.0012, tiempo: 1684078297.49 segundos\n",
            "| \u001b[0m67       \u001b[0m | \u001b[0m-0.001237\u001b[0m | \u001b[0m1.067e+03\u001b[0m | \u001b[0m188.1    \u001b[0m | \u001b[0m116.8    \u001b[0m | \u001b[0m0.088    \u001b[0m |\n",
            "Evaluando con arquitectura (181), Evaluando con arquitectura (93), con lr 0.055088334786016956 y batch_size 2542.  El accuracy de train/val son 0.902/0.879, el loss train/val son 0.0005/-0.0005, tiempo: 1684078296.47 segundos\n",
            "| \u001b[0m68       \u001b[0m | \u001b[0m-0.000511\u001b[0m | \u001b[0m2.542e+03\u001b[0m | \u001b[0m181.2    \u001b[0m | \u001b[0m92.52    \u001b[0m | \u001b[0m0.05509  \u001b[0m |\n",
            "Evaluando con arquitectura (58), Evaluando con arquitectura (99), con lr 0.06031192045694196 y batch_size 2406.  El accuracy de train/val son 0.826/0.811, el loss train/val son 0.0005/-0.0005, tiempo: 1684078297.42 segundos\n",
            "| \u001b[0m69       \u001b[0m | \u001b[0m-0.000541\u001b[0m | \u001b[0m2.406e+03\u001b[0m | \u001b[0m57.86    \u001b[0m | \u001b[0m98.56    \u001b[0m | \u001b[0m0.06031  \u001b[0m |\n",
            "Evaluando con arquitectura (119), Evaluando con arquitectura (87), con lr 0.0809286923595993 y batch_size 96.  El accuracy de train/val son 0.979/0.882, el loss train/val son 0.0137/-0.0138, tiempo: 1684078363.82 segundos\n",
            "| \u001b[0m70       \u001b[0m | \u001b[0m-0.0138  \u001b[0m | \u001b[0m95.82    \u001b[0m | \u001b[0m119.1    \u001b[0m | \u001b[0m87.3     \u001b[0m | \u001b[0m0.08093  \u001b[0m |\n",
            "Evaluando con arquitectura (179), Evaluando con arquitectura (116), con lr 0.019217009961119042 y batch_size 980.  El accuracy de train/val son 0.842/0.851, el loss train/val son 0.0013/-0.0013, tiempo: 1684078297.12 segundos\n",
            "| \u001b[0m71       \u001b[0m | \u001b[0m-0.001299\u001b[0m | \u001b[0m980.0    \u001b[0m | \u001b[0m178.7    \u001b[0m | \u001b[0m116.0    \u001b[0m | \u001b[0m0.01922  \u001b[0m |\n",
            "Evaluando con arquitectura (123), Evaluando con arquitectura (12), con lr 0.04259917432011209 y batch_size 2374.  El accuracy de train/val son 0.863/0.878, el loss train/val son 0.0005/-0.0005, tiempo: 1684078297.35 segundos\n",
            "| \u001b[0m72       \u001b[0m | \u001b[0m-0.000535\u001b[0m | \u001b[0m2.374e+03\u001b[0m | \u001b[0m122.8    \u001b[0m | \u001b[0m11.73    \u001b[0m | \u001b[0m0.0426   \u001b[0m |\n",
            "Evaluando con arquitectura (184), Evaluando con arquitectura (1), con lr 0.09769915575407491 y batch_size 2053.  El accuracy de train/val son 0.881/0.863, el loss train/val son 0.0006/-0.0006, tiempo: 1684078295.53 segundos\n",
            "| \u001b[0m73       \u001b[0m | \u001b[0m-0.000624\u001b[0m | \u001b[0m2.053e+03\u001b[0m | \u001b[0m183.8    \u001b[0m | \u001b[0m1.08     \u001b[0m | \u001b[0m0.0977   \u001b[0m |\n",
            "Evaluando con arquitectura (195), Evaluando con arquitectura (121), con lr 0.08305573499008861 y batch_size 1161.  El accuracy de train/val son 0.919/0.915, el loss train/val son 0.0011/-0.0011, tiempo: 1684078296.46 segundos\n",
            "| \u001b[0m74       \u001b[0m | \u001b[0m-0.001125\u001b[0m | \u001b[0m1.161e+03\u001b[0m | \u001b[0m194.8    \u001b[0m | \u001b[0m121.3    \u001b[0m | \u001b[0m0.08306  \u001b[0m |\n",
            "Evaluando con arquitectura (126), Evaluando con arquitectura (58), con lr 0.05909650072495221 y batch_size 1745.  El accuracy de train/val son 0.826/0.833, el loss train/val son 0.0007/-0.0007, tiempo: 1684078295.28 segundos\n",
            "| \u001b[0m75       \u001b[0m | \u001b[0m-0.000734\u001b[0m | \u001b[0m1.745e+03\u001b[0m | \u001b[0m126.0    \u001b[0m | \u001b[0m57.83    \u001b[0m | \u001b[0m0.0591   \u001b[0m |\n",
            "Evaluando con arquitectura (172), Evaluando con arquitectura (151), con lr 0.070107667596283 y batch_size 2263.  El accuracy de train/val son 0.894/0.890, el loss train/val son 0.0006/-0.0006, tiempo: 1684078298.20 segundos\n",
            "| \u001b[0m76       \u001b[0m | \u001b[0m-0.000573\u001b[0m | \u001b[0m2.263e+03\u001b[0m | \u001b[0m171.8    \u001b[0m | \u001b[0m151.3    \u001b[0m | \u001b[0m0.07011  \u001b[0m |\n",
            "Evaluando con arquitectura (65), Evaluando con arquitectura (134), con lr 0.04563651970492157 y batch_size 2600.  El accuracy de train/val son 0.869/0.904, el loss train/val son 0.0005/-0.0005, tiempo: 1684078298.55 segundos\n",
            "| \u001b[0m77       \u001b[0m | \u001b[0m-0.000501\u001b[0m | \u001b[0m2.6e+03  \u001b[0m | \u001b[0m65.21    \u001b[0m | \u001b[0m134.5    \u001b[0m | \u001b[0m0.04564  \u001b[0m |\n",
            "Evaluando con arquitectura (83), Evaluando con arquitectura (81), con lr 0.032421010649869415 y batch_size 1177.  El accuracy de train/val son 0.858/0.860, el loss train/val son 0.0011/-0.0011, tiempo: 1684078296.37 segundos\n",
            "| \u001b[0m78       \u001b[0m | \u001b[0m-0.001086\u001b[0m | \u001b[0m1.177e+03\u001b[0m | \u001b[0m82.75    \u001b[0m | \u001b[0m80.89    \u001b[0m | \u001b[0m0.03242  \u001b[0m |\n",
            "Evaluando con arquitectura (87), Evaluando con arquitectura (195), con lr 0.06810228825199681 y batch_size 1885.  El accuracy de train/val son 0.912/0.918, el loss train/val son 0.0007/-0.0007, tiempo: 1684078296.38 segundos\n",
            "| \u001b[0m79       \u001b[0m | \u001b[0m-0.000702\u001b[0m | \u001b[0m1.885e+03\u001b[0m | \u001b[0m86.62    \u001b[0m | \u001b[0m194.8    \u001b[0m | \u001b[0m0.0681   \u001b[0m |\n",
            "Evaluando con arquitectura (86), Evaluando con arquitectura (69), con lr 0.0799662415918981 y batch_size 636.  El accuracy de train/val son 0.969/0.957, el loss train/val son 0.0021/-0.0021, tiempo: 1684078298.07 segundos\n",
            "| \u001b[0m80       \u001b[0m | \u001b[0m-0.002086\u001b[0m | \u001b[0m635.8    \u001b[0m | \u001b[0m85.91    \u001b[0m | \u001b[0m69.33    \u001b[0m | \u001b[0m0.07997  \u001b[0m |\n",
            "Evaluando con arquitectura (181), Evaluando con arquitectura (133), con lr 0.027750617940946024 y batch_size 2646.  El accuracy de train/val son 0.883/0.904, el loss train/val son 0.0005/-0.0005, tiempo: 1684078299.43 segundos\n",
            "| \u001b[0m81       \u001b[0m | \u001b[0m-0.000488\u001b[0m | \u001b[0m2.646e+03\u001b[0m | \u001b[0m180.9    \u001b[0m | \u001b[0m132.9    \u001b[0m | \u001b[0m0.02775  \u001b[0m |\n",
            "Evaluando con arquitectura (171), Evaluando con arquitectura (106), con lr 0.08041394731645521 y batch_size 794.  El accuracy de train/val son 0.966/0.951, el loss train/val son 0.0017/-0.0017, tiempo: 1684078298.48 segundos\n",
            "| \u001b[0m82       \u001b[0m | \u001b[0m-0.001669\u001b[0m | \u001b[0m794.5    \u001b[0m | \u001b[0m171.1    \u001b[0m | \u001b[0m106.0    \u001b[0m | \u001b[0m0.08041  \u001b[0m |\n",
            "Evaluando con arquitectura (147), Evaluando con arquitectura (104), con lr 0.07731750713968691 y batch_size 1739.  El accuracy de train/val son 0.957/0.952, el loss train/val son 0.0008/-0.0008, tiempo: 1684078295.84 segundos\n",
            "| \u001b[0m83       \u001b[0m | \u001b[0m-0.000762\u001b[0m | \u001b[0m1.739e+03\u001b[0m | \u001b[0m146.9    \u001b[0m | \u001b[0m104.3    \u001b[0m | \u001b[0m0.07732  \u001b[0m |\n",
            "Evaluando con arquitectura (94), Evaluando con arquitectura (69), con lr 0.007752725493253708 y batch_size 1728.  El accuracy de train/val son 0.875/0.877, el loss train/val son 0.0007/-0.0007, tiempo: 1684078296.92 segundos\n",
            "| \u001b[0m84       \u001b[0m | \u001b[0m-0.000740\u001b[0m | \u001b[0m1.728e+03\u001b[0m | \u001b[0m93.68    \u001b[0m | \u001b[0m69.2     \u001b[0m | \u001b[0m0.007753 \u001b[0m |\n",
            "Evaluando con arquitectura (17), Evaluando con arquitectura (197), con lr 0.018979672281745616 y batch_size 1165.  El accuracy de train/val son 0.841/0.845, el loss train/val son 0.0011/-0.0011, tiempo: 1684078296.13 segundos\n",
            "| \u001b[0m85       \u001b[0m | \u001b[0m-0.001096\u001b[0m | \u001b[0m1.165e+03\u001b[0m | \u001b[0m16.85    \u001b[0m | \u001b[0m196.6    \u001b[0m | \u001b[0m0.01898  \u001b[0m |\n",
            "Evaluando con arquitectura (175), Evaluando con arquitectura (138), con lr 0.0573799468617922 y batch_size 2445.  El accuracy de train/val son 0.838/0.841, el loss train/val son 0.0005/-0.0005, tiempo: 1684078298.81 segundos\n",
            "| \u001b[0m86       \u001b[0m | \u001b[0m-0.000531\u001b[0m | \u001b[0m2.445e+03\u001b[0m | \u001b[0m175.1    \u001b[0m | \u001b[0m138.0    \u001b[0m | \u001b[0m0.05738  \u001b[0m |\n",
            "Evaluando con arquitectura (94), Evaluando con arquitectura (70), con lr 0.023278955823594377 y batch_size 525.  El accuracy de train/val son 0.879/0.884, el loss train/val son 0.0024/-0.0024, tiempo: 1684078301.19 segundos\n",
            "| \u001b[0m87       \u001b[0m | \u001b[0m-0.002434\u001b[0m | \u001b[0m524.9    \u001b[0m | \u001b[0m93.91    \u001b[0m | \u001b[0m69.69    \u001b[0m | \u001b[0m0.02328  \u001b[0m |\n",
            "Evaluando con arquitectura (63), Evaluando con arquitectura (183), con lr 0.09105391697020415 y batch_size 1798.  El accuracy de train/val son 0.941/0.953, el loss train/val son 0.0007/-0.0007, tiempo: 1684078295.27 segundos\n",
            "| \u001b[0m88       \u001b[0m | \u001b[0m-0.000739\u001b[0m | \u001b[0m1.798e+03\u001b[0m | \u001b[0m63.14    \u001b[0m | \u001b[0m183.3    \u001b[0m | \u001b[0m0.09105  \u001b[0m |\n",
            "Evaluando con arquitectura (23), Evaluando con arquitectura (39), con lr 0.050458832897209725 y batch_size 808.  El accuracy de train/val son 0.913/0.846, el loss train/val son 0.0016/-0.0016, tiempo: 1684078297.37 segundos\n",
            "| \u001b[0m89       \u001b[0m | \u001b[0m-0.001598\u001b[0m | \u001b[0m808.5    \u001b[0m | \u001b[0m23.07    \u001b[0m | \u001b[0m39.4     \u001b[0m | \u001b[0m0.05046  \u001b[0m |\n",
            "Evaluando con arquitectura (42), Evaluando con arquitectura (50), con lr 0.08531551561870034 y batch_size 2199.  El accuracy de train/val son 0.920/0.879, el loss train/val son 0.0006/-0.0006, tiempo: 1684078295.71 segundos\n",
            "| \u001b[0m90       \u001b[0m | \u001b[0m-0.000588\u001b[0m | \u001b[0m2.199e+03\u001b[0m | \u001b[0m42.43    \u001b[0m | \u001b[0m50.36    \u001b[0m | \u001b[0m0.08532  \u001b[0m |\n",
            "Evaluando con arquitectura (124), Evaluando con arquitectura (47), con lr 0.011094758683153946 y batch_size 1277.  El accuracy de train/val son 0.866/0.866, el loss train/val son 0.0010/-0.0010, tiempo: 1684078296.64 segundos\n",
            "| \u001b[0m91       \u001b[0m | \u001b[0m-0.000992\u001b[0m | \u001b[0m1.277e+03\u001b[0m | \u001b[0m123.7    \u001b[0m | \u001b[0m47.5     \u001b[0m | \u001b[0m0.01109  \u001b[0m |\n",
            "Evaluando con arquitectura (96), Evaluando con arquitectura (31), con lr 0.06255881694230113 y batch_size 1572.  El accuracy de train/val son 0.867/0.863, el loss train/val son 0.0008/-0.0008, tiempo: 1684078294.91 segundos\n",
            "| \u001b[0m92       \u001b[0m | \u001b[0m-0.000814\u001b[0m | \u001b[0m1.572e+03\u001b[0m | \u001b[0m95.95    \u001b[0m | \u001b[0m31.38    \u001b[0m | \u001b[0m0.06256  \u001b[0m |\n",
            "Evaluando con arquitectura (131), Evaluando con arquitectura (30), con lr 0.07540125389638914 y batch_size 1655.  El accuracy de train/val son 0.837/0.852, el loss train/val son 0.0008/-0.0008, tiempo: 1684078296.68 segundos\n",
            "| \u001b[0m93       \u001b[0m | \u001b[0m-0.000774\u001b[0m | \u001b[0m1.655e+03\u001b[0m | \u001b[0m131.2    \u001b[0m | \u001b[0m29.76    \u001b[0m | \u001b[0m0.0754   \u001b[0m |\n",
            "Evaluando con arquitectura (104), Evaluando con arquitectura (157), con lr 0.003210712371188812 y batch_size 705.  El accuracy de train/val son 0.860/0.878, el loss train/val son 0.0018/-0.0018, tiempo: 1684078297.14 segundos\n",
            "| \u001b[0m94       \u001b[0m | \u001b[0m-0.001803\u001b[0m | \u001b[0m705.0    \u001b[0m | \u001b[0m104.4    \u001b[0m | \u001b[0m157.3    \u001b[0m | \u001b[0m0.003211 \u001b[0m |\n",
            "Evaluando con arquitectura (175), Evaluando con arquitectura (169), con lr 0.05430561866685983 y batch_size 1007.  El accuracy de train/val son 0.959/0.943, el loss train/val son 0.0013/-0.0013, tiempo: 1684078297.84 segundos\n",
            "| \u001b[0m95       \u001b[0m | \u001b[0m-0.001323\u001b[0m | \u001b[0m1.007e+03\u001b[0m | \u001b[0m174.7    \u001b[0m | \u001b[0m169.1    \u001b[0m | \u001b[0m0.05431  \u001b[0m |\n",
            "Evaluando con arquitectura (190), Evaluando con arquitectura (165), con lr 0.08555742893981734 y batch_size 2606.  El accuracy de train/val son 0.939/0.929, el loss train/val son 0.0005/-0.0005, tiempo: 1684078295.50 segundos\n",
            "| \u001b[0m96       \u001b[0m | \u001b[0m-0.000502\u001b[0m | \u001b[0m2.606e+03\u001b[0m | \u001b[0m190.0    \u001b[0m | \u001b[0m165.5    \u001b[0m | \u001b[0m0.08556  \u001b[0m |\n",
            "Evaluando con arquitectura (131), Evaluando con arquitectura (141), con lr 0.06141384045201634 y batch_size 341.  El accuracy de train/val son 0.963/0.948, el loss train/val son 0.0039/-0.0039, tiempo: 1684078307.69 segundos\n",
            "| \u001b[0m97       \u001b[0m | \u001b[0m-0.003888\u001b[0m | \u001b[0m341.3    \u001b[0m | \u001b[0m130.6    \u001b[0m | \u001b[0m141.0    \u001b[0m | \u001b[0m0.06141  \u001b[0m |\n",
            "Evaluando con arquitectura (8), Evaluando con arquitectura (154), con lr 0.07344113147321317 y batch_size 2409.  El accuracy de train/val son 0.985/0.964, el loss train/val son 0.0005/-0.0006, tiempo: 1684078296.08 segundos\n",
            "| \u001b[0m98       \u001b[0m | \u001b[0m-0.000558\u001b[0m | \u001b[0m2.409e+03\u001b[0m | \u001b[0m7.88     \u001b[0m | \u001b[0m154.3    \u001b[0m | \u001b[0m0.07344  \u001b[0m |\n",
            "Evaluando con arquitectura (52), Evaluando con arquitectura (127), con lr 0.03518444869751707 y batch_size 816.  El accuracy de train/val son 0.915/0.865, el loss train/val son 0.0016/-0.0016, tiempo: 1684078298.06 segundos\n",
            "| \u001b[0m99       \u001b[0m | \u001b[0m-0.001573\u001b[0m | \u001b[0m816.1    \u001b[0m | \u001b[0m52.16    \u001b[0m | \u001b[0m126.8    \u001b[0m | \u001b[0m0.03518  \u001b[0m |\n",
            "Evaluando con arquitectura (90), Evaluando con arquitectura (157), con lr 0.09905670657876023 y batch_size 2400.  El accuracy de train/val son 0.950/0.951, el loss train/val son 0.0005/-0.0006, tiempo: 1684078296.69 segundos\n",
            "| \u001b[0m100      \u001b[0m | \u001b[0m-0.000559\u001b[0m | \u001b[0m2.4e+03  \u001b[0m | \u001b[0m89.78    \u001b[0m | \u001b[0m156.8    \u001b[0m | \u001b[0m0.09906  \u001b[0m |\n",
            "Evaluando con arquitectura (29), Evaluando con arquitectura (180), con lr 0.05461437850984996 y batch_size 936.  El accuracy de train/val son 0.890/1.000, el loss train/val son 0.0014/-0.0014, tiempo: 1684078295.30 segundos\n",
            "| \u001b[0m101      \u001b[0m | \u001b[0m-0.001387\u001b[0m | \u001b[0m935.7    \u001b[0m | \u001b[0m29.46    \u001b[0m | \u001b[0m180.4    \u001b[0m | \u001b[0m0.05461  \u001b[0m |\n",
            "Evaluando con arquitectura (128), Evaluando con arquitectura (199), con lr 0.055061009610152215 y batch_size 2925.  El accuracy de train/val son 0.876/0.877, el loss train/val son 0.0004/-0.0004, tiempo: 1684078298.73 segundos\n",
            "| \u001b[0m102      \u001b[0m | \u001b[0m-0.000442\u001b[0m | \u001b[0m2.925e+03\u001b[0m | \u001b[0m127.7    \u001b[0m | \u001b[0m198.8    \u001b[0m | \u001b[0m0.05506  \u001b[0m |\n",
            "Evaluando con arquitectura (28), Evaluando con arquitectura (72), con lr 0.0035956381623409553 y batch_size 1603.  El accuracy de train/val son 0.840/0.904, el loss train/val son 0.0008/-0.0008, tiempo: 1684078294.59 segundos\n",
            "| \u001b[0m103      \u001b[0m | \u001b[0m-0.000797\u001b[0m | \u001b[0m1.603e+03\u001b[0m | \u001b[0m27.95    \u001b[0m | \u001b[0m71.79    \u001b[0m | \u001b[0m0.003596 \u001b[0m |\n",
            "Evaluando con arquitectura (149), Evaluando con arquitectura (7), con lr 0.037287766627130695 y batch_size 523.  El accuracy de train/val son 0.846/0.793, el loss train/val son 0.0024/-0.0024, tiempo: 1684078300.01 segundos\n",
            "| \u001b[0m104      \u001b[0m | \u001b[0m-0.002439\u001b[0m | \u001b[0m523.2    \u001b[0m | \u001b[0m149.4    \u001b[0m | \u001b[0m7.05     \u001b[0m | \u001b[0m0.03729  \u001b[0m |\n",
            "Evaluando con arquitectura (139), Evaluando con arquitectura (138), con lr 0.01967504329457578 y batch_size 2594.  El accuracy de train/val son 0.851/0.879, el loss train/val son 0.0005/-0.0005, tiempo: 1684078299.94 segundos\n",
            "| \u001b[0m105      \u001b[0m | \u001b[0m-0.000495\u001b[0m | \u001b[0m2.594e+03\u001b[0m | \u001b[0m138.8    \u001b[0m | \u001b[0m138.5    \u001b[0m | \u001b[0m0.01968  \u001b[0m |\n",
            "Evaluando con arquitectura (117), Evaluando con arquitectura (198), con lr 0.021186716298079066 y batch_size 1354.  El accuracy de train/val son 0.855/0.869, el loss train/val son 0.0009/-0.0009, tiempo: 1684078294.10 segundos\n",
            "| \u001b[0m106      \u001b[0m | \u001b[0m-0.000949\u001b[0m | \u001b[0m1.354e+03\u001b[0m | \u001b[0m116.7    \u001b[0m | \u001b[0m198.0    \u001b[0m | \u001b[0m0.02119  \u001b[0m |\n",
            "Evaluando con arquitectura (53), Evaluando con arquitectura (150), con lr 0.04624055741613359 y batch_size 781.  El accuracy de train/val son 0.900/0.929, el loss train/val son 0.0017/-0.0017, tiempo: 1684078297.75 segundos\n",
            "| \u001b[0m107      \u001b[0m | \u001b[0m-0.001672\u001b[0m | \u001b[0m780.8    \u001b[0m | \u001b[0m53.17    \u001b[0m | \u001b[0m150.3    \u001b[0m | \u001b[0m0.04624  \u001b[0m |\n",
            "Evaluando con arquitectura (102), Evaluando con arquitectura (43), con lr 0.08006182023126081 y batch_size 218.  El accuracy de train/val son 0.972/0.978, el loss train/val son 0.0060/-0.0061, tiempo: 1684078317.11 segundos\n",
            "| \u001b[0m108      \u001b[0m | \u001b[0m-0.006075\u001b[0m | \u001b[0m217.9    \u001b[0m | \u001b[0m102.2    \u001b[0m | \u001b[0m43.18    \u001b[0m | \u001b[0m0.08006  \u001b[0m |\n",
            "Evaluando con arquitectura (6), Evaluando con arquitectura (119), con lr 0.0845402024641877 y batch_size 927.  El accuracy de train/val son 0.953/0.955, el loss train/val son 0.0014/-0.0014, tiempo: 1684078294.48 segundos\n",
            "| \u001b[0m109      \u001b[0m | \u001b[0m-0.001435\u001b[0m | \u001b[0m927.1    \u001b[0m | \u001b[0m6.494    \u001b[0m | \u001b[0m119.1    \u001b[0m | \u001b[0m0.08454  \u001b[0m |\n",
            "Evaluando con arquitectura (150), Evaluando con arquitectura (103), con lr 0.05455422869125668 y batch_size 1174.  El accuracy de train/val son 0.909/0.918, el loss train/val son 0.0011/-0.0011, tiempo: 1684078296.52 segundos\n",
            "| \u001b[0m110      \u001b[0m | \u001b[0m-0.001096\u001b[0m | \u001b[0m1.174e+03\u001b[0m | \u001b[0m150.2    \u001b[0m | \u001b[0m102.7    \u001b[0m | \u001b[0m0.05455  \u001b[0m |\n",
            "Evaluando con arquitectura (161), Evaluando con arquitectura (7), con lr 0.07122933787189822 y batch_size 2880.  El accuracy de train/val son 0.870/0.874, el loss train/val son 0.0004/-0.0004, tiempo: 1684078297.51 segundos\n",
            "| \u001b[0m111      \u001b[0m | \u001b[0m-0.000449\u001b[0m | \u001b[0m2.88e+03 \u001b[0m | \u001b[0m161.0    \u001b[0m | \u001b[0m7.432    \u001b[0m | \u001b[0m0.07123  \u001b[0m |\n",
            "Evaluando con arquitectura (190), Evaluando con arquitectura (45), con lr 0.027440129948752213 y batch_size 1422.  El accuracy de train/val son 0.858/0.867, el loss train/val son 0.0009/-0.0009, tiempo: 1684078297.45 segundos\n",
            "| \u001b[0m112      \u001b[0m | \u001b[0m-0.000895\u001b[0m | \u001b[0m1.422e+03\u001b[0m | \u001b[0m189.6    \u001b[0m | \u001b[0m45.07    \u001b[0m | \u001b[0m0.02744  \u001b[0m |\n",
            "Evaluando con arquitectura (86), Evaluando con arquitectura (23), con lr 0.06374488930057987 y batch_size 290.  El accuracy de train/val son 0.931/0.974, el loss train/val son 0.0045/-0.0045, tiempo: 1684078310.62 segundos\n",
            "| \u001b[0m113      \u001b[0m | \u001b[0m-0.004529\u001b[0m | \u001b[0m290.3    \u001b[0m | \u001b[0m86.3     \u001b[0m | \u001b[0m22.69    \u001b[0m | \u001b[0m0.06374  \u001b[0m |\n",
            "Evaluando con arquitectura (140), Evaluando con arquitectura (153), con lr 0.03490295786450846 y batch_size 2419.  El accuracy de train/val son 0.797/0.823, el loss train/val son 0.0005/-0.0005, tiempo: 1684078296.78 segundos\n",
            "| \u001b[0m114      \u001b[0m | \u001b[0m-0.000527\u001b[0m | \u001b[0m2.419e+03\u001b[0m | \u001b[0m139.7    \u001b[0m | \u001b[0m153.5    \u001b[0m | \u001b[0m0.0349   \u001b[0m |\n",
            "Evaluando con arquitectura (86), Evaluando con arquitectura (165), con lr 0.06302311970380509 y batch_size 2545.  El accuracy de train/val son 0.809/0.815, el loss train/val son 0.0005/-0.0005, tiempo: 1684078297.34 segundos\n",
            "| \u001b[0m115      \u001b[0m | \u001b[0m-0.000510\u001b[0m | \u001b[0m2.545e+03\u001b[0m | \u001b[0m86.32    \u001b[0m | \u001b[0m165.0    \u001b[0m | \u001b[0m0.06302  \u001b[0m |\n",
            "Evaluando con arquitectura (6), Evaluando con arquitectura (186), con lr 0.003869452250688455 y batch_size 2095.  El accuracy de train/val son 0.854/0.888, el loss train/val son 0.0006/-0.0006, tiempo: 1684078295.60 segundos\n",
            "| \u001b[0m116      \u001b[0m | \u001b[0m-0.000613\u001b[0m | \u001b[0m2.095e+03\u001b[0m | \u001b[0m5.952    \u001b[0m | \u001b[0m186.4    \u001b[0m | \u001b[0m0.003869 \u001b[0m |\n",
            "Evaluando con arquitectura (8), Evaluando con arquitectura (2), con lr 0.07307152911113754 y batch_size 2584.  El accuracy de train/val son 0.880/0.847, el loss train/val son 0.0005/-0.0005, tiempo: 1684078297.34 segundos\n",
            "| \u001b[0m117      \u001b[0m | \u001b[0m-0.000498\u001b[0m | \u001b[0m2.584e+03\u001b[0m | \u001b[0m7.608    \u001b[0m | \u001b[0m2.218    \u001b[0m | \u001b[0m0.07307  \u001b[0m |\n",
            "Evaluando con arquitectura (197), Evaluando con arquitectura (195), con lr 0.08623272076248643 y batch_size 1512.  El accuracy de train/val son 0.952/0.988, el loss train/val son 0.0009/-0.0009, tiempo: 1684078295.30 segundos\n",
            "| \u001b[0m118      \u001b[0m | \u001b[0m-0.000882\u001b[0m | \u001b[0m1.512e+03\u001b[0m | \u001b[0m197.1    \u001b[0m | \u001b[0m195.1    \u001b[0m | \u001b[0m0.08623  \u001b[0m |\n",
            "Evaluando con arquitectura (4), Evaluando con arquitectura (185), con lr 0.08996442380850768 y batch_size 1478.  El accuracy de train/val son 0.957/0.980, el loss train/val son 0.0009/-0.0009, tiempo: 1684078297.46 segundos\n",
            "| \u001b[0m119      \u001b[0m | \u001b[0m-0.000903\u001b[0m | \u001b[0m1.478e+03\u001b[0m | \u001b[0m3.544    \u001b[0m | \u001b[0m185.3    \u001b[0m | \u001b[0m0.08996  \u001b[0m |\n",
            "Evaluando con arquitectura (193), Evaluando con arquitectura (197), con lr 0.09501281146344306 y batch_size 2014.  El accuracy de train/val son 0.952/0.954, el loss train/val son 0.0007/-0.0007, tiempo: 1684078296.12 segundos\n",
            "| \u001b[0m120      \u001b[0m | \u001b[0m-0.000661\u001b[0m | \u001b[0m2.014e+03\u001b[0m | \u001b[0m193.5    \u001b[0m | \u001b[0m197.4    \u001b[0m | \u001b[0m0.09501  \u001b[0m |\n",
            "Evaluando con arquitectura (198), Evaluando con arquitectura (191), con lr 0.05360537952661705 y batch_size 2999.  El accuracy de train/val son 0.906/0.911, el loss train/val son 0.0004/-0.0004, tiempo: 1684078298.57 segundos\n",
            "| \u001b[0m121      \u001b[0m | \u001b[0m-0.000436\u001b[0m | \u001b[0m2.999e+03\u001b[0m | \u001b[0m197.7    \u001b[0m | \u001b[0m190.6    \u001b[0m | \u001b[0m0.05361  \u001b[0m |\n",
            "Evaluando con arquitectura (20), Evaluando con arquitectura (190), con lr 0.029647857773209704 y batch_size 2981.  El accuracy de train/val son 0.861/0.871, el loss train/val son 0.0004/-0.0004, tiempo: 1684078299.18 segundos\n",
            "| \u001b[0m122      \u001b[0m | \u001b[0m-0.000430\u001b[0m | \u001b[0m2.981e+03\u001b[0m | \u001b[0m20.22    \u001b[0m | \u001b[0m189.9    \u001b[0m | \u001b[0m0.02965  \u001b[0m |\n",
            "Evaluando con arquitectura (9), Evaluando con arquitectura (5), con lr 0.04524971491151804 y batch_size 1163.  El accuracy de train/val son 0.821/0.842, el loss train/val son 0.0011/-0.0011, tiempo: 1684078295.92 segundos\n",
            "| \u001b[0m123      \u001b[0m | \u001b[0m-0.001096\u001b[0m | \u001b[0m1.163e+03\u001b[0m | \u001b[0m9.178    \u001b[0m | \u001b[0m4.885    \u001b[0m | \u001b[0m0.04525  \u001b[0m |\n",
            "Evaluando con arquitectura (200), Evaluando con arquitectura (7), con lr 0.05528927228998686 y batch_size 2261.  El accuracy de train/val son 0.842/0.845, el loss train/val son 0.0006/-0.0006, tiempo: 1684078297.36 segundos\n",
            "| \u001b[0m124      \u001b[0m | \u001b[0m-0.000565\u001b[0m | \u001b[0m2.261e+03\u001b[0m | \u001b[0m199.7    \u001b[0m | \u001b[0m6.953    \u001b[0m | \u001b[0m0.05529  \u001b[0m |\n",
            "Evaluando con arquitectura (4), Evaluando con arquitectura (7), con lr 0.0679511639447226 y batch_size 2285.  El accuracy de train/val son 0.848/0.835, el loss train/val son 0.0006/-0.0006, tiempo: 1684078297.39 segundos\n",
            "| \u001b[0m125      \u001b[0m | \u001b[0m-0.000558\u001b[0m | \u001b[0m2.285e+03\u001b[0m | \u001b[0m4.247    \u001b[0m | \u001b[0m7.031    \u001b[0m | \u001b[0m0.06795  \u001b[0m |\n",
            "Evaluando con arquitectura (3), Evaluando con arquitectura (8), con lr 0.003198947336252364 y batch_size 1448.  El accuracy de train/val son 0.874/0.877, el loss train/val son 0.0009/-0.0009, tiempo: 1684078296.97 segundos\n",
            "| \u001b[0m126      \u001b[0m | \u001b[0m-0.000879\u001b[0m | \u001b[0m1.448e+03\u001b[0m | \u001b[0m3.02     \u001b[0m | \u001b[0m7.978    \u001b[0m | \u001b[0m0.003199 \u001b[0m |\n",
            "Evaluando con arquitectura (10), Evaluando con arquitectura (199), con lr 0.005060894929869511 y batch_size 2293.  El accuracy de train/val son 0.854/0.883, el loss train/val son 0.0006/-0.0006, tiempo: 1684078297.33 segundos\n",
            "| \u001b[0m127      \u001b[0m | \u001b[0m-0.000556\u001b[0m | \u001b[0m2.293e+03\u001b[0m | \u001b[0m10.21    \u001b[0m | \u001b[0m199.2    \u001b[0m | \u001b[0m0.005061 \u001b[0m |\n",
            "Evaluando con arquitectura (147), Evaluando con arquitectura (3), con lr 0.021590780619004834 y batch_size 1096.  El accuracy de train/val son 0.714/0.869, el loss train/val son 0.0012/-0.0012, tiempo: 1684078293.95 segundos\n",
            "| \u001b[0m128      \u001b[0m | \u001b[0m-0.001159\u001b[0m | \u001b[0m1.096e+03\u001b[0m | \u001b[0m147.2    \u001b[0m | \u001b[0m2.577    \u001b[0m | \u001b[0m0.02159  \u001b[0m |\n",
            "Evaluando con arquitectura (11), Evaluando con arquitectura (2), con lr 0.05478712254679426 y batch_size 1878.  El accuracy de train/val son 0.878/0.835, el loss train/val son 0.0007/-0.0007, tiempo: 1684078296.53 segundos\n",
            "| \u001b[0m129      \u001b[0m | \u001b[0m-0.000684\u001b[0m | \u001b[0m1.878e+03\u001b[0m | \u001b[0m10.94    \u001b[0m | \u001b[0m1.749    \u001b[0m | \u001b[0m0.05479  \u001b[0m |\n",
            "Evaluando con arquitectura (6), Evaluando con arquitectura (6), con lr 0.05043385029477295 y batch_size 2441.  El accuracy de train/val son 0.863/0.841, el loss train/val son 0.0005/-0.0005, tiempo: 1684078298.51 segundos\n",
            "| \u001b[0m130      \u001b[0m | \u001b[0m-0.000527\u001b[0m | \u001b[0m2.441e+03\u001b[0m | \u001b[0m5.969    \u001b[0m | \u001b[0m6.043    \u001b[0m | \u001b[0m0.05043  \u001b[0m |\n",
            "Evaluando con arquitectura (198), Evaluando con arquitectura (194), con lr 0.03907992295073757 y batch_size 1828.  El accuracy de train/val son 0.907/0.936, el loss train/val son 0.0007/-0.0007, tiempo: 1684078294.96 segundos\n",
            "| \u001b[0m131      \u001b[0m | \u001b[0m-0.000715\u001b[0m | \u001b[0m1.828e+03\u001b[0m | \u001b[0m198.1    \u001b[0m | \u001b[0m193.6    \u001b[0m | \u001b[0m0.03908  \u001b[0m |\n",
            "Evaluando con arquitectura (198), Evaluando con arquitectura (2), con lr 0.016023422281696998 y batch_size 1816.  El accuracy de train/val son 0.872/0.868, el loss train/val son 0.0007/-0.0007, tiempo: 1684078295.65 segundos\n",
            "| \u001b[0m132      \u001b[0m | \u001b[0m-0.000700\u001b[0m | \u001b[0m1.816e+03\u001b[0m | \u001b[0m197.7    \u001b[0m | \u001b[0m2.009    \u001b[0m | \u001b[0m0.01602  \u001b[0m |\n",
            "Evaluando con arquitectura (7), Evaluando con arquitectura (134), con lr 0.07740360950451573 y batch_size 1314.  El accuracy de train/val son 0.923/0.964, el loss train/val son 0.0010/-0.0010, tiempo: 1684078294.70 segundos\n",
            "| \u001b[0m133      \u001b[0m | \u001b[0m-0.001017\u001b[0m | \u001b[0m1.314e+03\u001b[0m | \u001b[0m6.58     \u001b[0m | \u001b[0m133.9    \u001b[0m | \u001b[0m0.0774   \u001b[0m |\n",
            "Evaluando con arquitectura (140), Evaluando con arquitectura (1), con lr 0.08621105926565693 y batch_size 2507.  El accuracy de train/val son 0.921/0.959, el loss train/val son 0.0005/-0.0005, tiempo: 1684078298.04 segundos\n",
            "| \u001b[0m134      \u001b[0m | \u001b[0m-0.000518\u001b[0m | \u001b[0m2.507e+03\u001b[0m | \u001b[0m140.4    \u001b[0m | \u001b[0m1.496    \u001b[0m | \u001b[0m0.08621  \u001b[0m |\n",
            "Evaluando con arquitectura (197), Evaluando con arquitectura (197), con lr 0.09325785729548676 y batch_size 2335.  El accuracy de train/val son 1.000/0.958, el loss train/val son 0.0006/-0.0006, tiempo: 1684078296.54 segundos\n",
            "| \u001b[0m135      \u001b[0m | \u001b[0m-0.000569\u001b[0m | \u001b[0m2.335e+03\u001b[0m | \u001b[0m196.7    \u001b[0m | \u001b[0m197.3    \u001b[0m | \u001b[0m0.09326  \u001b[0m |\n",
            "=========================================================================\n",
            "CPU times: user 1h 15min 46s, sys: 24.8 s, total: 1h 16min 11s\n",
            "Wall time: 1h 16min 37s\n"
          ]
        }
      ]
    },
    {
      "cell_type": "code",
      "source": [
        "optimizer.max"
      ],
      "metadata": {
        "colab": {
          "base_uri": "https://localhost:8080/"
        },
        "id": "Y2Y8D8c3WWo3",
        "outputId": "f77b64f9-a80b-4bd6-8aa2-3563362f1caf"
      },
      "execution_count": null,
      "outputs": [
        {
          "output_type": "execute_result",
          "data": {
            "text/plain": [
              "{'target': -0.00043039376082956065,\n",
              " 'params': {'batch_size': 2994.729159891141,\n",
              "  'hidden_1': 194.01842928399412,\n",
              "  'hidden_2': 17.811654196407023,\n",
              "  'learning_rate': 0.07721590287722724}}"
            ]
          },
          "metadata": {},
          "execution_count": 51
        }
      ]
    },
    {
      "cell_type": "code",
      "source": [
        "pbounds = {'hidden_1': (100, 250), 'hidden_2': (1, 50), 'learning_rate': (0.05, 0.9), 'batch_size':(3000, 10000)}\n",
        "optimizer.set_bounds(pbounds)"
      ],
      "metadata": {
        "id": "ijhpzN63W8m5"
      },
      "execution_count": null,
      "outputs": []
    },
    {
      "cell_type": "code",
      "source": [
        "optimizer.maximize(\n",
        "    init_points=5, #Epocas con la configuración de parametros\n",
        "    n_iter=50, #Configuracion de parametros\n",
        ")"
      ],
      "metadata": {
        "colab": {
          "base_uri": "https://localhost:8080/"
        },
        "id": "3RO5aJZHW-Ff",
        "outputId": "2693a756-421b-4192-e9ff-61c5429d0291"
      },
      "execution_count": null,
      "outputs": [
        {
          "output_type": "stream",
          "name": "stdout",
          "text": [
            "|   iter    |  target   | batch_... | hidden_1  | hidden_2  | learni... |\n",
            "-------------------------------------------------------------------------\n",
            "Evaluando con arquitectura (112), Evaluando con arquitectura (2), con lr 0.106716247993453 y batch_size 4004.  El accuracy de train/val son 0.875/0.837, el loss train/val son 0.0003/-0.0003, tiempo: 1684078298.05 segundos\n",
            "| \u001b[95m136      \u001b[0m | \u001b[95m-0.000321\u001b[0m | \u001b[95m4.004e+03\u001b[0m | \u001b[95m111.8    \u001b[0m | \u001b[95m1.898    \u001b[0m | \u001b[95m0.1067   \u001b[0m |\n",
            "Evaluando con arquitectura (117), Evaluando con arquitectura (2), con lr 0.6916322591818973 y batch_size 6210.  El accuracy de train/val son 0.889/0.861, el loss train/val son 0.0002/-0.0002, tiempo: 1684078298.11 segundos\n",
            "| \u001b[95m137      \u001b[0m | \u001b[95m-0.000206\u001b[0m | \u001b[95m6.21e+03 \u001b[0m | \u001b[95m117.0    \u001b[0m | \u001b[95m2.361    \u001b[0m | \u001b[95m0.6916   \u001b[0m |\n",
            "Evaluando con arquitectura (212), Evaluando con arquitectura (23), con lr 0.43257373495064694 y batch_size 5764.  El accuracy de train/val son 0.952/0.959, el loss train/val son 0.0002/-0.0002, tiempo: 1684078299.51 segundos\n",
            "| \u001b[0m138      \u001b[0m | \u001b[0m-0.000233\u001b[0m | \u001b[0m5.764e+03\u001b[0m | \u001b[0m212.0    \u001b[0m | \u001b[0m23.17    \u001b[0m | \u001b[0m0.4326   \u001b[0m |\n",
            "Evaluando con arquitectura (171), Evaluando con arquitectura (40), con lr 0.3920336418790754 y batch_size 6347.  El accuracy de train/val son 0.878/0.898, el loss train/val son 0.0002/-0.0002, tiempo: 1684078298.02 segundos\n",
            "| \u001b[0m139      \u001b[0m | \u001b[0m-0.000208\u001b[0m | \u001b[0m6.347e+03\u001b[0m | \u001b[0m171.1    \u001b[0m | \u001b[0m40.36    \u001b[0m | \u001b[0m0.392    \u001b[0m |\n",
            "Evaluando con arquitectura (106), Evaluando con arquitectura (39), con lr 0.15679517396707798 y batch_size 9333.  El accuracy de train/val son 0.836/0.845, el loss train/val son 0.0001/-0.0001, tiempo: 1684078298.19 segundos\n",
            "| \u001b[95m140      \u001b[0m | \u001b[95m-0.000137\u001b[0m | \u001b[95m9.333e+03\u001b[0m | \u001b[95m105.6    \u001b[0m | \u001b[95m38.92    \u001b[0m | \u001b[95m0.1568   \u001b[0m |\n",
            "Evaluando con arquitectura (162), Evaluando con arquitectura (37), con lr 0.29621789085268524 y batch_size 8833.  El accuracy de train/val son 0.861/0.853, el loss train/val son 0.0001/-0.0001, tiempo: 1684078298.40 segundos\n",
            "| \u001b[0m141      \u001b[0m | \u001b[0m-0.000147\u001b[0m | \u001b[0m8.833e+03\u001b[0m | \u001b[0m161.9    \u001b[0m | \u001b[0m36.71    \u001b[0m | \u001b[0m0.2962   \u001b[0m |\n",
            "Evaluando con arquitectura (248), Evaluando con arquitectura (20), con lr 0.5297734937748566 y batch_size 3548.  El accuracy de train/val son 0.960/0.964, el loss train/val son 0.0004/-0.0004, tiempo: 1684078297.22 segundos\n",
            "| \u001b[0m142      \u001b[0m | \u001b[0m-0.000376\u001b[0m | \u001b[0m3.548e+03\u001b[0m | \u001b[0m248.1    \u001b[0m | \u001b[0m19.56    \u001b[0m | \u001b[0m0.5298   \u001b[0m |\n",
            "Evaluando con arquitectura (245), Evaluando con arquitectura (6), con lr 0.5592462160083382 y batch_size 9842.  El accuracy de train/val son 0.890/0.885, el loss train/val son 0.0001/-0.0001, tiempo: 1684078298.62 segundos\n",
            "| \u001b[0m143      \u001b[0m | \u001b[0m-0.000138\u001b[0m | \u001b[0m9.842e+03\u001b[0m | \u001b[0m244.9    \u001b[0m | \u001b[0m6.011    \u001b[0m | \u001b[0m0.5592   \u001b[0m |\n",
            "Evaluando con arquitectura (101), Evaluando con arquitectura (37), con lr 0.3781121631331945 y batch_size 8314.  El accuracy de train/val son 0.959/0.958, el loss train/val son 0.0002/-0.0002, tiempo: 1684078298.31 segundos\n",
            "| \u001b[0m144      \u001b[0m | \u001b[0m-0.000162\u001b[0m | \u001b[0m8.314e+03\u001b[0m | \u001b[0m100.5    \u001b[0m | \u001b[0m36.52    \u001b[0m | \u001b[0m0.3781   \u001b[0m |\n",
            "Evaluando con arquitectura (246), Evaluando con arquitectura (45), con lr 0.1912159523960243 y batch_size 7805.  El accuracy de train/val son 0.863/0.878, el loss train/val son 0.0002/-0.0002, tiempo: 1684078298.28 segundos\n",
            "| \u001b[0m145      \u001b[0m | \u001b[0m-0.000167\u001b[0m | \u001b[0m7.805e+03\u001b[0m | \u001b[0m246.1    \u001b[0m | \u001b[0m45.34    \u001b[0m | \u001b[0m0.1912   \u001b[0m |\n",
            "Evaluando con arquitectura (168), Evaluando con arquitectura (31), con lr 0.051835752161849734 y batch_size 7263.  El accuracy de train/val son 0.858/0.854, el loss train/val son 0.0002/-0.0002, tiempo: 1684078298.65 segundos\n",
            "| \u001b[0m146      \u001b[0m | \u001b[0m-0.000174\u001b[0m | \u001b[0m7.263e+03\u001b[0m | \u001b[0m167.6    \u001b[0m | \u001b[0m30.97    \u001b[0m | \u001b[0m0.05184  \u001b[0m |\n",
            "Evaluando con arquitectura (112), Evaluando con arquitectura (12), con lr 0.6373125505544833 y batch_size 6826.  El accuracy de train/val son 0.873/0.862, el loss train/val son 0.0002/-0.0002, tiempo: 1684078298.66 segundos\n",
            "| \u001b[0m147      \u001b[0m | \u001b[0m-0.000200\u001b[0m | \u001b[0m6.826e+03\u001b[0m | \u001b[0m111.7    \u001b[0m | \u001b[0m11.71    \u001b[0m | \u001b[0m0.6373   \u001b[0m |\n",
            "Evaluando con arquitectura (115), Evaluando con arquitectura (40), con lr 0.7628057468761821 y batch_size 5222.  El accuracy de train/val son 0.947/0.961, el loss train/val son 0.0003/-0.0003, tiempo: 1684078299.40 segundos\n",
            "| \u001b[0m148      \u001b[0m | \u001b[0m-0.000254\u001b[0m | \u001b[0m5.222e+03\u001b[0m | \u001b[0m114.8    \u001b[0m | \u001b[0m40.37    \u001b[0m | \u001b[0m0.7628   \u001b[0m |\n",
            "Evaluando con arquitectura (141), Evaluando con arquitectura (25), con lr 0.4420646190903317 y batch_size 4633.  El accuracy de train/val son 0.952/0.969, el loss train/val son 0.0003/-0.0003, tiempo: 1684078298.38 segundos\n",
            "| \u001b[0m149      \u001b[0m | \u001b[0m-0.000293\u001b[0m | \u001b[0m4.633e+03\u001b[0m | \u001b[0m140.7    \u001b[0m | \u001b[0m25.4     \u001b[0m | \u001b[0m0.4421   \u001b[0m |\n",
            "Evaluando con arquitectura (249), Evaluando con arquitectura (19), con lr 0.7974145756987756 y batch_size 4300.  El accuracy de train/val son 0.953/0.959, el loss train/val son 0.0003/-0.0003, tiempo: 1684078298.45 segundos\n",
            "| \u001b[0m150      \u001b[0m | \u001b[0m-0.000315\u001b[0m | \u001b[0m4.3e+03  \u001b[0m | \u001b[0m249.2    \u001b[0m | \u001b[0m19.13    \u001b[0m | \u001b[0m0.7974   \u001b[0m |\n",
            "Evaluando con arquitectura (246), Evaluando con arquitectura (5), con lr 0.31671333353141645 y batch_size 4924.  El accuracy de train/val son 0.873/0.873, el loss train/val son 0.0003/-0.0003, tiempo: 1684078299.12 segundos\n",
            "| \u001b[0m151      \u001b[0m | \u001b[0m-0.000265\u001b[0m | \u001b[0m4.924e+03\u001b[0m | \u001b[0m246.3    \u001b[0m | \u001b[0m4.966    \u001b[0m | \u001b[0m0.3167   \u001b[0m |\n",
            "Evaluando con arquitectura (103), Evaluando con arquitectura (2), con lr 0.8575069756292016 y batch_size 7563.  El accuracy de train/val son 0.946/0.953, el loss train/val son 0.0002/-0.0002, tiempo: 1684078300.45 segundos\n",
            "| \u001b[0m152      \u001b[0m | \u001b[0m-0.000183\u001b[0m | \u001b[0m7.563e+03\u001b[0m | \u001b[0m103.4    \u001b[0m | \u001b[0m2.153    \u001b[0m | \u001b[0m0.8575   \u001b[0m |\n",
            "Evaluando con arquitectura (249), Evaluando con arquitectura (36), con lr 0.13492978511890513 y batch_size 8536.  El accuracy de train/val son 0.830/0.838, el loss train/val son 0.0002/-0.0002, tiempo: 1684078299.66 segundos\n",
            "| \u001b[0m153      \u001b[0m | \u001b[0m-0.000156\u001b[0m | \u001b[0m8.536e+03\u001b[0m | \u001b[0m249.5    \u001b[0m | \u001b[0m36.43    \u001b[0m | \u001b[0m0.1349   \u001b[0m |\n",
            "Evaluando con arquitectura (248), Evaluando con arquitectura (1), con lr 0.7168733169138103 y batch_size 9571.  El accuracy de train/val son 0.901/0.869, el loss train/val son 0.0001/-0.0001, tiempo: 1684078298.54 segundos\n",
            "| \u001b[0m154      \u001b[0m | \u001b[0m-0.000137\u001b[0m | \u001b[0m9.571e+03\u001b[0m | \u001b[0m248.1    \u001b[0m | \u001b[0m1.434    \u001b[0m | \u001b[0m0.7169   \u001b[0m |\n",
            "Evaluando con arquitectura (250), Evaluando con arquitectura (2), con lr 0.20865641676385577 y batch_size 9090.  El accuracy de train/val son 0.885/0.888, el loss train/val son 0.0001/-0.0001, tiempo: 1684078299.70 segundos\n",
            "| \u001b[0m155      \u001b[0m | \u001b[0m-0.000146\u001b[0m | \u001b[0m9.09e+03 \u001b[0m | \u001b[0m249.8    \u001b[0m | \u001b[0m1.772    \u001b[0m | \u001b[0m0.2087   \u001b[0m |\n",
            "Evaluando con arquitectura (249), Evaluando con arquitectura (16), con lr 0.5497678594024452 y batch_size 5454.  El accuracy de train/val son 0.956/0.961, el loss train/val son 0.0002/-0.0002, tiempo: 1684078299.16 segundos\n",
            "| \u001b[0m156      \u001b[0m | \u001b[0m-0.000244\u001b[0m | \u001b[0m5.454e+03\u001b[0m | \u001b[0m248.8    \u001b[0m | \u001b[0m16.49    \u001b[0m | \u001b[0m0.5498   \u001b[0m |\n",
            "Evaluando con arquitectura (243), Evaluando con arquitectura (12), con lr 0.7782696140202895 y batch_size 8101.  El accuracy de train/val son 0.926/0.958, el loss train/val son 0.0002/-0.0002, tiempo: 1684078298.97 segundos\n",
            "| \u001b[0m157      \u001b[0m | \u001b[0m-0.000169\u001b[0m | \u001b[0m8.101e+03\u001b[0m | \u001b[0m243.4    \u001b[0m | \u001b[0m11.57    \u001b[0m | \u001b[0m0.7783   \u001b[0m |\n",
            "Evaluando con arquitectura (110), Evaluando con arquitectura (46), con lr 0.3765171339025716 y batch_size 10000.  El accuracy de train/val son 0.886/0.851, el loss train/val son 0.0001/-0.0001, tiempo: 1684078298.11 segundos\n",
            "| \u001b[95m158      \u001b[0m | \u001b[95m-0.000135\u001b[0m | \u001b[95m1e+04    \u001b[0m | \u001b[95m109.9    \u001b[0m | \u001b[95m45.52    \u001b[0m | \u001b[95m0.3765   \u001b[0m |\n",
            "Evaluando con arquitectura (101), Evaluando con arquitectura (2), con lr 0.7173589276997823 y batch_size 3319.  El accuracy de train/val son 0.885/0.860, el loss train/val son 0.0004/-0.0004, tiempo: 1684078298.98 segundos\n",
            "| \u001b[0m159      \u001b[0m | \u001b[0m-0.000396\u001b[0m | \u001b[0m3.319e+03\u001b[0m | \u001b[0m100.7    \u001b[0m | \u001b[0m2.129    \u001b[0m | \u001b[0m0.7174   \u001b[0m |\n",
            "Evaluando con arquitectura (248), Evaluando con arquitectura (35), con lr 0.2383126236485119 y batch_size 6608.  El accuracy de train/val son 0.852/0.870, el loss train/val son 0.0002/-0.0002, tiempo: 1684078298.88 segundos\n",
            "| \u001b[0m160      \u001b[0m | \u001b[0m-0.000196\u001b[0m | \u001b[0m6.608e+03\u001b[0m | \u001b[0m247.5    \u001b[0m | \u001b[0m34.54    \u001b[0m | \u001b[0m0.2383   \u001b[0m |\n",
            "Evaluando con arquitectura (248), Evaluando con arquitectura (39), con lr 0.2634753531559224 y batch_size 7036.  El accuracy de train/val son 0.902/0.870, el loss train/val son 0.0002/-0.0002, tiempo: 1684078298.53 segundos\n",
            "| \u001b[0m161      \u001b[0m | \u001b[0m-0.000188\u001b[0m | \u001b[0m7.036e+03\u001b[0m | \u001b[0m248.4    \u001b[0m | \u001b[0m39.06    \u001b[0m | \u001b[0m0.2635   \u001b[0m |\n",
            "Evaluando con arquitectura (100), Evaluando con arquitectura (42), con lr 0.647081906576818 y batch_size 9705.  El accuracy de train/val son 0.937/0.951, el loss train/val son 0.0001/-0.0001, tiempo: 1684078298.29 segundos\n",
            "| \u001b[0m162      \u001b[0m | \u001b[0m-0.000140\u001b[0m | \u001b[0m9.705e+03\u001b[0m | \u001b[0m100.0    \u001b[0m | \u001b[0m42.0     \u001b[0m | \u001b[0m0.6471   \u001b[0m |\n",
            "Evaluando con arquitectura (100), Evaluando con arquitectura (47), con lr 0.7837211674407063 y batch_size 3730.  El accuracy de train/val son 0.961/0.958, el loss train/val son 0.0004/-0.0004, tiempo: 1684078298.87 segundos\n",
            "| \u001b[0m163      \u001b[0m | \u001b[0m-0.000356\u001b[0m | \u001b[0m3.73e+03 \u001b[0m | \u001b[0m100.3    \u001b[0m | \u001b[0m46.88    \u001b[0m | \u001b[0m0.7837   \u001b[0m |\n",
            "Evaluando con arquitectura (250), Evaluando con arquitectura (44), con lr 0.7122847074669136 y batch_size 6016.  El accuracy de train/val son 0.958/0.956, el loss train/val son 0.0002/-0.0002, tiempo: 1684078298.88 segundos\n",
            "| \u001b[0m164      \u001b[0m | \u001b[0m-0.000223\u001b[0m | \u001b[0m6.016e+03\u001b[0m | \u001b[0m249.9    \u001b[0m | \u001b[0m44.23    \u001b[0m | \u001b[0m0.7123   \u001b[0m |\n",
            "Evaluando con arquitectura (102), Evaluando con arquitectura (6), con lr 0.5456476903457579 y batch_size 7931.  El accuracy de train/val son 0.911/0.916, el loss train/val son 0.0002/-0.0002, tiempo: 1684078298.07 segundos\n",
            "| \u001b[0m165      \u001b[0m | \u001b[0m-0.000169\u001b[0m | \u001b[0m7.931e+03\u001b[0m | \u001b[0m101.7    \u001b[0m | \u001b[0m6.421    \u001b[0m | \u001b[0m0.5456   \u001b[0m |\n",
            "Evaluando con arquitectura (102), Evaluando con arquitectura (37), con lr 0.5515793712460538 y batch_size 5542.  El accuracy de train/val son 0.939/0.950, el loss train/val son 0.0002/-0.0002, tiempo: 1684078298.73 segundos\n",
            "| \u001b[0m166      \u001b[0m | \u001b[0m-0.000244\u001b[0m | \u001b[0m5.542e+03\u001b[0m | \u001b[0m101.9    \u001b[0m | \u001b[0m37.01    \u001b[0m | \u001b[0m0.5516   \u001b[0m |\n",
            "Evaluando con arquitectura (248), Evaluando con arquitectura (26), con lr 0.7779234872038089 y batch_size 3856.  El accuracy de train/val son 0.955/0.954, el loss train/val son 0.0003/-0.0003, tiempo: 1684078298.83 segundos\n",
            "| \u001b[0m167      \u001b[0m | \u001b[0m-0.000346\u001b[0m | \u001b[0m3.856e+03\u001b[0m | \u001b[0m248.5    \u001b[0m | \u001b[0m26.21    \u001b[0m | \u001b[0m0.7779   \u001b[0m |\n",
            "Evaluando con arquitectura (249), Evaluando con arquitectura (37), con lr 0.5536128177541199 y batch_size 7476.  El accuracy de train/val son 0.947/0.942, el loss train/val son 0.0002/-0.0002, tiempo: 1684078298.95 segundos\n",
            "| \u001b[0m168      \u001b[0m | \u001b[0m-0.000183\u001b[0m | \u001b[0m7.476e+03\u001b[0m | \u001b[0m249.1    \u001b[0m | \u001b[0m37.49    \u001b[0m | \u001b[0m0.5536   \u001b[0m |\n",
            "Evaluando con arquitectura (101), Evaluando con arquitectura (12), con lr 0.8361790047749571 y batch_size 8601.  El accuracy de train/val son 0.962/0.963, el loss train/val son 0.0002/-0.0002, tiempo: 1684078297.98 segundos\n",
            "| \u001b[0m169      \u001b[0m | \u001b[0m-0.000162\u001b[0m | \u001b[0m8.601e+03\u001b[0m | \u001b[0m101.0    \u001b[0m | \u001b[0m11.66    \u001b[0m | \u001b[0m0.8362   \u001b[0m |\n",
            "Evaluando con arquitectura (100), Evaluando con arquitectura (15), con lr 0.10473003625845381 y batch_size 4392.  El accuracy de train/val son 0.838/0.840, el loss train/val son 0.0003/-0.0003, tiempo: 1684078298.59 segundos\n",
            "| \u001b[0m170      \u001b[0m | \u001b[0m-0.000293\u001b[0m | \u001b[0m4.392e+03\u001b[0m | \u001b[0m100.1    \u001b[0m | \u001b[0m14.56    \u001b[0m | \u001b[0m0.1047   \u001b[0m |\n",
            "Evaluando con arquitectura (101), Evaluando con arquitectura (41), con lr 0.7427944514355382 y batch_size 9057.  El accuracy de train/val son 0.955/0.957, el loss train/val son 0.0001/-0.0002, tiempo: 1684078298.92 segundos\n",
            "| \u001b[0m171      \u001b[0m | \u001b[0m-0.000152\u001b[0m | \u001b[0m9.057e+03\u001b[0m | \u001b[0m100.8    \u001b[0m | \u001b[0m41.31    \u001b[0m | \u001b[0m0.7428   \u001b[0m |\n",
            "Evaluando con arquitectura (102), Evaluando con arquitectura (39), con lr 0.16431192776181175 y batch_size 4920.  El accuracy de train/val son 0.846/0.835, el loss train/val son 0.0003/-0.0003, tiempo: 1684078298.39 segundos\n",
            "| \u001b[0m172      \u001b[0m | \u001b[0m-0.000265\u001b[0m | \u001b[0m4.92e+03 \u001b[0m | \u001b[0m101.8    \u001b[0m | \u001b[0m39.41    \u001b[0m | \u001b[0m0.1643   \u001b[0m |\n",
            "Evaluando con arquitectura (100), Evaluando con arquitectura (12), con lr 0.8238513458969641 y batch_size 5896.  El accuracy de train/val son 0.960/0.968, el loss train/val son 0.0002/-0.0002, tiempo: 1684078297.56 segundos\n",
            "| \u001b[0m173      \u001b[0m | \u001b[0m-0.000232\u001b[0m | \u001b[0m5.896e+03\u001b[0m | \u001b[0m100.3    \u001b[0m | \u001b[0m12.33    \u001b[0m | \u001b[0m0.8239   \u001b[0m |\n",
            "Evaluando con arquitectura (103), Evaluando con arquitectura (50), con lr 0.8103667489781063 y batch_size 6539.  El accuracy de train/val son 0.962/0.956, el loss train/val son 0.0002/-0.0002, tiempo: 1684078298.78 segundos\n",
            "| \u001b[0m174      \u001b[0m | \u001b[0m-0.000203\u001b[0m | \u001b[0m6.539e+03\u001b[0m | \u001b[0m102.6    \u001b[0m | \u001b[0m49.51    \u001b[0m | \u001b[0m0.8104   \u001b[0m |\n",
            "Evaluando con arquitectura (101), Evaluando con arquitectura (3), con lr 0.6870286047311447 y batch_size 3320.  El accuracy de train/val son 0.867/0.872, el loss train/val son 0.0004/-0.0004, tiempo: 1684078299.11 segundos\n",
            "| \u001b[0m175      \u001b[0m | \u001b[0m-0.000393\u001b[0m | \u001b[0m3.32e+03 \u001b[0m | \u001b[0m100.6    \u001b[0m | \u001b[0m3.458    \u001b[0m | \u001b[0m0.687    \u001b[0m |\n",
            "Evaluando con arquitectura (100), Evaluando con arquitectura (47), con lr 0.6729421518396624 y batch_size 7100.  El accuracy de train/val son 0.963/0.957, el loss train/val son 0.0002/-0.0002, tiempo: 1684078298.09 segundos\n",
            "| \u001b[0m176      \u001b[0m | \u001b[0m-0.000193\u001b[0m | \u001b[0m7.1e+03  \u001b[0m | \u001b[0m100.3    \u001b[0m | \u001b[0m47.16    \u001b[0m | \u001b[0m0.6729   \u001b[0m |\n",
            "Evaluando con arquitectura (248), Evaluando con arquitectura (44), con lr 0.7086096559523967 y batch_size 3285.  El accuracy de train/val son 0.959/0.957, el loss train/val son 0.0004/-0.0004, tiempo: 1684078298.43 segundos\n",
            "| \u001b[0m177      \u001b[0m | \u001b[0m-0.000407\u001b[0m | \u001b[0m3.285e+03\u001b[0m | \u001b[0m247.7    \u001b[0m | \u001b[0m43.88    \u001b[0m | \u001b[0m0.7086   \u001b[0m |\n",
            "Evaluando con arquitectura (249), Evaluando con arquitectura (3), con lr 0.722203936280598 y batch_size 9329.  El accuracy de train/val son 0.877/0.857, el loss train/val son 0.0001/-0.0001, tiempo: 1684078298.88 segundos\n",
            "| \u001b[0m178      \u001b[0m | \u001b[0m-0.000137\u001b[0m | \u001b[0m9.329e+03\u001b[0m | \u001b[0m248.7    \u001b[0m | \u001b[0m2.714    \u001b[0m | \u001b[0m0.7222   \u001b[0m |\n",
            "Evaluando con arquitectura (249), Evaluando con arquitectura (37), con lr 0.675772022124292 y batch_size 5156.  El accuracy de train/val son 0.956/0.962, el loss train/val son 0.0003/-0.0003, tiempo: 1684078299.09 segundos\n",
            "| \u001b[0m179      \u001b[0m | \u001b[0m-0.000264\u001b[0m | \u001b[0m5.156e+03\u001b[0m | \u001b[0m249.3    \u001b[0m | \u001b[0m36.81    \u001b[0m | \u001b[0m0.6758   \u001b[0m |\n",
            "Evaluando con arquitectura (248), Evaluando con arquitectura (1), con lr 0.6588740121877077 y batch_size 4493.  El accuracy de train/val son 0.933/0.897, el loss train/val son 0.0003/-0.0003, tiempo: 1684078298.14 segundos\n",
            "| \u001b[0m180      \u001b[0m | \u001b[0m-0.000287\u001b[0m | \u001b[0m4.493e+03\u001b[0m | \u001b[0m248.4    \u001b[0m | \u001b[0m1.406    \u001b[0m | \u001b[0m0.6589   \u001b[0m |\n",
            "Evaluando con arquitectura (249), Evaluando con arquitectura (4), con lr 0.4728852225221445 y batch_size 8301.  El accuracy de train/val son 0.845/0.852, el loss train/val son 0.0002/-0.0002, tiempo: 1684078299.31 segundos\n",
            "| \u001b[0m181      \u001b[0m | \u001b[0m-0.000157\u001b[0m | \u001b[0m8.301e+03\u001b[0m | \u001b[0m248.7    \u001b[0m | \u001b[0m3.934    \u001b[0m | \u001b[0m0.4729   \u001b[0m |\n",
            "Evaluando con arquitectura (250), Evaluando con arquitectura (37), con lr 0.7539462225410146 y batch_size 4077.  El accuracy de train/val son 0.964/0.955, el loss train/val son 0.0003/-0.0003, tiempo: 1684078300.04 segundos\n",
            "| \u001b[0m182      \u001b[0m | \u001b[0m-0.000325\u001b[0m | \u001b[0m4.077e+03\u001b[0m | \u001b[0m249.8    \u001b[0m | \u001b[0m37.09    \u001b[0m | \u001b[0m0.7539   \u001b[0m |\n",
            "Evaluando con arquitectura (242), Evaluando con arquitectura (43), con lr 0.23958676950876556 y batch_size 9993.  El accuracy de train/val son 0.873/0.878, el loss train/val son 0.0001/-0.0001, tiempo: 1684078299.96 segundos\n",
            "| \u001b[0m183      \u001b[0m | \u001b[0m-0.000136\u001b[0m | \u001b[0m9.993e+03\u001b[0m | \u001b[0m242.4    \u001b[0m | \u001b[0m42.9     \u001b[0m | \u001b[0m0.2396   \u001b[0m |\n",
            "Evaluando con arquitectura (100), Evaluando con arquitectura (49), con lr 0.1703030820614259 y batch_size 4174.  El accuracy de train/val son 0.818/0.831, el loss train/val son 0.0003/-0.0003, tiempo: 1684078299.35 segundos\n",
            "| \u001b[0m184      \u001b[0m | \u001b[0m-0.000315\u001b[0m | \u001b[0m4.174e+03\u001b[0m | \u001b[0m100.3    \u001b[0m | \u001b[0m48.67    \u001b[0m | \u001b[0m0.1703   \u001b[0m |\n",
            "Evaluando con arquitectura (103), Evaluando con arquitectura (1), con lr 0.37874512004423994 y batch_size 9495.  El accuracy de train/val son 0.909/0.872, el loss train/val son 0.0001/-0.0001, tiempo: 1684078298.76 segundos\n",
            "| \u001b[0m185      \u001b[0m | \u001b[0m-0.000137\u001b[0m | \u001b[0m9.495e+03\u001b[0m | \u001b[0m103.4    \u001b[0m | \u001b[0m1.357    \u001b[0m | \u001b[0m0.3787   \u001b[0m |\n",
            "Evaluando con arquitectura (248), Evaluando con arquitectura (2), con lr 0.21654825996768035 y batch_size 6821.  El accuracy de train/val son 0.860/0.837, el loss train/val son 0.0002/-0.0002, tiempo: 1684078299.58 segundos\n",
            "| \u001b[0m186      \u001b[0m | \u001b[0m-0.000195\u001b[0m | \u001b[0m6.821e+03\u001b[0m | \u001b[0m247.7    \u001b[0m | \u001b[0m1.753    \u001b[0m | \u001b[0m0.2165   \u001b[0m |\n",
            "Evaluando con arquitectura (116), Evaluando con arquitectura (50), con lr 0.2721314016373165 y batch_size 7732.  El accuracy de train/val son 0.868/0.867, el loss train/val son 0.0002/-0.0002, tiempo: 1684078299.92 segundos\n",
            "| \u001b[0m187      \u001b[0m | \u001b[0m-0.000170\u001b[0m | \u001b[0m7.732e+03\u001b[0m | \u001b[0m116.0    \u001b[0m | \u001b[0m49.61    \u001b[0m | \u001b[0m0.2721   \u001b[0m |\n",
            "Evaluando con arquitectura (250), Evaluando con arquitectura (14), con lr 0.8946219709490306 y batch_size 8715.  El accuracy de train/val son 0.956/0.954, el loss train/val son 0.0002/-0.0002, tiempo: 1684078299.92 segundos\n",
            "| \u001b[0m188      \u001b[0m | \u001b[0m-0.000152\u001b[0m | \u001b[0m8.715e+03\u001b[0m | \u001b[0m249.6    \u001b[0m | \u001b[0m14.29    \u001b[0m | \u001b[0m0.8946   \u001b[0m |\n",
            "Evaluando con arquitectura (102), Evaluando con arquitectura (49), con lr 0.4421065763035894 y batch_size 8152.  El accuracy de train/val son 0.870/0.890, el loss train/val son 0.0002/-0.0002, tiempo: 1684078299.93 segundos\n",
            "| \u001b[0m189      \u001b[0m | \u001b[0m-0.000159\u001b[0m | \u001b[0m8.152e+03\u001b[0m | \u001b[0m102.2    \u001b[0m | \u001b[0m48.93    \u001b[0m | \u001b[0m0.4421   \u001b[0m |\n",
            "Evaluando con arquitectura (248), Evaluando con arquitectura (50), con lr 0.5573932955276774 y batch_size 4775.  El accuracy de train/val son 0.957/0.954, el loss train/val son 0.0003/-0.0003, tiempo: 1684078298.75 segundos\n",
            "| \u001b[0m190      \u001b[0m | \u001b[0m-0.000285\u001b[0m | \u001b[0m4.775e+03\u001b[0m | \u001b[0m248.3    \u001b[0m | \u001b[0m49.94    \u001b[0m | \u001b[0m0.5574   \u001b[0m |\n",
            "=========================================================================\n"
          ]
        }
      ]
    },
    {
      "cell_type": "code",
      "source": [
        "optimizer.max"
      ],
      "metadata": {
        "colab": {
          "base_uri": "https://localhost:8080/"
        },
        "id": "u-xhUterczqu",
        "outputId": "7d07dbfe-1d9e-469a-8f62-3deaa5f2d15f"
      },
      "execution_count": null,
      "outputs": [
        {
          "output_type": "execute_result",
          "data": {
            "text/plain": [
              "{'target': -0.008995979272862985,\n",
              " 'params': {'batch_size': 766.4989014306193,\n",
              "  'hidden_1': 251.0215975437898,\n",
              "  'learning_rate': 0.011749752052049553}}"
            ]
          },
          "metadata": {},
          "execution_count": 51
        }
      ]
    },
    {
      "cell_type": "code",
      "source": [
        "# limpieza de modelos precedentes\n",
        "reset_seed()\n",
        "    \n",
        "epocas=100\n",
        "hidden_1 = 115\n",
        "hidden_2 = 30\n",
        "batch_size = 1024\n",
        "learning_rate = 0.01\n",
        "   \n",
        "#model, losses_train, accs_train, losses_test, accs_test, tiempo = train_model(\n",
        "#    train_batch_size=1024, inter_dense1 = 115, inter_dense2 = 30, learning_rate = 0.02, epocas=40, device=DEVICE, verbose=True, patience=10)\n",
        "\n",
        "# Data loader con el batch size de entrenamiento modificado\n",
        "train_loader = torch.utils.data.DataLoader(trainloader, batch_size=batch_size, shuffle=True, num_workers=2)\n",
        "\n",
        "# Ciclo de entrenamiento\n",
        "model, losses_train, accs_train, losses_val, accs_val, tiempo = train_model(\n",
        "    train_batch_size=batch_size, inter_dense1=hidden_1, inter_dense2 = hidden_2, learning_rate=learning_rate, epocas=epocas, verbose=True)\n",
        "\n",
        "train_loss, train_acc = losses_train[epocas-1], accs_train[epocas-1]\n",
        "val_loss, val_acc = losses_val[epocas-1], accs_val[epocas-1]"
      ],
      "metadata": {
        "colab": {
          "base_uri": "https://localhost:8080/"
        },
        "id": "v2AC7rBbc2lH",
        "outputId": "d4886445-84e8-49df-d3d1-2344d61bc9a3"
      },
      "execution_count": null,
      "outputs": [
        {
          "output_type": "stream",
          "name": "stdout",
          "text": [
            "0: loss train: 0.001612, accuracy train: 0.733690, loss val: 0.009239, accuracy val: 0.644374, -- epoch time: 9.54\n",
            "1: loss train: 0.001548, accuracy train: 0.754164, loss val: 0.009033, accuracy val: 0.783556, -- epoch time: 9.42\n",
            "2: loss train: 0.001529, accuracy train: 0.766190, loss val: 0.009110, accuracy val: 0.761589, -- epoch time: 5.29\n",
            "3: loss train: 0.001524, accuracy train: 0.777250, loss val: 0.009300, accuracy val: 0.742468, -- epoch time: 4.01\n",
            "4: loss train: 0.001513, accuracy train: 0.774685, loss val: 0.009164, accuracy val: 0.807683, -- epoch time: 4.79\n",
            "5: loss train: 0.001506, accuracy train: 0.780261, loss val: 0.009032, accuracy val: 0.793458, -- epoch time: 4.65\n",
            "6: loss train: 0.001501, accuracy train: 0.784439, loss val: 0.009070, accuracy val: 0.806781, -- epoch time: 4.14\n",
            "7: loss train: 0.001495, accuracy train: 0.781927, loss val: 0.009111, accuracy val: 0.807170, -- epoch time: 4.63\n",
            "8: loss train: 0.001491, accuracy train: 0.792141, loss val: 0.009124, accuracy val: 0.755868, -- epoch time: 4.52\n",
            "9: loss train: 0.001486, accuracy train: 0.784419, loss val: 0.009072, accuracy val: 0.805491, -- epoch time: 4.07\n",
            "10: loss train: 0.001485, accuracy train: 0.789462, loss val: 0.009174, accuracy val: 0.728617, -- epoch time: 4.34\n",
            "11: loss train: 0.001475, accuracy train: 0.789982, loss val: 0.009112, accuracy val: 0.771274, -- epoch time: 5.12\n",
            "12: loss train: 0.001474, accuracy train: 0.789962, loss val: 0.009094, accuracy val: 0.777368, -- epoch time: 3.94\n",
            "13: loss train: 0.001467, accuracy train: 0.792287, loss val: 0.009360, accuracy val: 0.800765, -- epoch time: 4.28\n",
            "14: loss train: 0.001460, accuracy train: 0.794673, loss val: 0.009268, accuracy val: 0.760252, -- epoch time: 5.14\n",
            "15: loss train: 0.001455, accuracy train: 0.791148, loss val: 0.009209, accuracy val: 0.784504, -- epoch time: 3.97\n",
            "16: loss train: 0.001452, accuracy train: 0.792807, loss val: 0.009170, accuracy val: 0.789805, -- epoch time: 4.21\n",
            "17: loss train: 0.001450, accuracy train: 0.796725, loss val: 0.009356, accuracy val: 0.767543, -- epoch time: 5.30\n",
            "18: loss train: 0.001441, accuracy train: 0.796811, loss val: 0.009270, accuracy val: 0.815704, -- epoch time: 3.98\n",
            "19: loss train: 0.001435, accuracy train: 0.797451, loss val: 0.009361, accuracy val: 0.785887, -- epoch time: 3.98\n",
            "20: loss train: 0.001433, accuracy train: 0.797044, loss val: 0.009483, accuracy val: 0.753366, -- epoch time: 7.36\n",
            "21: loss train: 0.001432, accuracy train: 0.800309, loss val: 0.009356, accuracy val: 0.790520, -- epoch time: 3.95\n",
            "22: loss train: 0.001425, accuracy train: 0.798430, loss val: 0.009612, accuracy val: 0.809828, -- epoch time: 4.50\n",
            "23: loss train: 0.001421, accuracy train: 0.802854, loss val: 0.009747, accuracy val: 0.791266, -- epoch time: 5.35\n",
            "24: loss train: 0.001416, accuracy train: 0.801935, loss val: 0.009603, accuracy val: 0.812378, -- epoch time: 4.09\n",
            "25: loss train: 0.001407, accuracy train: 0.800316, loss val: 0.009846, accuracy val: 0.764061, -- epoch time: 4.64\n",
            "26: loss train: 0.001407, accuracy train: 0.798011, loss val: 0.009794, accuracy val: 0.788375, -- epoch time: 4.66\n",
            "27: loss train: 0.001401, accuracy train: 0.805766, loss val: 0.010026, accuracy val: 0.784411, -- epoch time: 4.00\n",
            "28: loss train: 0.001396, accuracy train: 0.802628, loss val: 0.009525, accuracy val: 0.800252, -- epoch time: 4.37\n",
            "29: loss train: 0.001389, accuracy train: 0.805692, loss val: 0.010407, accuracy val: 0.769207, -- epoch time: 4.97\n",
            "30: loss train: 0.001385, accuracy train: 0.804247, loss val: 0.010050, accuracy val: 0.778938, -- epoch time: 3.96\n",
            "31: loss train: 0.001386, accuracy train: 0.807218, loss val: 0.010122, accuracy val: 0.804014, -- epoch time: 4.23\n",
            "32: loss train: 0.001378, accuracy train: 0.802981, loss val: 0.009885, accuracy val: 0.824115, -- epoch time: 5.19\n",
            "33: loss train: 0.001378, accuracy train: 0.805986, loss val: 0.010389, accuracy val: 0.796303, -- epoch time: 3.96\n",
            "34: loss train: 0.001373, accuracy train: 0.805926, loss val: 0.010749, accuracy val: 0.788530, -- epoch time: 4.10\n",
            "35: loss train: 0.001367, accuracy train: 0.805832, loss val: 0.010428, accuracy val: 0.791997, -- epoch time: 5.23\n",
            "36: loss train: 0.001364, accuracy train: 0.806032, loss val: 0.010999, accuracy val: 0.807372, -- epoch time: 4.80\n",
            "37: loss train: 0.001365, accuracy train: 0.806212, loss val: 0.010595, accuracy val: 0.797920, -- epoch time: 4.26\n",
            "38: loss train: 0.001358, accuracy train: 0.804600, loss val: 0.010421, accuracy val: 0.771539, -- epoch time: 4.99\n",
            "39: loss train: 0.001355, accuracy train: 0.808224, loss val: 0.010754, accuracy val: 0.771912, -- epoch time: 3.91\n",
            "40: loss train: 0.001356, accuracy train: 0.806246, loss val: 0.010314, accuracy val: 0.773404, -- epoch time: 4.15\n",
            "41: loss train: 0.001357, accuracy train: 0.808824, loss val: 0.011084, accuracy val: 0.776964, -- epoch time: 5.21\n",
            "42: loss train: 0.001343, accuracy train: 0.802395, loss val: 0.010548, accuracy val: 0.787784, -- epoch time: 4.13\n",
            "43: loss train: 0.001339, accuracy train: 0.806978, loss val: 0.011400, accuracy val: 0.810963, -- epoch time: 4.23\n",
            "44: loss train: 0.001341, accuracy train: 0.810276, loss val: 0.011380, accuracy val: 0.792292, -- epoch time: 5.31\n",
            "45: loss train: 0.001333, accuracy train: 0.814400, loss val: 0.010993, accuracy val: 0.778426, -- epoch time: 3.92\n",
            "46: loss train: 0.001341, accuracy train: 0.809150, loss val: 0.010994, accuracy val: 0.796567, -- epoch time: 4.12\n",
            "47: loss train: 0.001335, accuracy train: 0.809057, loss val: 0.011844, accuracy val: 0.789168, -- epoch time: 5.29\n",
            "48: loss train: 0.001332, accuracy train: 0.810649, loss val: 0.012207, accuracy val: 0.773155, -- epoch time: 3.94\n",
            "49: loss train: 0.001325, accuracy train: 0.809810, loss val: 0.011620, accuracy val: 0.787007, -- epoch time: 4.04\n",
            "50: loss train: 0.001327, accuracy train: 0.812142, loss val: 0.011714, accuracy val: 0.795262, -- epoch time: 5.81\n",
            "51: loss train: 0.001331, accuracy train: 0.814054, loss val: 0.012360, accuracy val: 0.759071, -- epoch time: 4.09\n",
            "52: loss train: 0.001327, accuracy train: 0.810043, loss val: 0.011608, accuracy val: 0.795837, -- epoch time: 3.94\n",
            "53: loss train: 0.001316, accuracy train: 0.810749, loss val: 0.012014, accuracy val: 0.806392, -- epoch time: 5.64\n",
            "54: loss train: 0.001320, accuracy train: 0.812682, loss val: 0.012137, accuracy val: 0.821099, -- epoch time: 3.92\n",
            "55: loss train: 0.001315, accuracy train: 0.813321, loss val: 0.012466, accuracy val: 0.784955, -- epoch time: 3.94\n",
            "56: loss train: 0.001307, accuracy train: 0.811069, loss val: 0.012599, accuracy val: 0.795821, -- epoch time: 5.72\n",
            "57: loss train: 0.001308, accuracy train: 0.811609, loss val: 0.012791, accuracy val: 0.791126, -- epoch time: 3.97\n",
            "58: loss train: 0.001301, accuracy train: 0.811336, loss val: 0.012659, accuracy val: 0.783649, -- epoch time: 4.17\n",
            "59: loss train: 0.001302, accuracy train: 0.813381, loss val: 0.012816, accuracy val: 0.776809, -- epoch time: 5.59\n",
            "60: loss train: 0.001304, accuracy train: 0.815013, loss val: 0.013324, accuracy val: 0.807450, -- epoch time: 4.03\n",
            "61: loss train: 0.001299, accuracy train: 0.811829, loss val: 0.013219, accuracy val: 0.798588, -- epoch time: 4.08\n",
            "62: loss train: 0.001306, accuracy train: 0.813674, loss val: 0.013013, accuracy val: 0.785421, -- epoch time: 5.57\n",
            "63: loss train: 0.001300, accuracy train: 0.818205, loss val: 0.012685, accuracy val: 0.787706, -- epoch time: 4.08\n",
            "64: loss train: 0.001297, accuracy train: 0.817279, loss val: 0.013611, accuracy val: 0.772922, -- epoch time: 3.95\n",
            "65: loss train: 0.001289, accuracy train: 0.815333, loss val: 0.013872, accuracy val: 0.797485, -- epoch time: 5.45\n",
            "66: loss train: 0.001290, accuracy train: 0.816772, loss val: 0.013733, accuracy val: 0.779669, -- epoch time: 3.96\n",
            "67: loss train: 0.001291, accuracy train: 0.812209, loss val: 0.013230, accuracy val: 0.776529, -- epoch time: 3.93\n",
            "68: loss train: 0.001287, accuracy train: 0.816173, loss val: 0.014122, accuracy val: 0.822218, -- epoch time: 5.23\n",
            "69: loss train: 0.001299, accuracy train: 0.815486, loss val: 0.013308, accuracy val: 0.772969, -- epoch time: 4.03\n",
            "70: loss train: 0.001291, accuracy train: 0.813441, loss val: 0.012900, accuracy val: 0.805382, -- epoch time: 4.12\n",
            "71: loss train: 0.001286, accuracy train: 0.815120, loss val: 0.013130, accuracy val: 0.781939, -- epoch time: 5.12\n",
            "72: loss train: 0.001290, accuracy train: 0.815493, loss val: 0.014099, accuracy val: 0.797702, -- epoch time: 4.19\n",
            "73: loss train: 0.001280, accuracy train: 0.816739, loss val: 0.014494, accuracy val: 0.759304, -- epoch time: 3.99\n",
            "74: loss train: 0.001282, accuracy train: 0.817918, loss val: 0.014273, accuracy val: 0.798464, -- epoch time: 4.57\n",
            "75: loss train: 0.001283, accuracy train: 0.813541, loss val: 0.014746, accuracy val: 0.796738, -- epoch time: 4.58\n",
            "76: loss train: 0.001290, accuracy train: 0.818105, loss val: 0.013665, accuracy val: 0.783291, -- epoch time: 3.94\n",
            "77: loss train: 0.001283, accuracy train: 0.816719, loss val: 0.014526, accuracy val: 0.795199, -- epoch time: 4.48\n",
            "78: loss train: 0.001276, accuracy train: 0.819397, loss val: 0.013693, accuracy val: 0.788639, -- epoch time: 4.94\n",
            "79: loss train: 0.001280, accuracy train: 0.816486, loss val: 0.014973, accuracy val: 0.796738, -- epoch time: 3.93\n",
            "80: loss train: 0.001274, accuracy train: 0.817832, loss val: 0.014774, accuracy val: 0.774181, -- epoch time: 4.30\n",
            "81: loss train: 0.001278, accuracy train: 0.814420, loss val: 0.014161, accuracy val: 0.826571, -- epoch time: 5.06\n",
            "82: loss train: 0.001264, accuracy train: 0.822302, loss val: 0.015633, accuracy val: 0.785561, -- epoch time: 3.96\n",
            "83: loss train: 0.001271, accuracy train: 0.819391, loss val: 0.014626, accuracy val: 0.808056, -- epoch time: 4.21\n",
            "84: loss train: 0.001271, accuracy train: 0.818385, loss val: 0.014743, accuracy val: 0.806501, -- epoch time: 5.43\n",
            "85: loss train: 0.001264, accuracy train: 0.818884, loss val: 0.014487, accuracy val: 0.774974, -- epoch time: 4.08\n",
            "86: loss train: 0.001268, accuracy train: 0.817692, loss val: 0.015500, accuracy val: 0.794982, -- epoch time: 4.27\n",
            "87: loss train: 0.001273, accuracy train: 0.820084, loss val: 0.015692, accuracy val: 0.795215, -- epoch time: 5.24\n",
            "88: loss train: 0.001272, accuracy train: 0.818431, loss val: 0.015503, accuracy val: 0.812331, -- epoch time: 3.91\n",
            "89: loss train: 0.001264, accuracy train: 0.818551, loss val: 0.015097, accuracy val: 0.805320, -- epoch time: 3.92\n",
            "90: loss train: 0.001264, accuracy train: 0.821163, loss val: 0.015140, accuracy val: 0.803237, -- epoch time: 5.57\n",
            "91: loss train: 0.001256, accuracy train: 0.820777, loss val: 0.015943, accuracy val: 0.795028, -- epoch time: 4.03\n",
            "92: loss train: 0.001255, accuracy train: 0.818545, loss val: 0.017585, accuracy val: 0.774275, -- epoch time: 3.96\n",
            "93: loss train: 0.001264, accuracy train: 0.819297, loss val: 0.015801, accuracy val: 0.783493, -- epoch time: 5.75\n",
            "94: loss train: 0.001262, accuracy train: 0.817772, loss val: 0.016356, accuracy val: 0.804776, -- epoch time: 3.95\n",
            "95: loss train: 0.001258, accuracy train: 0.816772, loss val: 0.015753, accuracy val: 0.800982, -- epoch time: 3.92\n",
            "96: loss train: 0.001262, accuracy train: 0.819717, loss val: 0.015455, accuracy val: 0.814958, -- epoch time: 5.59\n",
            "97: loss train: 0.001258, accuracy train: 0.816786, loss val: 0.017011, accuracy val: 0.806097, -- epoch time: 3.99\n",
            "98: loss train: 0.001256, accuracy train: 0.818691, loss val: 0.016321, accuracy val: 0.770093, -- epoch time: 3.91\n",
            "99: loss train: 0.001255, accuracy train: 0.816786, loss val: 0.017194, accuracy val: 0.801278, -- epoch time: 5.43\n"
          ]
        }
      ]
    },
    {
      "cell_type": "code",
      "source": [
        "fig = plt.figure(figsize=(15, 6))\n",
        "\n",
        "ax = fig.add_subplot(1, 2, 1)\n",
        "ax.plot([t.cpu().numpy() for t in accs_train])  # Convierte cada tensor en un array de NumPy\n",
        "ax.plot([t.cpu().numpy() for t in accs_val])  # Convierte cada tensor en un array de NumPy\n",
        "plt.title('Model Accuracy')\n",
        "plt.ylabel('Accuracy')\n",
        "plt.xlabel('Epoch')\n",
        "plt.legend(['Train', 'Val'], loc='upper left')\n",
        "\n",
        "ax = fig.add_subplot(1, 2, 2)\n",
        "ax.plot(losses_train)  # No es necesario llamar a .cpu() ni a .numpy()\n",
        "ax.plot(losses_val)  # No es necesario llamar a .cpu() ni a .numpy()\n",
        "plt.title('Model Loss')\n",
        "plt.ylabel('Loss')\n",
        "plt.xlabel('Epoch')\n",
        "plt.legend(['Train', 'Val'], loc='upper left')\n",
        "\n",
        "_ = plt.show()\n"
      ],
      "metadata": {
        "id": "E4EebYAEfu0h"
      },
      "execution_count": null,
      "outputs": []
    },
    {
      "cell_type": "markdown",
      "source": [
        "# T-SNE"
      ],
      "metadata": {
        "id": "p41C-xzuBdc1"
      }
    },
    {
      "cell_type": "code",
      "source": [
        "w = list(model.parameters())\n",
        "embed_dict = {col: (categ_cols_mapping[col][0], w[i].detach().cpu().numpy()) for i, col in enumerate(categ_cols)}"
      ],
      "metadata": {
        "id": "bLg0fLl2BgfR"
      },
      "execution_count": null,
      "outputs": []
    },
    {
      "cell_type": "code",
      "source": [
        "def plot_embed(embed_dict, col, perplexity = 2, n = 2 ):\n",
        "    \"\"\"\n",
        "    Función que genera una visualización en menor dimensionalidad de un embedding\n",
        "    Input:\n",
        "    embed_dict (diccionario): Diccionario de embeddings\n",
        "    col (string): Nombre de variable categórica\n",
        "    perplexity (float): Parámetro utilizado por el TSNE para calcular la \n",
        "    representación.\n",
        "    n (int): Dimensionalidad de la representación resultante de TSNE.\n",
        "    \"\"\"\n",
        "    # Primero instanciamos TSNE\n",
        "    tsne = TSNE(n_components = n, init='pca', random_state=43, \n",
        "          method='exact', perplexity=perplexity)\n",
        "    # Ajustamos a nuestro embedding original obteniendo la representacion TSNE.\n",
        "    X_embed = tsne.fit_transform(embed_dict[col][1])\n",
        "\n",
        "    # Creamos un objeto para visualizar la representación TSNE.\n",
        "    fig, ax = plt.subplots(nrows = 1, ncols = 1, figsize = (5, 5))\n",
        "    # Graficamos la representación (data)\n",
        "    ax.scatter(X_embed[:,0], X_embed[:,1])\n",
        "    ax.set_title('TSNE - ' + col) # titulo\n",
        "\n",
        "    # Etiquetamos cada punto para mayor claridad\n",
        "    texts = [ax.text(X_embed[i,0], X_embed[i,1], txt) for i, \n",
        "       txt in enumerate(embed_dict[col][0])]\n",
        "\n",
        "    # Utilizamos la función adjust_text para mejor distinción de cada etiqueta\n",
        "    adjust_text(texts)"
      ],
      "metadata": {
        "id": "UlcxFQE2BiEo"
      },
      "execution_count": null,
      "outputs": []
    },
    {
      "cell_type": "code",
      "source": [
        "plot_embed(embed_dict = embed_dict, col= 'CLASI_ETNIA',  perplexity = 2)"
      ],
      "metadata": {
        "colab": {
          "base_uri": "https://localhost:8080/",
          "height": 467
        },
        "id": "AxMLHzS-Bjgz",
        "outputId": "8b417947-c989-4784-de4e-8ab4c487e771"
      },
      "execution_count": null,
      "outputs": [
        {
          "output_type": "display_data",
          "data": {
            "text/plain": [
              "<Figure size 500x500 with 1 Axes>"
            ],
            "image/png": "[encoded data removed]"
          },
          "metadata": {}
        }
      ]
    },
    {
      "cell_type": "code",
      "source": [
        "plot_embed(embed_dict = embed_dict, col= 'TIPO_DISCAPACIDAD',  perplexity = 2)"
      ],
      "metadata": {
        "colab": {
          "base_uri": "https://localhost:8080/",
          "height": 467
        },
        "id": "YA2B9K4_wptP",
        "outputId": "5e618ef7-14c5-4457-fa71-d79c7a3a135b"
      },
      "execution_count": null,
      "outputs": [
        {
          "output_type": "display_data",
          "data": {
            "text/plain": [
              "<Figure size 500x500 with 1 Axes>"
            ],
            "image/png": "[encoded data removed]"
          },
          "metadata": {}
        }
      ]
    },
    {
      "cell_type": "code",
      "source": [
        "plot_embed(embed_dict = embed_dict, col= 'RES_MUN',  perplexity = 2)"
      ],
      "metadata": {
        "id": "erAJaIqDDjVk"
      },
      "execution_count": null,
      "outputs": []
    }
  ]
}